{
 "cells": [
  {
   "cell_type": "markdown",
   "metadata": {},
   "source": [
    "# Usage introduction\n",
    "> This notebook will introduce the steps to use the server api to decide if a new publication belongs to an author in academicworld database\n",
    "1. Connect to the UIUC VPN.\n",
    "2. Send a GET request to http://128.174.136.27:5000 with following parameters included:\n",
    "    + **target**: integer, the id of the author in academicworld database\n",
    "    + **title**: string, the title of the new publication\n",
    "    + **abstract**: string, the abstract for the new publication\n",
    "3. The feedback is a string in JSON format. The feedback contains the following fields:\n",
    "    + **co_author_score**: float, the score describe how likely the new publication is published by this author from the co-author perspective\n",
    "    + **co_author_conclusion**: boolean, according to the **co_author_score**, whether this new publication should belong to this author (emperical threshold: 0.65)\n",
    "    + **semantic_score**: float, the score describe how likely the new publication is published by this author from the semantic perspective\n",
    "    + **semantic_conclusion**: boolean, according to the **semantic_score**, whether this new publication should belong to this author (emperical threshold: 0.73)\n",
    "\n",
    "**Note**: \n",
    "+ Since querying the whole Microsoft Academic Graph for co-author measure is still too time consuming in real time, we use a smaller collection focused on publication in CS domain. Therefore, the **co_author_score** may be **not available** due to some \"author not found\" or \"publication not found\" cases. In those cases, the **co_author_score** will be *null* and **co_author_conclusion** will be *false*.\n",
    "+ On the other hand, **semantic_score** and **semantic_conclusion** will always be available if the inputs are all valid.\n",
    "\n",
    "Below is a piece of python code for example."
   ]
  },
  {
   "cell_type": "code",
   "execution_count": 3,
   "metadata": {},
   "outputs": [
    {
     "name": "stdout",
     "output_type": "stream",
     "text": [
      "b'{\"co_author_conclusion\":true,\"co_author_score\":0.9999999761581421,\"semantic_conclusion\":true,\"semantic_score\":0.9999785423278809}\\n'\n"
     ]
    }
   ],
   "source": [
    "import requests\n",
    "\n",
    "r = requests.get(url='http://128.174.136.28:5000', params={'target' : 657, # Jiawei Han\n",
    "                                                           'title' : 'a multi graph spectral framework for mining multi source anomalies', \n",
    "                                                           'abstract' : 'Anomaly detection refers to the task of detecting objects whose characteristics deviate significantly from the majority of the data [5]. It is widely used in a variety of domains, such as intrusion detection, fraud detection, and health monitoring. Today’s information explosion generates significant challenges for anomaly detection when there exist many large, distributed data repositories consisting of a variety of data sources and formats.',\n",
    "                                                           'coauthor' : str(['nan du', 'jing gao', \n",
    "                                                                            #  'jiawei han', \n",
    "                                                                            'wei fan', 'srinivasan parthasarathy', 'deepak s turaga'])})\n",
    "print(r.content)"
   ]
  },
  {
   "cell_type": "code",
   "execution_count": null,
   "metadata": {},
   "outputs": [],
   "source": [
    "# Create 3000 more difficult negative samples -- getting unknown paper from co-author that does not include the target author, such that the subject area are close"
   ]
  }
 ],
 "metadata": {
  "kernelspec": {
   "display_name": "Python 3.9.13 ('cs411')",
   "language": "python",
   "name": "python3"
  },
  "language_info": {
   "codemirror_mode": {
    "name": "ipython",
    "version": 3
   },
   "file_extension": ".py",
   "mimetype": "text/x-python",
   "name": "python",
   "nbconvert_exporter": "python",
   "pygments_lexer": "ipython3",
   "version": "3.9.13"
  },
  "orig_nbformat": 4,
  "vscode": {
   "interpreter": {
    "hash": "4ca6063fe62b821c1665fb18072a375e434b026c8100827d8e7f9b4d29d89147"
   }
  }
 },
 "nbformat": 4,
 "nbformat_minor": 2
}
