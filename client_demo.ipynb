{
 "cells": [
  {
   "cell_type": "markdown",
   "metadata": {},
   "source": [
    "# Usage introduction\n",
    "> This notebook will introduce the steps to use the server api to decide if a new publication belongs to an author in academicworld database\n",
    "1. Connect to the UIUC VPN.\n",
    "2. Send a GET request to http://128.174.136.27:5000 with following parameters included:\n",
    "    + **target**: integer, the id of the author in academicworld database\n",
    "    + **title**: string, the title of the new publication\n",
    "    + **abstract**: string, the abstract for the new publication\n",
    "3. The feedback is a string in JSON format. The feedback contains the following fields:\n",
    "    + **score**: float, the overall score describe how likely the new publication is published by this author\n",
    "    + **semantic_score**: float, the score describe how likely the new publication is published by this author from the semantic perspective\n",
    "    + **belongs**: boolen, according to the score, whether this new publication should belong to this author\n",
    "\n",
    "Below is a piece of python code for example."
   ]
  },
  {
   "cell_type": "code",
   "execution_count": 2,
   "metadata": {},
   "outputs": [
    {
     "name": "stdout",
     "output_type": "stream",
     "text": [
      "b'{\"belongs\":true,\"score\":0.9999966621398926,\"semantic_score\":0.9999966621398926}\\n'\n"
     ]
    }
   ],
   "source": [
    "import requests\n",
    "\n",
    "r = requests.get(url='http://128.174.136.27:5000', params={'target' : 2404, 'title' : 'designing energy efficient convolutional neural networks using energy aware pruning', 'abstract' : 'Deep convolutional neural networks (CNNs) are indispensable to state-of-the-art computer vision algorithms. However, they are still rarely deployed on battery-powered mobile devices, such as smartphones and wearable gadgets, where vision algorithms can enable many revolutionary real-world applications. The key limiting factor is the high energy consumption of CNN processing due to its high computational complexity. While there are many previous efforts that try to reduce the CNN model size or the amount of computation, we find that they do not necessarily result in lower energy consumption. Therefore, these targets do not serve as a good metric for energy cost estimation. To close the gap between CNN design and energy consumption optimization, we propose an energy-aware pruning algorithm for CNNs that directly uses the energy consumption of a CNN to guide the pruning process. The energy estimation methodology uses parameters extrapolated from actual hardware measurements. The proposed layer-by-layer pruning algorithm also prunes more aggressively than previously proposed pruning methods by minimizing the error in the output feature maps instead of the filter weights. For each layer, the weights are first pruned and then locally fine-tuned with a closed-form least-square solution to quickly restore the accuracy. After all layers are pruned, the entire network is globally fine-tuned using back-propagation. With the proposed pruning method, the energy consumption of AlexNet and GoogLeNet is reduced by 3.7x and 1.6x, respectively, with less than 1% top-5 accuracy loss. We also show that reducing the number of target classes in AlexNet greatly decreases the number of weights, but has a limited impact on energy consumption.'})\n",
    "print(r.content)"
   ]
  }
 ],
 "metadata": {
  "interpreter": {
   "hash": "a9c7e6a376f2381ce584cd33259e87a1795226bafbf9464c983b7a0ecc23664a"
  },
  "kernelspec": {
   "display_name": "Python 3.9.12 ('test2')",
   "language": "python",
   "name": "python3"
  },
  "language_info": {
   "codemirror_mode": {
    "name": "ipython",
    "version": 3
   },
   "file_extension": ".py",
   "mimetype": "text/x-python",
   "name": "python",
   "nbconvert_exporter": "python",
   "pygments_lexer": "ipython3",
   "version": "3.9.12"
  },
  "orig_nbformat": 4
 },
 "nbformat": 4,
 "nbformat_minor": 2
}
