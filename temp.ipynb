{
 "cells": [
  {
   "cell_type": "code",
   "execution_count": 55,
   "metadata": {},
   "outputs": [],
   "source": [
    "from sentence_transformers import SentenceTransformer, util\n",
    "import pandas as pd\n",
    "import networkx as nx\n",
    "from matplotlib import pyplot as plt\n",
    "from copy import deepcopy\n",
    "import random\n",
    "from tqdm import tqdm\n",
    "from collections import defaultdict\n",
    "import mysql.connector\n",
    "import json\n",
    "import pickle\n",
    "import requests\n",
    "from statistics import mean\n",
    "from typing import List, Dict\n",
    "from itertools import combinations\n",
    "from torch_geometric.utils import from_networkx\n",
    "from torch_geometric.loader import NeighborLoader\n",
    "import torch\n",
    "from cs411_util import generate_graphs, get_pub_info_from_mysql\n",
    "from disambiguation import Net"
   ]
  },
  {
   "cell_type": "markdown",
   "metadata": {},
   "source": [
    "## Collect data"
   ]
  },
  {
   "cell_type": "markdown",
   "metadata": {},
   "source": [
    "### MAG_CS"
   ]
  },
  {
   "cell_type": "code",
   "execution_count": 2,
   "metadata": {},
   "outputs": [
    {
     "data": {
      "text/html": [
       "<div>\n",
       "<style scoped>\n",
       "    .dataframe tbody tr th:only-of-type {\n",
       "        vertical-align: middle;\n",
       "    }\n",
       "\n",
       "    .dataframe tbody tr th {\n",
       "        vertical-align: top;\n",
       "    }\n",
       "\n",
       "    .dataframe thead th {\n",
       "        text-align: right;\n",
       "    }\n",
       "</style>\n",
       "<table border=\"1\" class=\"dataframe\">\n",
       "  <thead>\n",
       "    <tr style=\"text-align: right;\">\n",
       "      <th></th>\n",
       "      <th>PaperId</th>\n",
       "      <th>PublishYear</th>\n",
       "      <th>NormalizedTitle</th>\n",
       "      <th>VenueId</th>\n",
       "      <th>DetectedLanguage</th>\n",
       "      <th>DocType</th>\n",
       "      <th>EstimatedCitation</th>\n",
       "    </tr>\n",
       "  </thead>\n",
       "  <tbody>\n",
       "    <tr>\n",
       "      <th>0</th>\n",
       "      <td>2357104884</td>\n",
       "      <td>2002</td>\n",
       "      <td>on the position and function of references in ...</td>\n",
       "      <td>2764343798</td>\n",
       "      <td>NaN</td>\n",
       "      <td>Journal</td>\n",
       "      <td>0</td>\n",
       "    </tr>\n",
       "    <tr>\n",
       "      <th>1</th>\n",
       "      <td>2367103297</td>\n",
       "      <td>2003</td>\n",
       "      <td>technology of modeling on multimedia simulatio...</td>\n",
       "      <td>2764343798</td>\n",
       "      <td>NaN</td>\n",
       "      <td>Journal</td>\n",
       "      <td>0</td>\n",
       "    </tr>\n",
       "    <tr>\n",
       "      <th>2</th>\n",
       "      <td>2374179795</td>\n",
       "      <td>2001</td>\n",
       "      <td>synchronization after stepout in the exciting ...</td>\n",
       "      <td>2764343798</td>\n",
       "      <td>NaN</td>\n",
       "      <td>Journal</td>\n",
       "      <td>0</td>\n",
       "    </tr>\n",
       "    <tr>\n",
       "      <th>3</th>\n",
       "      <td>2382299349</td>\n",
       "      <td>2005</td>\n",
       "      <td>the design for lumping monitored control syste...</td>\n",
       "      <td>2764343798</td>\n",
       "      <td>NaN</td>\n",
       "      <td>Journal</td>\n",
       "      <td>0</td>\n",
       "    </tr>\n",
       "    <tr>\n",
       "      <th>4</th>\n",
       "      <td>2378847813</td>\n",
       "      <td>2005</td>\n",
       "      <td>the communication method between ironmaking ma...</td>\n",
       "      <td>2764343798</td>\n",
       "      <td>NaN</td>\n",
       "      <td>Journal</td>\n",
       "      <td>0</td>\n",
       "    </tr>\n",
       "  </tbody>\n",
       "</table>\n",
       "</div>"
      ],
      "text/plain": [
       "      PaperId  PublishYear                                    NormalizedTitle  \\\n",
       "0  2357104884         2002  on the position and function of references in ...   \n",
       "1  2367103297         2003  technology of modeling on multimedia simulatio...   \n",
       "2  2374179795         2001  synchronization after stepout in the exciting ...   \n",
       "3  2382299349         2005  the design for lumping monitored control syste...   \n",
       "4  2378847813         2005  the communication method between ironmaking ma...   \n",
       "\n",
       "      VenueId DetectedLanguage  DocType  EstimatedCitation  \n",
       "0  2764343798              NaN  Journal                  0  \n",
       "1  2764343798              NaN  Journal                  0  \n",
       "2  2764343798              NaN  Journal                  0  \n",
       "3  2764343798              NaN  Journal                  0  \n",
       "4  2764343798              NaN  Journal                  0  "
      ]
     },
     "execution_count": 2,
     "metadata": {},
     "output_type": "execute_result"
    }
   ],
   "source": [
    "data_dir = 'MAG_0919_CS/'\n",
    "Papers = data_dir + 'Papers_CS_20190919.tsv'\n",
    "papers_df = pd.read_csv(Papers, sep='\\t')\n",
    "papers_df.head()"
   ]
  },
  {
   "cell_type": "code",
   "execution_count": 3,
   "metadata": {},
   "outputs": [
    {
     "name": "stderr",
     "output_type": "stream",
     "text": [
      "100%|██████████| 5597605/5597605 [00:05<00:00, 1073874.36it/s]\n"
     ]
    }
   ],
   "source": [
    "pid2infos = {item['PaperId'] : {'title' : item['NormalizedTitle'], 'year' : item['PublishYear']} for item in tqdm(papers_df[['PaperId', 'NormalizedTitle', 'PublishYear']].to_dict('records'))}"
   ]
  },
  {
   "cell_type": "code",
   "execution_count": 4,
   "metadata": {},
   "outputs": [
    {
     "data": {
      "text/html": [
       "<div>\n",
       "<style scoped>\n",
       "    .dataframe tbody tr th:only-of-type {\n",
       "        vertical-align: middle;\n",
       "    }\n",
       "\n",
       "    .dataframe tbody tr th {\n",
       "        vertical-align: top;\n",
       "    }\n",
       "\n",
       "    .dataframe thead th {\n",
       "        text-align: right;\n",
       "    }\n",
       "</style>\n",
       "<table border=\"1\" class=\"dataframe\">\n",
       "  <thead>\n",
       "    <tr style=\"text-align: right;\">\n",
       "      <th></th>\n",
       "      <th>PaperId</th>\n",
       "      <th>Abstract</th>\n",
       "    </tr>\n",
       "  </thead>\n",
       "  <tbody>\n",
       "    <tr>\n",
       "      <th>0</th>\n",
       "      <td>1963479517</td>\n",
       "      <td>This study investigated EFL learners' online r...</td>\n",
       "    </tr>\n",
       "    <tr>\n",
       "      <th>1</th>\n",
       "      <td>2095588566</td>\n",
       "      <td>Based on the concept of credibility and a new ...</td>\n",
       "    </tr>\n",
       "    <tr>\n",
       "      <th>2</th>\n",
       "      <td>1963479629</td>\n",
       "      <td>Virtualization technology has shown immense po...</td>\n",
       "    </tr>\n",
       "    <tr>\n",
       "      <th>3</th>\n",
       "      <td>1819117914</td>\n",
       "      <td>Serious games have recently emerged as an aven...</td>\n",
       "    </tr>\n",
       "    <tr>\n",
       "      <th>4</th>\n",
       "      <td>2095588629</td>\n",
       "      <td>In this paper, we propose an unequal error pro...</td>\n",
       "    </tr>\n",
       "  </tbody>\n",
       "</table>\n",
       "</div>"
      ],
      "text/plain": [
       "      PaperId                                           Abstract\n",
       "0  1963479517  This study investigated EFL learners' online r...\n",
       "1  2095588566  Based on the concept of credibility and a new ...\n",
       "2  1963479629  Virtualization technology has shown immense po...\n",
       "3  1819117914  Serious games have recently emerged as an aven...\n",
       "4  2095588629  In this paper, we propose an unequal error pro..."
      ]
     },
     "execution_count": 4,
     "metadata": {},
     "output_type": "execute_result"
    }
   ],
   "source": [
    "PAb = data_dir + 'PAb_CS_20190919.tsv'\n",
    "pab_df = pd.read_csv(PAb, sep='\\t')\n",
    "pab_df.head()"
   ]
  },
  {
   "cell_type": "code",
   "execution_count": 5,
   "metadata": {},
   "outputs": [
    {
     "name": "stderr",
     "output_type": "stream",
     "text": [
      "100%|██████████| 4541447/4541447 [00:02<00:00, 1539490.33it/s]\n"
     ]
    }
   ],
   "source": [
    "pid2abs = {item['PaperId'] : item['Abstract'] for item in tqdm(pab_df.to_dict('records'))}"
   ]
  },
  {
   "cell_type": "code",
   "execution_count": 6,
   "metadata": {},
   "outputs": [
    {
     "data": {
      "text/html": [
       "<div>\n",
       "<style scoped>\n",
       "    .dataframe tbody tr th:only-of-type {\n",
       "        vertical-align: middle;\n",
       "    }\n",
       "\n",
       "    .dataframe tbody tr th {\n",
       "        vertical-align: top;\n",
       "    }\n",
       "\n",
       "    .dataframe thead th {\n",
       "        text-align: right;\n",
       "    }\n",
       "</style>\n",
       "<table border=\"1\" class=\"dataframe\">\n",
       "  <thead>\n",
       "    <tr style=\"text-align: right;\">\n",
       "      <th></th>\n",
       "      <th>PaperSeqid</th>\n",
       "      <th>AuthorSeqid</th>\n",
       "      <th>AffiliationSeqid</th>\n",
       "      <th>AuthorSequenceNumber</th>\n",
       "    </tr>\n",
       "  </thead>\n",
       "  <tbody>\n",
       "    <tr>\n",
       "      <th>0</th>\n",
       "      <td>1963479517</td>\n",
       "      <td>2167258348</td>\n",
       "      <td>134161618.0</td>\n",
       "      <td>2</td>\n",
       "    </tr>\n",
       "    <tr>\n",
       "      <th>1</th>\n",
       "      <td>1963479517</td>\n",
       "      <td>2506097535</td>\n",
       "      <td>134161618.0</td>\n",
       "      <td>3</td>\n",
       "    </tr>\n",
       "    <tr>\n",
       "      <th>2</th>\n",
       "      <td>1963479517</td>\n",
       "      <td>2296113232</td>\n",
       "      <td>142823887.0</td>\n",
       "      <td>1</td>\n",
       "    </tr>\n",
       "    <tr>\n",
       "      <th>3</th>\n",
       "      <td>2095588566</td>\n",
       "      <td>2439736113</td>\n",
       "      <td>NaN</td>\n",
       "      <td>2</td>\n",
       "    </tr>\n",
       "    <tr>\n",
       "      <th>4</th>\n",
       "      <td>2095588566</td>\n",
       "      <td>2575410839</td>\n",
       "      <td>NaN</td>\n",
       "      <td>1</td>\n",
       "    </tr>\n",
       "  </tbody>\n",
       "</table>\n",
       "</div>"
      ],
      "text/plain": [
       "   PaperSeqid  AuthorSeqid  AffiliationSeqid  AuthorSequenceNumber\n",
       "0  1963479517   2167258348       134161618.0                     2\n",
       "1  1963479517   2506097535       134161618.0                     3\n",
       "2  1963479517   2296113232       142823887.0                     1\n",
       "3  2095588566   2439736113               NaN                     2\n",
       "4  2095588566   2575410839               NaN                     1"
      ]
     },
     "execution_count": 6,
     "metadata": {},
     "output_type": "execute_result"
    }
   ],
   "source": [
    "PAuAf = data_dir + 'PAuAf_CS_20190919.tsv'\n",
    "pauaf_df = pd.read_csv(PAuAf, sep='\\t')\n",
    "pauaf_df.head()"
   ]
  },
  {
   "cell_type": "code",
   "execution_count": 7,
   "metadata": {},
   "outputs": [
    {
     "name": "stderr",
     "output_type": "stream",
     "text": [
      "100%|██████████| 15571613/15571613 [00:51<00:00, 301143.28it/s]\n",
      "100%|██████████| 6149660/6149660 [00:17<00:00, 349848.30it/s]\n"
     ]
    }
   ],
   "source": [
    "pid2magfids = defaultdict(list)\n",
    "magfid2pids = defaultdict(list)\n",
    "for item in tqdm(pauaf_df[['PaperSeqid', 'AuthorSeqid']].to_dict('records')):\n",
    "    pid2magfids[item['PaperSeqid']].append(item['AuthorSeqid'])\n",
    "    magfid2pids[item['AuthorSeqid']].append(item['PaperSeqid'])\n",
    "\n",
    "fname2magfids = defaultdict(list)\n",
    "magfid2fname = {}\n",
    "for item in tqdm(pd.read_csv('SeqName_CS_20190919.tsv', sep='\\t', header=None).to_dict('records')):\n",
    "    if item[2] == 'author':\n",
    "        fname2magfids[item[1].lower()].append(item[0])\n",
    "        magfid2fname[item[0]] = item[1].lower()"
   ]
  },
  {
   "cell_type": "code",
   "execution_count": 8,
   "metadata": {},
   "outputs": [
    {
     "name": "stderr",
     "output_type": "stream",
     "text": [
      "100%|██████████| 5597605/5597605 [02:19<00:00, 40018.43it/s] \n"
     ]
    }
   ],
   "source": [
    "co_author_graph = nx.Graph()\n",
    "for pid, info in tqdm(pid2infos.items()):\n",
    "    info['abstract'] = pid2abs.get(pid)\n",
    "    co_authors = pid2magfids.get(pid)\n",
    "    info['authors'] = co_authors\n",
    "    for i in range(len(co_authors)):\n",
    "        for j in range(i+1, len(co_authors)):\n",
    "            if not co_author_graph.has_edge(co_authors[i], co_authors[j]):\n",
    "                co_author_graph.add_edge(co_authors[i], co_authors[j], c=0)\n",
    "            co_author_graph.get_edge_data(co_authors[i], co_authors[j])['c'] += 1"
   ]
  },
  {
   "cell_type": "code",
   "execution_count": 9,
   "metadata": {},
   "outputs": [
    {
     "name": "stdout",
     "output_type": "stream",
     "text": [
      "done\n"
     ]
    }
   ],
   "source": [
    "with open('magfid2pids.pickle', 'wb') as f_out:\n",
    "    pickle.dump(magfid2pids, f_out)\n",
    "with open('pid2magfids.pickle', 'wb') as f_out:\n",
    "    pickle.dump(pid2magfids, f_out)\n",
    "with open('fname2magfids.pickle', 'wb') as f_out:\n",
    "    pickle.dump(fname2magfids, f_out)\n",
    "with open('pid2infos.pickle', 'wb') as f_out:\n",
    "    pickle.dump(pid2infos, f_out)\n",
    "with open('magfid2fname.pickle', 'wb') as f_out:\n",
    "    pickle.dump(magfid2fname, f_out)\n",
    "nx.write_gpickle(co_author_graph, 'co_author.gpickle')\n",
    "print('done')"
   ]
  },
  {
   "cell_type": "code",
   "execution_count": null,
   "metadata": {},
   "outputs": [],
   "source": [
    "for n in co_author_graph.nodes:\n",
    "    nbr = list(co_author_graph.neighbors(n))[0]\n",
    "    print((n, nbr))\n",
    "    print(co_author_graph.get_edge_data(n, nbr))\n",
    "    break"
   ]
  },
  {
   "cell_type": "code",
   "execution_count": null,
   "metadata": {},
   "outputs": [],
   "source": [
    "for item in pid2infos.items():\n",
    "    print(item)\n",
    "    break"
   ]
  },
  {
   "cell_type": "code",
   "execution_count": null,
   "metadata": {},
   "outputs": [],
   "source": [
    "for item in magfid2pids.items():\n",
    "    print(item)\n",
    "    break"
   ]
  },
  {
   "cell_type": "markdown",
   "metadata": {},
   "source": [
    "### AcademicWorld"
   ]
  },
  {
   "cell_type": "code",
   "execution_count": 10,
   "metadata": {},
   "outputs": [],
   "source": [
    "with open('faculty.json') as f_in:\n",
    "    faculty = json.load(f_in)\n",
    "with open('publications.json') as f_in:\n",
    "    publications = json.load(f_in)"
   ]
  },
  {
   "cell_type": "code",
   "execution_count": 11,
   "metadata": {},
   "outputs": [],
   "source": [
    "awfid2pids = {item['id'] : item['publications'] for item in faculty}\n",
    "fname2awfids = defaultdict(list)\n",
    "awfid2fname = {}\n",
    "for item in faculty:\n",
    "    fname2awfids[item['name'].lower()].append(item['id'])\n",
    "    awfid2fname[item['id']] = item['name'].lower()\n",
    "pid2awfids = defaultdict(list)\n",
    "for fid, pids in awfid2pids.items():\n",
    "    for pid in pids:\n",
    "        pid2awfids[pid].append(fid)"
   ]
  },
  {
   "cell_type": "code",
   "execution_count": 12,
   "metadata": {},
   "outputs": [],
   "source": [
    "with open('awfid2pids.pickle', 'wb') as f_out:\n",
    "    pickle.dump(awfid2pids, f_out)\n",
    "with open('pid2awfids.pickle', 'wb') as f_out:\n",
    "    pickle.dump(pid2awfids, f_out)\n",
    "with open('fname2awfids.pickle', 'wb') as f_out:\n",
    "    pickle.dump(fname2awfids, f_out)\n",
    "with open('awfid2fname.pickle', 'wb') as f_out:\n",
    "    pickle.dump(awfid2fname, f_out)"
   ]
  },
  {
   "cell_type": "markdown",
   "metadata": {},
   "source": [
    "## Sentence transformers"
   ]
  },
  {
   "cell_type": "code",
   "execution_count": 2,
   "metadata": {},
   "outputs": [],
   "source": [
    "co_author_graph = nx.read_gpickle('co_author.gpickle')"
   ]
  },
  {
   "cell_type": "code",
   "execution_count": 4,
   "metadata": {},
   "outputs": [],
   "source": [
    "with open('pid2infos.pickle', 'rb') as f_in:\n",
    "    pid2infos = pickle.load(f_in)\n",
    "with open('magfid2pids.pickle', 'rb') as f_in:\n",
    "    magfid2pids = pickle.load(f_in)"
   ]
  },
  {
   "cell_type": "code",
   "execution_count": 5,
   "metadata": {},
   "outputs": [],
   "source": [
    "# Split publications by year\n",
    "known_pids = {pid for pid, info in pid2infos.items() if info['year'] <= 2016}\n",
    "unknown_pids = {pid for pid, info in pid2infos.items() if info['year'] > 2016}"
   ]
  },
  {
   "cell_type": "code",
   "execution_count": 6,
   "metadata": {},
   "outputs": [],
   "source": [
    "test_authors = [aid for aid, pids in magfid2pids.items() if any([pid in known_pids for pid in pids]) and any([pid in unknown_pids for pid in pids])]"
   ]
  },
  {
   "cell_type": "code",
   "execution_count": 7,
   "metadata": {},
   "outputs": [
    {
     "data": {
      "text/plain": [
       "402728"
      ]
     },
     "execution_count": 7,
     "metadata": {},
     "output_type": "execute_result"
    }
   ],
   "source": [
    "len(test_authors)"
   ]
  },
  {
   "cell_type": "code",
   "execution_count": 8,
   "metadata": {},
   "outputs": [],
   "source": [
    "model = SentenceTransformer('allenai-specter').eval()"
   ]
  },
  {
   "cell_type": "code",
   "execution_count": 10,
   "metadata": {},
   "outputs": [
    {
     "name": "stderr",
     "output_type": "stream",
     "text": [
      "100%|██████████| 500/500 [01:52<00:00,  4.46it/s]\n"
     ]
    }
   ],
   "source": [
    "pos_test_similarities = []\n",
    "for aid in tqdm(test_authors[:500]):\n",
    "    known_pubs = [pid for pid in magfid2pids[aid] if pid in known_pids and pid2infos[pid]['abstract'] is not None]\n",
    "    unknown_pubs = [pid for pid in magfid2pids[aid] if pid in unknown_pids and pid2infos[pid]['abstract'] is not None]\n",
    "    if (not known_pubs) or (not unknown_pubs):\n",
    "        continue\n",
    "    known_emb = model.encode(['%s[SEP]%s' % (pid2infos[pid]['title'], pid2infos[pid]['abstract']) for pid in known_pubs], convert_to_tensor=True)\n",
    "    unknown_emb = model.encode(['%s[SEP]%s' % (pid2infos[pid]['title'], pid2infos[pid]['abstract']) for pid in unknown_pubs], convert_to_tensor=True)\n",
    "    search_hits = util.semantic_search(unknown_emb, known_emb, top_k=1)\n",
    "    pos_test_similarities.extend([hit[0]['score'] for hit in search_hits])"
   ]
  },
  {
   "cell_type": "code",
   "execution_count": 11,
   "metadata": {},
   "outputs": [
    {
     "name": "stdout",
     "output_type": "stream",
     "text": [
      "6157\n"
     ]
    },
    {
     "data": {
      "image/png": "[encoded data removed]",
      "text/plain": [
       "<Figure size 432x288 with 1 Axes>"
      ]
     },
     "metadata": {
      "needs_background": "light"
     },
     "output_type": "display_data"
    }
   ],
   "source": [
    "print(len(pos_test_similarities))\n",
    "plt.hist(pos_test_similarities)\n",
    "plt.show()"
   ]
  },
  {
   "cell_type": "code",
   "execution_count": 14,
   "metadata": {},
   "outputs": [
    {
     "name": "stderr",
     "output_type": "stream",
     "text": [
      "100%|██████████| 1000/1000 [00:50<00:00, 19.65it/s]\n"
     ]
    }
   ],
   "source": [
    "neg_test_similarities = []\n",
    "temp_test_authors = deepcopy(test_authors)\n",
    "random.seed(0)\n",
    "random.shuffle(temp_test_authors)\n",
    "for idx, aid in enumerate(tqdm(temp_test_authors[:1000])):\n",
    "    known_pubs = [pid for pid in magfid2pids[aid] if pid in known_pids and pid2infos[pid]['abstract'] is not None]\n",
    "    unknown_pubs = [pid for pid in magfid2pids[temp_test_authors[idx+1]] if pid in unknown_pids and pid2infos[pid]['abstract'] is not None]\n",
    "    if (not known_pubs) or (not unknown_pubs):\n",
    "        continue\n",
    "    known_emb = model.encode(['%s[SEP]%s' % (pid2infos[pid]['title'], pid2infos[pid]['abstract']) for pid in known_pubs], convert_to_tensor=True)\n",
    "    unknown_emb = model.encode(['%s[SEP]%s' % (pid2infos[pid]['title'], pid2infos[pid]['abstract']) for pid in unknown_pubs], convert_to_tensor=True)\n",
    "    search_hits = util.semantic_search(unknown_emb, known_emb, top_k=1)\n",
    "    neg_test_similarities.extend([hit[0]['score'] for hit in search_hits])"
   ]
  },
  {
   "cell_type": "code",
   "execution_count": 15,
   "metadata": {},
   "outputs": [
    {
     "name": "stdout",
     "output_type": "stream",
     "text": [
      "3115\n"
     ]
    },
    {
     "data": {
      "image/png": "[encoded data removed]",
      "text/plain": [
       "<Figure size 432x288 with 1 Axes>"
      ]
     },
     "metadata": {
      "needs_background": "light"
     },
     "output_type": "display_data"
    }
   ],
   "source": [
    "print(len(neg_test_similarities))\n",
    "plt.hist(neg_test_similarities)\n",
    "plt.show()"
   ]
  },
  {
   "cell_type": "code",
   "execution_count": 16,
   "metadata": {},
   "outputs": [
    {
     "data": {
      "text/plain": [
       "0.9420172161767094"
      ]
     },
     "execution_count": 16,
     "metadata": {},
     "output_type": "execute_result"
    }
   ],
   "source": [
    "# Recall\n",
    "len([1 for score in pos_test_similarities if score > 0.73]) / len(pos_test_similarities)"
   ]
  },
  {
   "cell_type": "code",
   "execution_count": 17,
   "metadata": {},
   "outputs": [
    {
     "data": {
      "text/plain": [
       "0.9139615505830444"
      ]
     },
     "execution_count": 17,
     "metadata": {},
     "output_type": "execute_result"
    }
   ],
   "source": [
    "# Precision\n",
    "len([1 for score in pos_test_similarities if score > 0.73]) / (len([1 for score in pos_test_similarities if score > 0.7]) + len([1 for score in neg_test_similarities if score > 0.7]))"
   ]
  },
  {
   "cell_type": "code",
   "execution_count": 18,
   "metadata": {},
   "outputs": [
    {
     "data": {
      "text/plain": [
       "0.9187877480586712"
      ]
     },
     "execution_count": 18,
     "metadata": {},
     "output_type": "execute_result"
    }
   ],
   "source": [
    "# Accuracy\n",
    "(len([1 for score in pos_test_similarities if score > 0.73]) + len([1 for score in neg_test_similarities if score <= 0.7])) / (len(pos_test_similarities) + len(neg_test_similarities))"
   ]
  },
  {
   "cell_type": "markdown",
   "metadata": {},
   "source": [
    "## Demo"
   ]
  },
  {
   "cell_type": "code",
   "execution_count": 25,
   "metadata": {},
   "outputs": [],
   "source": [
    "# Load resources\n",
    "with open('awfid2pids.pickle', 'rb') as f_in:\n",
    "    awfid2pids = pickle.load(f_in)\n",
    "with open('pid2awfids.pickle', 'rb') as f_in:\n",
    "    pid2awfids = pickle.load(f_in)\n",
    "with open('fname2awfids.pickle', 'rb') as f_in:\n",
    "    fname2awfids = pickle.load(f_in)\n",
    "with open('magfid2pids.pickle', 'rb') as f_in:\n",
    "    magfid2pids = pickle.load(f_in)\n",
    "with open('pid2magfids.pickle', 'rb') as f_in:\n",
    "    pid2magfids = pickle.load(f_in)\n",
    "with open('fname2magfids.pickle', 'rb') as f_in:\n",
    "    fname2magfids = pickle.load(f_in)\n",
    "with open('awfid2fname.pickle', 'rb') as f_in:\n",
    "    awfid2fname = pickle.load(f_in)\n",
    "with open('pid2infos.pickle', 'rb') as f_in:\n",
    "    pid2infos = pickle.load(f_in)\n",
    "with open('magfid2fname.pickle', 'rb') as f_in:\n",
    "    magfid2fname = pickle.load(f_in)\n",
    "\n",
    "print('1')\n",
    "db = mysql.connector.connect(user='mag_readonly', password='j6gi48ch82nd9pff', host=\"mag-2020-09-14.mysql.database.azure.com\",\n",
    "   port=3306,\n",
    "   database='mag_2020_09_14',\n",
    "   ssl_ca=\"DigiCertGlobalRootCA.crt.pem\",\n",
    "   ssl_disabled=False)\n",
    "cursor = db.cursor()\n",
    "\n",
    "sentence_transformer = SentenceTransformer('allenai-specter').eval().cuda()\n",
    "\n",
    "with open('co_author_train.pickle', 'rb') as f_in:\n",
    "    sub_co_author_graph:nx.Graph = pickle.load(f_in)\n",
    "id2idx = {id : idx for idx, id in enumerate(sub_co_author_graph.nodes)}\n",
    "\n",
    "print('2')\n",
    "\n",
    "nx_model = Net()\n",
    "nx_model.load_state_dict(torch.load(\"save_model/checkpoints.gcn\"))\n",
    "nx_model.eval()\n",
    "# embedding all nodes on the graph\n",
    "graph = from_networkx(sub_co_author_graph, group_node_attrs=['emb'])\n",
    "\n",
    "print('3')\n",
    "embeddings = nx_model.encode(graph.x.float(), graph.edge_index)"
   ]
  },
  {
   "cell_type": "code",
   "execution_count": 76,
   "metadata": {},
   "outputs": [
    {
     "name": "stdout",
     "output_type": "stream",
     "text": [
      "3083\n",
      "{'title': 'joint data purchasing and data placement in a geo distributed data market', 'abstract': 'This paper studies design challenges faced by a geo-distributed cloud data market: which data to purchase (data purchasing) and where to place/replicate the data (data placement). We show that the joint problem of data purchasing and data placement within a cloud data market is NP-hard in general. However, we give a provably optimal algorithm for the case of a data market made up of a single data center, and then generalize the structure from the single data center setting and propose Datum, a near-optimal, polynomial-time algorithm for a geo-distributed data market.', 'co_author': ['xiaoqi ren', 'juba ziani', 'adam wierman', 'palma london']}\n",
      "b'{\"co_author_conclusion\":true,\"co_author_score\":0.9317653973897299,\"semantic_conclusion\":true,\"semantic_score\":0.9998914003372192}\\n'\n"
     ]
    }
   ],
   "source": [
    "target_author_name = list(set(fname2awfids.keys()) & set(fname2magfids.keys()))[18]\n",
    "target_author_id = fname2awfids[target_author_name][0]\n",
    "\n",
    "test_pid = -1\n",
    "for fid in fname2magfids[target_author_name]:\n",
    "    try:\n",
    "        for pid in magfid2pids[fid]:\n",
    "            if pid2infos[pid]['abstract'] is not None and len(pid2infos[pid]['authors']) >= 2:\n",
    "                test_pid = pid\n",
    "                break\n",
    "        if test_pid >= 0:\n",
    "            break\n",
    "    except:\n",
    "        pass\n",
    "if test_pid >= 0:\n",
    "    test_pub = {'title': pid2infos[test_pid]['title'],\n",
    "                'abstract' : pid2infos[test_pid]['abstract'],\n",
    "                'co_author' : [magfid2fname[fid] for fid in pid2infos[test_pid]['authors']]}\n",
    "    print(target_author_id)\n",
    "    print(test_pub)\n",
    "    r = requests.get(url='http://128.174.136.27:5000', params={'target' : target_author_id, \n",
    "                                                           'title' : test_pub['title'], \n",
    "                                                           'abstract' : test_pub['abstract'],\n",
    "                                                           'coauthor' : str(test_pub['co_author'])})\n",
    "    print(r.content)"
   ]
  },
  {
   "cell_type": "code",
   "execution_count": 43,
   "metadata": {},
   "outputs": [],
   "source": [
    "with open('pid2magfids.pickle', 'rb') as f_in:\n",
    "    pid2magfids = pickle.load(f_in)"
   ]
  },
  {
   "cell_type": "code",
   "execution_count": 70,
   "metadata": {},
   "outputs": [
    {
     "name": "stdout",
     "output_type": "stream",
     "text": [
      "1\n",
      "2\n",
      "8\n",
      "5\n",
      "6\n",
      "7\n"
     ]
    }
   ],
   "source": [
    "co_author_score = None\n",
    "coauthors = test_pub['co_author']\n",
    "if coauthors is not None:\n",
    "    print(1)\n",
    "    # coauthors = eval(coauthors)\n",
    "    target_author_name = awfid2fname[target_author_id]\n",
    "    if target_author_name in fname2magfids:\n",
    "        print(2)\n",
    "        # Locate target author in MAG\n",
    "        target_author_pids = awfid2pids[target_author_id]\n",
    "        temp_coauthor_for_target_author = [set(pid2magfids[pid]) for pid in target_author_pids if pid in pid2magfids]\n",
    "        if temp_coauthor_for_target_author:\n",
    "            print(8)\n",
    "            target_author_magfid = None\n",
    "            for fids in temp_coauthor_for_target_author:\n",
    "                if not fids:\n",
    "                    continue\n",
    "                for fid in fids:\n",
    "                    if magfid2fname[fid] == target_author_name:\n",
    "                        target_author_magfid = fid\n",
    "                        break\n",
    "                if target_author_magfid:\n",
    "                    break\n",
    "            if target_author_magfid in id2idx:\n",
    "                print(5)\n",
    "                target_author_emb = embeddings[id2idx[target_author_magfid]]\n",
    "                if sub_co_author_graph.has_node(target_author_magfid):\n",
    "                    print(6)\n",
    "                    # Filter out coauthors not in the graph\n",
    "                    recognized_coauthors = [fname2magfids[a] for a in coauthors if a in fname2magfids]\n",
    "                    trained_coauthors = [[id for id in coauthor_ids if sub_co_author_graph.has_node(id)] for coauthor_ids in recognized_coauthors]\n",
    "                    trained_coauthors = [coauthor_ids for coauthor_ids in trained_coauthors if coauthor_ids]\n",
    "                    if trained_coauthors:\n",
    "                        print(7)\n",
    "                        scores = []\n",
    "                        for trained_coauthor in trained_coauthors:\n",
    "                            coauthor_emb = torch.index_select(embeddings, 0, torch.tensor([id2idx[id] for id in trained_coauthor]))\n",
    "                            temp_score = torch.max(target_author_emb @ coauthor_emb.T).sigmoid().cpu().item()\n",
    "                            scores.append(temp_score)\n",
    "                        co_author_score = mean(scores)"
   ]
  },
  {
   "cell_type": "code",
   "execution_count": 71,
   "metadata": {},
   "outputs": [
    {
     "data": {
      "text/plain": [
       "0.9317653973897299"
      ]
     },
     "execution_count": 71,
     "metadata": {},
     "output_type": "execute_result"
    }
   ],
   "source": [
    "co_author_score"
   ]
  },
  {
   "cell_type": "code",
   "execution_count": 46,
   "metadata": {},
   "outputs": [
    {
     "data": {
      "text/plain": [
       "True"
      ]
     },
     "execution_count": 46,
     "metadata": {},
     "output_type": "execute_result"
    }
   ],
   "source": [
    "103340358 in pid2magfids"
   ]
  },
  {
   "cell_type": "code",
   "execution_count": 22,
   "metadata": {},
   "outputs": [
    {
     "ename": "KeyError",
     "evalue": "7971409",
     "output_type": "error",
     "traceback": [
      "\u001b[0;31m---------------------------------------------------------------------------\u001b[0m",
      "\u001b[0;31mKeyError\u001b[0m                                  Traceback (most recent call last)",
      "\u001b[1;32m/srv/local/data/scratch/keruiz2/CS411/temp.ipynb Cell 38'\u001b[0m in \u001b[0;36m<cell line: 1>\u001b[0;34m()\u001b[0m\n\u001b[0;32m----> <a href='vscode-notebook-cell://ssh-remote%2Bosprey1.csl.illinois.edu/srv/local/data/scratch/keruiz2/CS411/temp.ipynb#ch0000110vscode-remote?line=0'>1</a>\u001b[0m pid2infos[\u001b[39m7971409\u001b[39;49m]\n",
      "\u001b[0;31mKeyError\u001b[0m: 7971409"
     ]
    }
   ],
   "source": [
    "pid2infos[7971409]"
   ]
  },
  {
   "cell_type": "code",
   "execution_count": 45,
   "metadata": {},
   "outputs": [
    {
     "data": {
      "text/plain": [
       "103340358"
      ]
     },
     "execution_count": 45,
     "metadata": {},
     "output_type": "execute_result"
    }
   ],
   "source": [
    "[pid for pid in target_author_pids if pid in pid2magfids][18]"
   ]
  },
  {
   "cell_type": "code",
   "execution_count": 47,
   "metadata": {},
   "outputs": [
    {
     "data": {
      "text/plain": [
       "[2116657824, 2125104194, 2131539564, 2953597871, 2164603845]"
      ]
     },
     "execution_count": 47,
     "metadata": {},
     "output_type": "execute_result"
    }
   ],
   "source": [
    "pid2magfids[103340358]"
   ]
  },
  {
   "cell_type": "code",
   "execution_count": 33,
   "metadata": {},
   "outputs": [
    {
     "data": {
      "text/plain": [
       "[{2096731881, 2121939561, 2224413342, 2303897886, 2491264568, 2694791869},\n",
       " {2121939561},\n",
       " {2100860776, 2121939561, 2152766206},\n",
       " {2098136913, 2121939561, 2130957644, 2642048689},\n",
       " {149210974, 2121939561, 2722353157},\n",
       " {2121939561, 2304105079, 2777069086},\n",
       " {2110558983,\n",
       "  2111579034,\n",
       "  2121939561,\n",
       "  2156633756,\n",
       "  2171991132,\n",
       "  2279782171,\n",
       "  2288375955,\n",
       "  2308328903,\n",
       "  2315689540,\n",
       "  2421938890,\n",
       "  2639876267,\n",
       "  2644058196},\n",
       " {2096731881, 2121939561, 2125104194, 2491264568},\n",
       " {76047928, 2121939561, 2207916209},\n",
       " {2121939561, 2163471192, 2164604393, 2165330392, 2682329375},\n",
       " {2121939561},\n",
       " {2096731881, 2121939561, 2664163432},\n",
       " {2121939561, 2156633756, 2461916229},\n",
       " {1991372327, 2121939561, 2618347989, 2632509234},\n",
       " {2121939561},\n",
       " {2121939561, 2164604393, 2682329375},\n",
       " {121171588, 2109621001, 2121939561, 2289816208},\n",
       " {2109031554, 2121939561, 2665773577},\n",
       " {2116657824, 2125104194, 2131539564, 2164603845, 2953597871},\n",
       " {2121939561, 2167963239, 2169716560, 2584136427},\n",
       " {2121939561, 2464078561},\n",
       " {2118015208,\n",
       "  2121939561,\n",
       "  2134085095,\n",
       "  2155186186,\n",
       "  2158358121,\n",
       "  2161754280,\n",
       "  2245588690,\n",
       "  2702302711},\n",
       " {1979772396, 2121939561, 2138267588, 2150479613, 2577604205},\n",
       " {2121939561, 2134583074, 2163619555, 2915567807},\n",
       " {2116657824, 2121939561, 2617408456},\n",
       " {2121939561},\n",
       " {2121939561, 2239470812, 2893446794},\n",
       " {2116657824, 2121939561, 2161754280},\n",
       " {2121939561, 2289816208},\n",
       " {2131539564, 2664163432, 2953597871, 2957243724},\n",
       " {121171588, 1996151347, 2121939561},\n",
       " {2121939561, 2140412951, 2682826105},\n",
       " {76047928,\n",
       "  1230587205,\n",
       "  2009298628,\n",
       "  2088114531,\n",
       "  2096118001,\n",
       "  2121939561,\n",
       "  2140596270,\n",
       "  2305669513,\n",
       "  2598305431},\n",
       " {2121939561, 2308328903},\n",
       " {87915016, 2121939561, 2175015405, 2257366035},\n",
       " {2121555361, 2121939561, 2133871118},\n",
       " {2121939561, 2338946638, 2361914022, 2626264286},\n",
       " {2121939561, 2276897715, 2893459820},\n",
       " {177796082, 2121939561, 2360612151, 2924623560},\n",
       " {2121939561, 2626264286, 2638641436},\n",
       " {2116657824, 2121939561, 2125104194, 2160602068, 2235441732, 2646721057},\n",
       " {2098136913, 2121939561, 2143081449},\n",
       " {1979772396, 2121939561, 2165551961},\n",
       " {2046577858, 2112441069, 2121939561, 2146108112, 2461963590},\n",
       " {2110558983,\n",
       "  2111579034,\n",
       "  2121939561,\n",
       "  2153668031,\n",
       "  2171991132,\n",
       "  2244152617,\n",
       "  2274853475,\n",
       "  2277438941,\n",
       "  2277642889,\n",
       "  2279782171,\n",
       "  2288375955,\n",
       "  2308328903,\n",
       "  2421938890,\n",
       "  2425194887,\n",
       "  2634816303,\n",
       "  2650276461,\n",
       "  2893934372},\n",
       " {688151781, 1991372327, 2121939561, 2175015405},\n",
       " {2111068731, 2113473341, 2121939561, 2126330539, 2131290459, 2155513116},\n",
       " {2121939561, 2308328903},\n",
       " {2116657824,\n",
       "  2121939561,\n",
       "  2125104194,\n",
       "  2127183023,\n",
       "  2160602068,\n",
       "  2703921967,\n",
       "  2951777716},\n",
       " {2121939561},\n",
       " {2037466936, 2121939561, 2141349569, 2777656153},\n",
       " {2121939561, 2671958637},\n",
       " {2116657824, 2121939561, 2125104194, 2160602068},\n",
       " {2105625159,\n",
       "  2121939561,\n",
       "  2146335907,\n",
       "  2156862708,\n",
       "  2616288379,\n",
       "  2647481813,\n",
       "  2723820743},\n",
       " {2121939561, 2175015405, 2209247138},\n",
       " {2121939561, 2250022027, 2626264286},\n",
       " {2121939561, 2156633756},\n",
       " {2121939561, 2584136427, 2618347989, 2807371183},\n",
       " {2121939561, 2175015405, 2209247138, 2273653009, 2282107402},\n",
       " {2096731881, 2121939561, 2146873716, 2155983610, 2298201484},\n",
       " {2121939561},\n",
       " {2121939561, 2148203772, 2152766206},\n",
       " {2121939561, 2164604393, 2175015405, 2209247138},\n",
       " {2121939561, 2164604393, 2949995093},\n",
       " {2121939561, 2723527017},\n",
       " {2116657824, 2121939561, 2125104194, 2160602068},\n",
       " {121171588, 2121939561, 2273718647},\n",
       " {2121939561, 2304105079},\n",
       " {2110558983, 2121939561, 2279782171},\n",
       " {2121939561},\n",
       " {2121939561},\n",
       " {2121939561, 2670777013},\n",
       " {2121939561},\n",
       " {2096731881,\n",
       "  2116094297,\n",
       "  2116340933,\n",
       "  2121939561,\n",
       "  2148733542,\n",
       "  2674375462,\n",
       "  2797002874,\n",
       "  2949264261},\n",
       " {2121939561, 2150676166, 2308328903, 2892518421},\n",
       " {121171588, 2109621001, 2121939561, 2289816208},\n",
       " {2111068731, 2121939561, 2238454369, 2297004131},\n",
       " {2116657824, 2121939561, 2281041638},\n",
       " {149210974, 2121939561},\n",
       " {2121939561, 2309543459},\n",
       " {1970017610, 2121939561, 2128900005, 2161558221},\n",
       " {100137780, 2121939561, 2126330539, 2153668031},\n",
       " {2121939561, 2175015405},\n",
       " {2109621001, 2121939561},\n",
       " {2121939561, 2156633756},\n",
       " {2121939561, 2125104194, 2161754280},\n",
       " {2121939561},\n",
       " {2121939561, 2164604393, 2175015405, 2209247138},\n",
       " {100137780,\n",
       "  689294964,\n",
       "  2105637293,\n",
       "  2121939561,\n",
       "  2126330539,\n",
       "  2164671343,\n",
       "  2171332843},\n",
       " {2121939561, 2399012216, 2559123031},\n",
       " {2108451633,\n",
       "  2121939561,\n",
       "  2131453653,\n",
       "  2144151823,\n",
       "  2282115160,\n",
       "  2305339087,\n",
       "  2675075580},\n",
       " {2121939561, 2126330539, 2289816208},\n",
       " {1979772396, 2121939561, 2165551961, 2329118184},\n",
       " {2121939561},\n",
       " {2121939561, 2546429133, 2950038723},\n",
       " {1919135125,\n",
       "  1972291593,\n",
       "  2086114595,\n",
       "  2113868374,\n",
       "  2116657824,\n",
       "  2121939561,\n",
       "  2125104194,\n",
       "  2134454237,\n",
       "  2161754280,\n",
       "  2468960519},\n",
       " {2121939561, 2157880984, 2617049578, 2649033479, 2652944969, 2682826105},\n",
       " {76047928, 2121939561, 2207916209},\n",
       " {134296357, 2121939561, 2949995093, 2952313629},\n",
       " {2121939561, 2134045017, 2175015405, 2209247138},\n",
       " {2115276518, 2121939561, 2257366035, 2315689540},\n",
       " {2109621001, 2121939561, 2156633756},\n",
       " {2116657824, 2121939561, 2125104194, 2257366035, 2617408456},\n",
       " {2121939561, 2304105079},\n",
       " {2121939561, 2461963590, 2654846876, 2897863234},\n",
       " {688151781, 2121939561, 2164298414, 2295009377, 2571788498},\n",
       " {2121939561, 2130957644, 2167180637, 2244698799},\n",
       " {2116657824, 2121939561, 2678164855},\n",
       " {2121939561, 2146335907, 2149631809, 2237849324},\n",
       " {18081311, 2121939561, 2128990482},\n",
       " {2121939561, 2511806320},\n",
       " {76047928, 2121939561, 2140596270},\n",
       " {2098136913, 2121939561, 2134045017, 2949995093},\n",
       " {2121939561, 2127379895, 2129405715, 2132538679},\n",
       " {1970017610, 2121939561, 2128900005, 2159859405, 2161558221},\n",
       " {2121939561, 2164603845},\n",
       " {76047928, 2121939561, 2140596270},\n",
       " {1979772396, 2121939561, 2156633756, 2165551961, 2799016678},\n",
       " {2121939561, 2153668031, 2308328903},\n",
       " {2104651410, 2105020681, 2121939561, 2143081449, 2654643481},\n",
       " {2121939561, 2128131365, 2152766206},\n",
       " {2121939561, 2274853475, 2626264286},\n",
       " {2121939561, 2163471192, 2644946388, 2664163432},\n",
       " {2105625159, 2121939561, 2667078396},\n",
       " {2037649753, 2121939561, 2138416850, 2164604393},\n",
       " {2115276518, 2121939561, 2257366035},\n",
       " {2121939561, 2396599394, 2618347989},\n",
       " {2037649753, 2121939561, 2306766020, 2360612151, 2924623560},\n",
       " {2121939561, 2130957644, 2152766206, 2642048689, 2674375462},\n",
       " {2096749051, 2121939561, 2152766206, 2398165711, 2506979114, 2642865225},\n",
       " {2121555361, 2121939561, 2775519127},\n",
       " {2121939561, 2141500565, 2157503142},\n",
       " {2059910451, 2121939561, 2160715520, 2461963590, 2682329375},\n",
       " {2037649753, 2121939561, 2296285037},\n",
       " {2121939561, 2126330539},\n",
       " {2116657824, 2121939561, 2126330539},\n",
       " {1449758934, 2108257136, 2121939561, 2304678617},\n",
       " {2121939561, 2126330539, 2289816208},\n",
       " {2121939561, 2141500565, 2157173648, 2157503142},\n",
       " {2059910451, 2098224337, 2149631809, 2165330392, 2964674484, 2966587246},\n",
       " {2121939561, 2126330539, 2164298414, 2309569033},\n",
       " {2121939561},\n",
       " {2047114418, 2100860776, 2121939561, 2143728639, 2152766206},\n",
       " {2111257968,\n",
       "  2116657824,\n",
       "  2121939561,\n",
       "  2126330539,\n",
       "  2134399777,\n",
       "  2549858022,\n",
       "  2714003765},\n",
       " {1991372327, 2121939561, 2618347989, 2628905190, 2632509234, 2807371183},\n",
       " {2121939561, 2664163432},\n",
       " {2121939561, 2567930152},\n",
       " {2121939561},\n",
       " {1933211966, 2121939561, 2134045017},\n",
       " {2116657824, 2121939561, 2125104194, 2131539564},\n",
       " {2121939561, 2140412951, 2168000538, 2687056350},\n",
       " {2121939561, 2126330539},\n",
       " {2121939561, 2134045017, 2175015405, 2209247138},\n",
       " {2059487427, 2121939561, 2143081449, 2564591858, 2654643481},\n",
       " {2121939561, 2146335907, 2703921967},\n",
       " {697457595,\n",
       "  2100961564,\n",
       "  2121939561,\n",
       "  2131539564,\n",
       "  2131880941,\n",
       "  2143081449,\n",
       "  2160715520,\n",
       "  2164604393},\n",
       " {2105391371, 2121939561, 2145115012, 2616288379},\n",
       " {2121939561, 2141500565, 2157503142, 2702924125},\n",
       " {2046577858, 2109338903, 2121939561, 2130957644, 2166036605},\n",
       " {100137780, 689294964, 2105637293, 2121939561, 2126330539, 2755249852},\n",
       " {2121939561, 2146812530, 2199827992, 2656445745},\n",
       " {149210974, 2121939561, 2160738353},\n",
       " {2037649753, 2121939561, 2138416850, 2796768950, 2952589540},\n",
       " {2116657824, 2121939561, 2125104194},\n",
       " {2096731881,\n",
       "  2121939561,\n",
       "  2146335907,\n",
       "  2146873716,\n",
       "  2153139521,\n",
       "  2155983610,\n",
       "  2298201484},\n",
       " {2059910451, 2121939561, 2246372599, 2268071177, 2682329375, 2775837029},\n",
       " {2037466936, 2121939561, 2142476784, 2777656153},\n",
       " {2109621001, 2121939561, 2289816208},\n",
       " {1991372327, 2121939561, 2152766206, 2161754280, 2166036605},\n",
       " {2121939561, 2127183023, 2158012360, 2951777716},\n",
       " {941590, 2121939561, 2546497621},\n",
       " {76047928, 2121939561, 2140596270},\n",
       " {2121939561, 2134045017, 2175015405},\n",
       " {2052155585,\n",
       "  2100961564,\n",
       "  2121939561,\n",
       "  2131539564,\n",
       "  2143081449,\n",
       "  2160715520,\n",
       "  2164604393,\n",
       "  2952313629},\n",
       " {2116657824, 2121939561, 2163043385, 2223314103, 2525822525, 2590464981},\n",
       " {1991372327, 2121939561, 2161754280, 2175015405},\n",
       " {1970017610, 2101490202, 2121939561, 2128900005, 2148733542, 2526540844},\n",
       " {1991372327, 2121939561},\n",
       " {2115276518, 2121939561, 2125104194, 2315689540},\n",
       " {2121939561, 2125104194, 2491264568, 2777339002},\n",
       " {2121939561},\n",
       " {2121939561,\n",
       "  2129405715,\n",
       "  2131539564,\n",
       "  2160715520,\n",
       "  2167348148,\n",
       "  2222819066,\n",
       "  2665928618,\n",
       "  2798669999},\n",
       " {1919135125,\n",
       "  1972291593,\n",
       "  2086114595,\n",
       "  2113868374,\n",
       "  2116657824,\n",
       "  2121939561,\n",
       "  2125104194,\n",
       "  2134454237,\n",
       "  2161754280,\n",
       "  2468960519},\n",
       " {2121939561, 2141500565, 2157503142},\n",
       " {2109139474, 2121939561, 2131539564, 2160715520, 2222819066},\n",
       " {1878631932, 2121939561, 2124749556, 2137013502, 2154833104, 2169348332},\n",
       " {2121939561, 2311187946, 2633892590},\n",
       " {2037649753, 2121939561, 2163471192, 2664163432},\n",
       " {2096731881,\n",
       "  2116094297,\n",
       "  2121939561,\n",
       "  2148733542,\n",
       "  2674375462,\n",
       "  2797002874,\n",
       "  2949264261},\n",
       " {2118725505, 2121939561, 2129405715, 2130643217, 2231529517, 2461963590},\n",
       " {2121939561,\n",
       "  2131539564,\n",
       "  2161754280,\n",
       "  2163471192,\n",
       "  2164603845,\n",
       "  2169163720,\n",
       "  2304105079},\n",
       " {2115305989, 2121939561, 2127183023, 2158012360, 2951777716},\n",
       " {2116657824, 2121939561, 2125104194, 2131539564},\n",
       " {2037649753, 2121939561, 2170645087},\n",
       " {2121939561, 2131539564, 2160715520, 2169163720},\n",
       " {2100860776,\n",
       "  2112441069,\n",
       "  2121939561,\n",
       "  2158012360,\n",
       "  2167180637,\n",
       "  2461963590,\n",
       "  2627719715},\n",
       " {2037649753, 2121939561, 2130957644, 2244698799, 2674375462},\n",
       " {2121939561, 2167348148},\n",
       " {2121939561, 2461963590},\n",
       " {2059910451, 2246372599, 2268071177, 2796978059, 2955575383, 2956513154},\n",
       " {2096731881, 2121939561, 2146335907, 2664163432},\n",
       " {2100860776, 2121939561, 2152766206},\n",
       " {2121939561, 2130302844, 2131290459, 2694185961},\n",
       " {2116657824, 2121939561, 2227685059},\n",
       " {2096749051, 2121939561, 2429862538},\n",
       " {2121939561, 2682805244, 2917859154},\n",
       " {2100961564,\n",
       "  2121939561,\n",
       "  2131880941,\n",
       "  2143081449,\n",
       "  2145115012,\n",
       "  2439468058,\n",
       "  2591433979},\n",
       " {2121939561, 2464078561},\n",
       " {2121939561},\n",
       " {2121939561, 2129405715, 2231529517, 2461963590},\n",
       " {697457595, 2121939561, 2131880941, 2143081449, 2160715520, 2167348148},\n",
       " {2037624971, 2037649753, 2121939561, 2164604393},\n",
       " {2121939561, 2154906701, 2168973187, 2342363699},\n",
       " {2096731881,\n",
       "  2116094297,\n",
       "  2121939561,\n",
       "  2148733542,\n",
       "  2150664895,\n",
       "  2158082241,\n",
       "  2227076362,\n",
       "  2617049578,\n",
       "  2674375462,\n",
       "  2797002874},\n",
       " {2121939561, 2125104194, 2161754280},\n",
       " {2121939561, 2129405715, 2150635322, 2160715520, 2307008282, 2425877144},\n",
       " {2121939561, 2304105079, 2618347989},\n",
       " {110373202, 2056589069, 2100821417, 2121939561, 2427846251, 2718595758},\n",
       " {2096749051, 2121939561, 2257366035},\n",
       " {2121939561, 2311187946, 2723527017},\n",
       " {121171588, 2121939561, 2130302844, 2131290459},\n",
       " {2121939561, 2129596114, 2142834429, 2163471192, 2165330392, 2682329375},\n",
       " {2059910451, 2121939561, 2682329375, 2961495316},\n",
       " {2077695977, 2121939561, 2122007671, 2128637305},\n",
       " {2121939561, 2584136427},\n",
       " {2121939561, 2289816208},\n",
       " {1911907851,\n",
       "  1979772396,\n",
       "  2121939561,\n",
       "  2160715520,\n",
       "  2167348148,\n",
       "  2374628970,\n",
       "  2577604205},\n",
       " {2046577858,\n",
       "  2121939561,\n",
       "  2146108112,\n",
       "  2223039520,\n",
       "  2438808258,\n",
       "  2461963590,\n",
       "  2680813089},\n",
       " {1683457605,\n",
       "  2102121030,\n",
       "  2102564942,\n",
       "  2121939561,\n",
       "  2167771460,\n",
       "  2168000538,\n",
       "  2234909068,\n",
       "  2682826105},\n",
       " {2060104901, 2106251501, 2121939561, 2676736523},\n",
       " {2121939561, 2674375462, 2682826105},\n",
       " {2096749051, 2121939561, 2429862538},\n",
       " {332400322,\n",
       "  539587773,\n",
       "  717547165,\n",
       "  1981000408,\n",
       "  1996714504,\n",
       "  2066282134,\n",
       "  2112739513,\n",
       "  2121939561,\n",
       "  2151292074,\n",
       "  2151678189,\n",
       "  2152766206,\n",
       "  2155983610,\n",
       "  2158488542,\n",
       "  2160881855,\n",
       "  2165412067,\n",
       "  2170746593,\n",
       "  2235658122,\n",
       "  2298201484,\n",
       "  2345687710,\n",
       "  2558860210},\n",
       " {2121939561, 2126330539},\n",
       " {2121939561, 2125104194, 2304105079},\n",
       " {2121939561, 2131539564},\n",
       " {2121082737, 2121939561, 2149631809, 2163669391, 2574108784},\n",
       " {2121939561, 2134045017, 2175015405},\n",
       " {2121939561, 2152766206, 2158342695, 2160715520, 2461963590},\n",
       " {2121939561, 2461963590, 2654846876, 2897863234},\n",
       " {2037649753, 2121939561, 2130957644, 2306766020, 2360612151, 2924623560},\n",
       " {2116657824, 2121939561, 2125104194, 2131539564, 2160715520, 2222819066},\n",
       " {2098136913, 2121939561, 2642048689, 2920229337},\n",
       " {2046577858, 2095732305, 2121939561, 2146108112, 2461963590},\n",
       " {1970017610, 2121939561, 2128900005, 2159859405, 2161558221},\n",
       " {121171588, 2121939561, 2152882053},\n",
       " {2046577858, 2095732305, 2121939561, 2146108112, 2461963590, 2617049578},\n",
       " {2109621001, 2121939561, 2303002372, 2690815437},\n",
       " {2121939561, 2126330539, 2549858022},\n",
       " {2119358208, 2121939561, 2130302844, 2131290459},\n",
       " {2111068731, 2121939561, 2297004131, 2777652207},\n",
       " {2121939561, 2168973187},\n",
       " {2098136913, 2121939561, 2140412951},\n",
       " {2121939561, 2129405715, 2131539564, 2138416850, 2461963590},\n",
       " {2121939561, 2125104194, 2304105079},\n",
       " {2121939561, 2130957644, 2166036605, 2674375462},\n",
       " {2116657824, 2121939561, 2160602068, 2429862538},\n",
       " {1970017610, 2121939561, 2128900005, 2159859405, 2161558221},\n",
       " {2121939561, 2163471192, 2165330392, 2167348148},\n",
       " {1789374118,\n",
       "  2116657824,\n",
       "  2121939561,\n",
       "  2128637305,\n",
       "  2158012360,\n",
       "  2223498500,\n",
       "  2635071740},\n",
       " {2121939561},\n",
       " {2096053174, 2121939561, 2198983026, 2229606405, 2435751034, 2735006476},\n",
       " {2121939561, 2146335907, 2146873716, 2153139521, 2155983610, 2298201484},\n",
       " {2096731881, 2121939561, 2286546702, 2491264568},\n",
       " {1789374118,\n",
       "  2099219664,\n",
       "  2116657824,\n",
       "  2121939561,\n",
       "  2134127457,\n",
       "  2251840456,\n",
       "  2308330850},\n",
       " {2121939561, 2545170364, 2627731551, 2674214697},\n",
       " {2121939561, 2130302844, 2131290459},\n",
       " {2121939561, 2163471192, 2164604393, 2165330392, 2682329375},\n",
       " {1991372327, 2121939561, 2124676925, 2965622621},\n",
       " {2121939561, 2126330539, 2169619881},\n",
       " {159144305, 2096731881, 2121939561, 2423341390, 2682329375, 2956139412},\n",
       " {77965061, 2121939561, 2131539564, 2138416850},\n",
       " {2121939561, 2143081449, 2168090285},\n",
       " {2096749051, 2121939561},\n",
       " {2121378700, 2121939561, 2157206324, 2305841807, 2655474736},\n",
       " {310734946, 2116233846, 2121939561, 2161062602, 2949760587},\n",
       " {697457595, 2018880021, 2121939561, 2140412951, 2260275721},\n",
       " {1683457605,\n",
       "  1970017610,\n",
       "  2101490202,\n",
       "  2121939561,\n",
       "  2128900005,\n",
       "  2159859405,\n",
       "  2526540844,\n",
       "  2575826273,\n",
       "  2629230742,\n",
       "  2681888599,\n",
       "  2682329375},\n",
       " {2121939561, 2175015405, 2209247138},\n",
       " {2121939561,\n",
       "  2129405715,\n",
       "  2131539564,\n",
       "  2160715520,\n",
       "  2167348148,\n",
       "  2222819066,\n",
       "  2665928618,\n",
       "  2798669999},\n",
       " {1970017610,\n",
       "  2096731881,\n",
       "  2119398415,\n",
       "  2121939561,\n",
       "  2125144709,\n",
       "  2148733542,\n",
       "  2160100960,\n",
       "  2201582336,\n",
       "  2229430579,\n",
       "  2483465200,\n",
       "  2797002874},\n",
       " {2105037638,\n",
       "  2106251501,\n",
       "  2121939561,\n",
       "  2289455761,\n",
       "  2527554124,\n",
       "  2642673198,\n",
       "  2682329375,\n",
       "  2966150626},\n",
       " {2108451633,\n",
       "  2121939561,\n",
       "  2131453653,\n",
       "  2144151823,\n",
       "  2282115160,\n",
       "  2305339087,\n",
       "  2675075580,\n",
       "  2692543155},\n",
       " {2121939561, 2167348148},\n",
       " {2121939561, 2131539564},\n",
       " {2037649753, 2121939561, 2306766020, 2360612151, 2924623560},\n",
       " {2105625159, 2121939561, 2125104194, 2146335907},\n",
       " {2121939561, 2141500565, 2157503142},\n",
       " {2121939561, 2175015405, 2257366035, 2657574142},\n",
       " {2121939561, 2163471192, 2166036605, 2644946388},\n",
       " {2121939561, 2126330539, 2289816208},\n",
       " {688151781,\n",
       "  2105625159,\n",
       "  2121939561,\n",
       "  2126330539,\n",
       "  2164298414,\n",
       "  2295009377,\n",
       "  2718595758},\n",
       " {2059910451,\n",
       "  2121939561,\n",
       "  2131389276,\n",
       "  2149631809,\n",
       "  2163471192,\n",
       "  2165330392,\n",
       "  2682329375},\n",
       " {2121939561, 2126330539, 2164298414, 2626264286},\n",
       " {2121939561},\n",
       " {1970017610, 2121939561, 2138416850, 2148393143, 2160709719, 2442537023},\n",
       " {2105625159, 2121939561, 2125104194, 2146335907},\n",
       " {2121939561, 2141500565, 2157503142},\n",
       " {2105625159, 2121939561, 2126330539, 2164298414, 2626264286},\n",
       " {2096731881, 2121939561, 2131539564, 2664163432},\n",
       " {2103135160, 2109621001, 2121939561, 2289816208},\n",
       " {2121939561, 2231529517, 2461963590},\n",
       " {2121939561},\n",
       " {2096731881, 2116094297, 2121939561, 2491264568, 2674375462, 2797002874},\n",
       " {1991372327, 2121939561, 2164603845},\n",
       " {2096731881,\n",
       "  2121939561,\n",
       "  2150664895,\n",
       "  2617049578,\n",
       "  2620028873,\n",
       "  2625375043,\n",
       "  2674375462},\n",
       " {2037649753, 2121939561},\n",
       " {2037649753, 2121939561, 2225973430},\n",
       " {2099747503, 2121939561, 2122007671, 2231529517, 2293946001, 2966989119},\n",
       " {2121939561, 2149631809, 2152766206, 2163471192, 2165330392},\n",
       " {2037649753, 2121939561, 2163471192, 2664163432},\n",
       " {2121939561, 2647871750, 2779334963},\n",
       " {2121939561, 2126330539, 2289816208},\n",
       " {1789374118, 2096731881, 2116657824, 2121939561, 2664163432},\n",
       " {1979796846, 2121939561, 2131539564, 2146335907},\n",
       " {2121939561, 2749803796},\n",
       " {1976785405, 2121939561, 2126330539, 2164913959, 2584136427, 2697638473},\n",
       " {2121939561, 2618347989, 2628905190},\n",
       " {1979772396, 2121939561, 2125481875, 2126330539, 2575765363},\n",
       " {2116657824, 2121939561, 2125104194, 2160602068},\n",
       " {1991372327, 2121939561, 2164603845, 2175015405, 2277627877, 2703221922},\n",
       " {332400322, 2121939561, 2155983610, 2298201484, 2401676173, 2574305261},\n",
       " {1991372327, 2121939561, 2618347989, 2632509234},\n",
       " {1991372327, 2121939561, 2164603845, 2166036605},\n",
       " {2116657824, 2121939561, 2125104194, 2131539564, 2160715520, 2222819066},\n",
       " {2121939561, 2125800575, 2143081449, 2145115012, 2160715520, 2591433979},\n",
       " {2029339368,\n",
       "  2096731881,\n",
       "  2121939561,\n",
       "  2146873716,\n",
       "  2153139521,\n",
       "  2155983610,\n",
       "  2298201484},\n",
       " {2121939561, 2125104194, 2304105079},\n",
       " {2116657824, 2121939561, 2125104194},\n",
       " {1996151347, 2121939561, 2288375955},\n",
       " {2116657824, 2121939561, 2193013093},\n",
       " {2121939561, 2145605135},\n",
       " {2100961564, 2121939561, 2143081449, 2160715520, 2164604393, 2439468058},\n",
       " {2111068731, 2113473341, 2121939561, 2126330539, 2131290459, 2155513116},\n",
       " {2121939561, 2152766206, 2257366035},\n",
       " {2067196623, 2121939561, 2152882053},\n",
       " {2121939561, 2146335907, 2167348148},\n",
       " {2116657824, 2121939561, 2160602068, 2226569217},\n",
       " {1991372327, 2121939561, 2632509234},\n",
       " {2121939561, 2146335907, 2703921967},\n",
       " {2115153320, 2121939561, 2131539564, 2156862708, 2550317733, 2682826105},\n",
       " {2116657824, 2121939561, 2125104194},\n",
       " {121171588, 2121939561, 2152882053, 2315689540},\n",
       " {2110385854, 2121939561, 2158012360, 2461963590},\n",
       " {419395969, 2121939561, 2608152370},\n",
       " {2096731881, 2121939561, 2168090285, 2777596272},\n",
       " {2121939561, 2125104194, 2304105079, 2777069086},\n",
       " {697457595,\n",
       "  2100961564,\n",
       "  2121939561,\n",
       "  2131880941,\n",
       "  2143081449,\n",
       "  2145115012,\n",
       "  2591433979},\n",
       " {2121166262, 2121939561, 2164604393, 2168667670, 2931546397},\n",
       " {2096731881, 2121939561, 2146873716, 2155983610, 2298201484},\n",
       " {2098136913, 2121939561, 2167348148},\n",
       " {2125104194, 2617408456, 2703921967, 2890202748},\n",
       " {2059910451, 2121939561, 2130957644, 2165330392, 2642048689, 2682329375},\n",
       " {2116657824, 2121939561},\n",
       " {2116657824, 2121939561, 2125104194},\n",
       " {2098136913, 2121939561, 2143081449, 2160715520, 2225942978},\n",
       " {2106414564, 2121939561, 2131539564, 2158012360, 2664163432},\n",
       " {2121939561, 2131539564, 2146335907, 2306766020, 2664163432},\n",
       " {2116657824, 2121939561, 2125104194},\n",
       " {2060104901,\n",
       "  2098136913,\n",
       "  2121939561,\n",
       "  2127760509,\n",
       "  2134045017,\n",
       "  2143081449,\n",
       "  2167180637},\n",
       " {2098136913, 2121939561, 2134045017, 2949995093},\n",
       " {2121939561,\n",
       "  2129596114,\n",
       "  2130905166,\n",
       "  2131539564,\n",
       "  2344360781,\n",
       "  2617049578,\n",
       "  2625375043},\n",
       " {2121939561, 2134045017, 2175015405, 2209247138},\n",
       " {2121939561, 2132927693, 2169935022, 2642048689},\n",
       " {1991372327, 2116657824, 2121939561, 2161754280},\n",
       " {2114032439, 2121939561, 2131539564},\n",
       " {2105625159, 2121939561, 2281041638, 2584136427},\n",
       " {2121096705, 2121939561, 2301845795, 2799249791},\n",
       " {2121939561, 2167706577, 2304105079, 2618347989, 2807371183},\n",
       " {2116657824, 2121939561, 2122007671, 2168772039, 2294602198, 2461963590},\n",
       " {2121939561, 2132927693, 2161754280, 2169935022, 2303085466},\n",
       " {1991372327, 2121939561, 2703921967},\n",
       " {2121939561},\n",
       " {2105625159, 2121939561, 2126330539},\n",
       " {2121939561, 2134045017, 2161754280, 2949995093},\n",
       " {1994251058, 2118807127, 2121939561, 2167398159},\n",
       " {2096153351, 2121939561, 2131539564, 2223498500},\n",
       " {2116657824, 2121939561, 2141500565, 2157503142, 2632509234},\n",
       " {1979772396, 2121939561, 2542817296, 2799016678},\n",
       " {159144305,\n",
       "  2121939561,\n",
       "  2127422067,\n",
       "  2164604393,\n",
       "  2423341390,\n",
       "  2682329375,\n",
       "  2956139412},\n",
       " {2121939561},\n",
       " {2099591505, 2121939561, 2126330539, 2169619881},\n",
       " {1991372327, 2116657824, 2121939561, 2161754280},\n",
       " {2116657824, 2121939561, 2125104194, 2161754280},\n",
       " {2096731881, 2121939561, 2146873716, 2155983610, 2298201484, 2680447495},\n",
       " {2066993066, 2117809532, 2121939561, 2169587192},\n",
       " {2121939561, 2780767973},\n",
       " {2098136913, 2121939561, 2140412951},\n",
       " {2116657824, 2121939561, 2161754280, 2591257837},\n",
       " {2121939561, 2126330539, 2164298414, 2276897715, 2626264286},\n",
       " {2105625159, 2121939561, 2125104194, 2146335907},\n",
       " {134296357, 2121939561, 2161754280, 2164603845, 2949995093, 2952313629},\n",
       " {2121939561, 2125104194, 2304105079},\n",
       " {2106690481, 2121939561, 2617049578, 2682826105, 2926509426},\n",
       " {2096731881, 2121939561, 2491264568},\n",
       " {2121939561, 2126330539, 2164298414, 2309569033},\n",
       " {121171588, 2121939561, 2273718647},\n",
       " {1455095195, 2046577858, 2121939561},\n",
       " {92836226,\n",
       "  1774540375,\n",
       "  2097910005,\n",
       "  2116657824,\n",
       "  2117303747,\n",
       "  2120559848,\n",
       "  2121939561,\n",
       "  2193013093,\n",
       "  2214018173,\n",
       "  2526248107,\n",
       "  2575692247,\n",
       "  2656306730,\n",
       "  2689006276},\n",
       " {2059910451, 2121939561, 2131389276, 2149631809, 2165330392, 2682329375},\n",
       " {689294964, 2105637293, 2126330539, 2171332843, 2626264286, 2956850258},\n",
       " {2121939561, 2141500565, 2157503142},\n",
       " {76047928, 2121939561, 2156633756, 2305669513},\n",
       " {1970017610,\n",
       "  2096731881,\n",
       "  2118897571,\n",
       "  2121939561,\n",
       "  2148733542,\n",
       "  2160100960,\n",
       "  2163850232},\n",
       " {2105625159, 2121939561},\n",
       " {1789374118, 2096731881, 2116657824, 2121939561, 2664163432},\n",
       " {2096731881, 2121939561, 2131539564, 2163850232, 2491264568},\n",
       " {1991372327, 2096749051, 2121939561},\n",
       " {2121939561, 2148043859},\n",
       " {2121939561, 2567930152, 2633892590},\n",
       " {2116657824, 2121939561, 2129574738, 2168067196, 2617408456},\n",
       " {2116657824, 2121939561, 2125104194, 2132927693, 2160602068, 2235441732},\n",
       " {2096731881, 2121939561, 2146873716, 2155983610, 2298201484},\n",
       " {2096731881, 2121939561, 2125104194, 2491264568, 2642048689},\n",
       " {2121939561, 2152766206, 2157880984, 2461963590},\n",
       " {2121939561},\n",
       " {2116657824, 2121939561, 2125104194, 2160602068},\n",
       " {2103135160, 2109621001, 2121939561, 2289816208},\n",
       " {1970017610, 2096731881, 2121939561, 2148733542, 2526540844, 2642048689},\n",
       " {1991372327, 2121939561, 2703921967},\n",
       " {2121939561, 2164298414, 2169619881},\n",
       " {2109621001, 2121939561},\n",
       " {2046577858,\n",
       "  2121939561,\n",
       "  2130643217,\n",
       "  2134583074,\n",
       "  2146108112,\n",
       "  2234150714,\n",
       "  2430335071,\n",
       "  2461963590},\n",
       " {2121939561, 2167963239, 2169716560, 2584136427},\n",
       " {2115305989, 2121939561, 2127183023, 2134465402, 2160602068, 2951777716},\n",
       " {2106934193, 2121939561, 2129760627, 2141742294, 2143778659, 2309017108},\n",
       " {2121939561, 2149631809, 2152766206, 2163471192, 2165330392},\n",
       " {2121939561, 2338946638, 2626264286, 2707394146},\n",
       " {2105625159, 2121939561, 2125104194, 2146335907},\n",
       " {76047928, 2121939561, 2140596270},\n",
       " {1970017610, 2101490202, 2121939561, 2128900005, 2148733542, 2526540844},\n",
       " {2059910451, 2098224337, 2121939561, 2165330392, 2682329375},\n",
       " {1970017610,\n",
       "  2006663703,\n",
       "  2119759359,\n",
       "  2121939561,\n",
       "  2122007671,\n",
       "  2142276599,\n",
       "  2146335907,\n",
       "  2159859405,\n",
       "  2161558221,\n",
       "  2664163432},\n",
       " {2096731881, 2121939561, 2146873716, 2155983610, 2298201484},\n",
       " {1996151347, 2121939561, 2171991132, 2277438941, 2277642889},\n",
       " {2105625159, 2121939561, 2667078396},\n",
       " {2121939561, 2131539564, 2146335907},\n",
       " {2121939561, 2156633756},\n",
       " {2209247138, 2955294734, 2962166357},\n",
       " {2121939561, 2131539564, 2146335907, 2664163432},\n",
       " {2095732305, 2104651410, 2121939561, 2232655059, 2461963590},\n",
       " {2121939561, 2131539564, 2158012360, 2664163432, 2674375462},\n",
       " {2121939561, 2123207707, 2135234537, 2919116341},\n",
       " {2121939561, 2157206324, 2722523051},\n",
       " {2121939561, 2156633756},\n",
       " {2121939561, 2141500565, 2494284041},\n",
       " {697457595,\n",
       "  2121939561,\n",
       "  2131880941,\n",
       "  2143081449,\n",
       "  2160715520,\n",
       "  2167348148,\n",
       "  2168090285},\n",
       " {1991372327, 2121939561, 2618347989, 2632509234},\n",
       " {2100860776,\n",
       "  2121939561,\n",
       "  2130957644,\n",
       "  2131539564,\n",
       "  2149751490,\n",
       "  2152766206,\n",
       "  2164603845,\n",
       "  2167180637,\n",
       "  2674375462,\n",
       "  2703921967},\n",
       " {2029339368,\n",
       "  2031924902,\n",
       "  2047114418,\n",
       "  2096731881,\n",
       "  2121939561,\n",
       "  2146873716,\n",
       "  2155983610},\n",
       " {2119616764, 2121939561, 2167348148, 2510858842},\n",
       " {2121939561, 2125104194, 2304105079},\n",
       " {1991372327, 2121939561, 2169163720, 2577840770},\n",
       " {2106251501, 2121939561, 2289455761, 2682329375},\n",
       " {2121939561, 2131539564, 2134045017, 2163471192, 2175015405},\n",
       " {2116657824, 2129574738, 2168067196, 2617408456, 2953597871},\n",
       " {2119358208, 2121939561, 2147150345, 2164298414, 2626264286},\n",
       " {121171588, 2121939561, 2130302844, 2131290459},\n",
       " {2047114418,\n",
       "  2121939561,\n",
       "  2130957644,\n",
       "  2143728639,\n",
       "  2152766206,\n",
       "  2642048689,\n",
       "  2674375462},\n",
       " {2121939561, 2160602068, 2576012669, 2642048689, 2674375462},\n",
       " {2095732305, 2121939561, 2146335907},\n",
       " {2116657824, 2121939561, 2125104194, 2160602068, 2703921967},\n",
       " {2037649753, 2121939561, 2232428156},\n",
       " {2121939561, 2617408456},\n",
       " {1991372327, 2116657824, 2121939561, 2161754280},\n",
       " {2060104901,\n",
       "  2098136913,\n",
       "  2121939561,\n",
       "  2127760509,\n",
       "  2134045017,\n",
       "  2143081449,\n",
       "  2167180637,\n",
       "  2642048689},\n",
       " {2046577858,\n",
       "  2047114418,\n",
       "  2095732305,\n",
       "  2100860776,\n",
       "  2104651410,\n",
       "  2121939561,\n",
       "  2130643217,\n",
       "  2130957644,\n",
       "  2143728639,\n",
       "  2146108112,\n",
       "  2152766206,\n",
       "  2158342695,\n",
       "  2224466355,\n",
       "  2228729169,\n",
       "  2461963590,\n",
       "  2617049578,\n",
       "  2638713317,\n",
       "  2642048689,\n",
       "  2649443400,\n",
       "  2674375462,\n",
       "  2683715212,\n",
       "  2797002874},\n",
       " {2121939561, 2228286817, 2642048689, 2674375462},\n",
       " {2121939561, 2226211366},\n",
       " {2121939561, 2126330539, 2164298414, 2228174750, 2228569368, 2935837229},\n",
       " {2121939561, 2169163720},\n",
       " {1455095195,\n",
       "  2037649753,\n",
       "  2046577858,\n",
       "  2121939561,\n",
       "  2131539564,\n",
       "  2138416850,\n",
       "  2160715520,\n",
       "  2226531338,\n",
       "  2228120643,\n",
       "  2229437161,\n",
       "  2232428156,\n",
       "  2308745034,\n",
       "  2461963590,\n",
       "  2924623560},\n",
       " {2060104901,\n",
       "  2121939561,\n",
       "  2150635322,\n",
       "  2157503142,\n",
       "  2228129986,\n",
       "  2425877144,\n",
       "  2702924125},\n",
       " {2121939561},\n",
       " {2116657824, 2121939561, 2125104194, 2131539564},\n",
       " {2116657824, 2121939561, 2125104194, 2160602068, 2161754280},\n",
       " {2121939561, 2162779857, 2230686936, 2461963590, 2577665757, 2701361210},\n",
       " {1991372327, 2121939561, 2150852454, 2166036605},\n",
       " {2037649753, 2121939561, 2306766020, 2360612151, 2924623560},\n",
       " {76047928, 2121939561, 2140596270, 2156633756, 2305669513},\n",
       " {2121939561, 2169619881, 2171991132},\n",
       " {2096731881, 2121939561, 2131539564, 2163850232, 2461963590, 2491264568},\n",
       " {100137780,\n",
       "  2105637293,\n",
       "  2121939561,\n",
       "  2126330539,\n",
       "  2171332843,\n",
       "  2502499790,\n",
       "  2885622972},\n",
       " {310734946, 2116233846, 2121939561, 2161062602, 2949760587},\n",
       " {2121939561, 2126330539, 2289816208},\n",
       " {2121939561, 2123005755, 2222823181, 2949337331},\n",
       " {2121939561, 2131539564, 2167180637},\n",
       " {2121939561,\n",
       "  2129596114,\n",
       "  2130905166,\n",
       "  2131539564,\n",
       "  2134569023,\n",
       "  2330030585,\n",
       "  2401891449,\n",
       "  2617049578,\n",
       "  2969029679},\n",
       " {1970017610,\n",
       "  1977989916,\n",
       "  2121939561,\n",
       "  2128900005,\n",
       "  2132451723,\n",
       "  2147490476,\n",
       "  2161558221,\n",
       "  2205155946,\n",
       "  2304678617},\n",
       " {2095732305,\n",
       "  2121939561,\n",
       "  2129405715,\n",
       "  2130643217,\n",
       "  2131539564,\n",
       "  2222819066,\n",
       "  2223498500,\n",
       "  2231529517,\n",
       "  2461963590,\n",
       "  2617049578},\n",
       " {2121939561, 2304105079},\n",
       " {2121939561},\n",
       " {2121939561, 2130892346, 2160715520, 2656995071},\n",
       " {2121939561, 2156633756},\n",
       " {1979796846, 2121939561, 2131539564, 2162779165, 2673426936},\n",
       " {2095732305, 2121939561, 2129405715, 2223914299, 2461963590},\n",
       " {2096731881, 2121939561, 2146873716, 2155983610, 2298201484},\n",
       " {1970017610, 2120595703, 2121939561, 2161558221, 2304678617, 2308101520},\n",
       " {2121939561, 2131539564, 2164603845, 2628748265},\n",
       " {2110558983, 2121939561, 2279782171},\n",
       " {2121939561, 2131539564, 2169163720},\n",
       " {2116657824, 2121939561, 2125104194, 2303977190, 2312033102, 2703921967},\n",
       " {2046577858, 2060104901, 2121939561},\n",
       " {2121939561, 2122365371, 2125104194},\n",
       " {2121939561},\n",
       " {159144305, 2076680774, 2121939561, 2123946597, 2171670678},\n",
       " {2037649753, 2121939561, 2360612151, 2924623560},\n",
       " {2037649753, 2121939561, 2152766206},\n",
       " {2121939561, 2132927693, 2617773571, 2642048689},\n",
       " {2115276518, 2121939561, 2647871750},\n",
       " {2121939561, 2175015405, 2209247138},\n",
       " {2096731881, 2121939561, 2146873716, 2155983610, 2298201484},\n",
       " {2046577858, 2060104901, 2121939561, 2130957644},\n",
       " {2121939561, 2126330539, 2549858022},\n",
       " {1991372327, 2121939561, 2152766206, 2161754280, 2166036605},\n",
       " {1989969217,\n",
       "  2096731881,\n",
       "  2116657824,\n",
       "  2121939561,\n",
       "  2125104194,\n",
       "  2161754280,\n",
       "  2491264568,\n",
       "  2593413273},\n",
       " {2121939561},\n",
       " {2121939561, 2780483922},\n",
       " {2121939561, 2123005755, 2222823181},\n",
       " {2121939561, 2125104194, 2304105079},\n",
       " {1991372327, 2116657824, 2121939561, 2161754280},\n",
       " {1989969217,\n",
       "  2096731881,\n",
       "  2121939561,\n",
       "  2148733542,\n",
       "  2158345865,\n",
       "  2303897886,\n",
       "  2491264568},\n",
       " {1991372327, 2121939561, 2175015405, 2304105079},\n",
       " {2121939561, 2126521602, 2148043859},\n",
       " {2096749051, 2121939561, 2257366035},\n",
       " {2121939561, 2130957644, 2167180637, 2674375462, 2682826105},\n",
       " {121171588, 2067196623, 2121939561, 2152882053},\n",
       " {675606171,\n",
       "  1769982348,\n",
       "  1984926470,\n",
       "  2009223056,\n",
       "  2100886670,\n",
       "  2113847901,\n",
       "  2121939561,\n",
       "  2127760509,\n",
       "  2133617424,\n",
       "  2516458368},\n",
       " {2121939561, 2150676166, 2274853475, 2288375955, 2308328903},\n",
       " {2096749051, 2121939561, 2257366035},\n",
       " {2131539564,\n",
       "  2164603845,\n",
       "  2167180637,\n",
       "  2628748265,\n",
       "  2806345441,\n",
       "  2953597871,\n",
       "  2954529880},\n",
       " {1909451540,\n",
       "  1970017610,\n",
       "  1974741261,\n",
       "  2114032439,\n",
       "  2121939561,\n",
       "  2122007671,\n",
       "  2131539564,\n",
       "  2142276599,\n",
       "  2161558221,\n",
       "  2230935072},\n",
       " {149210974, 2121939561, 2160738353, 2421238729},\n",
       " {2097910005, 2116657824, 2121939561, 2193013093, 2575692247},\n",
       " {2121939561, 2141500565, 2157503142},\n",
       " {2047114418,\n",
       "  2096731881,\n",
       "  2121939561,\n",
       "  2143728639,\n",
       "  2146335907,\n",
       "  2146873716,\n",
       "  2155983610,\n",
       "  2680447495},\n",
       " {2121939561, 2356152961, 2617408456},\n",
       " {2121939561, 2250022027, 2626264286},\n",
       " {2105625159, 2121939561, 2126330539},\n",
       " {2115276518, 2121939561, 2251447541, 2304105079},\n",
       " {2116657824, 2121939561, 2161754280},\n",
       " {2024087872, 2121939561, 2152766206},\n",
       " {2121939561, 2141500565, 2157503142},\n",
       " {134296357, 2121939561, 2175015405, 2209247138},\n",
       " {2095732305,\n",
       "  2121939561,\n",
       "  2129405715,\n",
       "  2134583074,\n",
       "  2160715520,\n",
       "  2167348148,\n",
       "  2798669999},\n",
       " {2116657824, 2121939561, 2125104194, 2161754280},\n",
       " {2121939561, 2468587776, 2642048689},\n",
       " {350660853, 2076493382, 2116657824, 2121939561, 2130957644, 2703921967},\n",
       " {1970017610, 2108425474, 2121939561, 2128900005, 2132451723},\n",
       " {1991372327, 2116657824, 2121939561, 2161754280},\n",
       " {2098136913, 2121939561, 2127760509, 2642048689},\n",
       " {2098136913, 2121939561, 2127760509, 2642048689},\n",
       " {2116657824, 2121939561, 2130957644, 2703921967},\n",
       " {2067196623, 2121939561, 2152882053},\n",
       " {2121363826, 2121939561, 2227744130, 2682826105},\n",
       " {2059910451, 2121939561, 2682329375, 2961495316},\n",
       " {2059910451, 2121939561, 2682329375, 2961495316},\n",
       " {2096731881, 2121939561, 2131539564, 2167180637},\n",
       " {2116657824, 2121939561, 2125104194, 2160602068},\n",
       " {1970017610, 2121939561, 2161558221, 2304678617, 2308101520},\n",
       " {2121939561, 2126330539, 2632424487},\n",
       " {2105625159, 2121939561, 2642537015},\n",
       " {2121939561, 2141500565, 2152766206, 2166036605},\n",
       " {2121939561, 2131539564, 2161754280, 2163471192, 2164603845, 2169163720},\n",
       " {100137780,\n",
       "  2105625159,\n",
       "  2105637293,\n",
       "  2121939561,\n",
       "  2126330539,\n",
       "  2171332843,\n",
       "  2502499790,\n",
       "  2755249852},\n",
       " {2096731881,\n",
       "  2121939561,\n",
       "  2146335907,\n",
       "  2146873716,\n",
       "  2155983610,\n",
       "  2298201484,\n",
       "  2680447495},\n",
       " {2119237514, 2121939561, 2585510981, 2642048689, 2777339002},\n",
       " {2116657824, 2121939561, 2125104194, 2160602068, 2703921967},\n",
       " {2096153351, 2121939561, 2157708525, 2310280520},\n",
       " {688151781, 1991372327, 2121939561, 2175015405, 2632509234},\n",
       " {617941202, 1994112182, 2121939561, 2674375462},\n",
       " {2037649753,\n",
       "  2104651410,\n",
       "  2121939561,\n",
       "  2130643217,\n",
       "  2131539564,\n",
       "  2134583074,\n",
       "  2160715520,\n",
       "  2223498500,\n",
       "  2224466355,\n",
       "  2461963590,\n",
       "  2649443400},\n",
       " {2116657824, 2121939561},\n",
       " {2105625159, 2125104194, 2146335907, 2953597871},\n",
       " {2067196623, 2106914594, 2121939561, 2152882053},\n",
       " {2096731881, 2121939561, 2131539564, 2491264568},\n",
       " {1970017610,\n",
       "  2045838850,\n",
       "  2118725505,\n",
       "  2119759359,\n",
       "  2121939561,\n",
       "  2126979939,\n",
       "  2130905166,\n",
       "  2131880941,\n",
       "  2159859405,\n",
       "  2617049578,\n",
       "  2682826105},\n",
       " {1683457605, 2102121030, 2121939561, 2126067721, 2186956417, 2794113972},\n",
       " {697457595, 2118321968, 2121939561, 2232674230, 2616288379},\n",
       " {1965317105,\n",
       "  2047863277,\n",
       "  2106690481,\n",
       "  2121939561,\n",
       "  2122007671,\n",
       "  2274154217,\n",
       "  2437504495,\n",
       "  2617049578,\n",
       "  2682826105},\n",
       " {2098136913, 2121939561, 2167348148},\n",
       " {2118725505, 2121939561, 2231529517, 2461963590, 2654846876},\n",
       " {2099747503, 2121939561, 2293946001, 2635409596, 2966989119},\n",
       " {2103858907,\n",
       "  2105391371,\n",
       "  2121939561,\n",
       "  2140412951,\n",
       "  2140989322,\n",
       "  2244160015,\n",
       "  2620028873,\n",
       "  2628784956},\n",
       " {2096731881, 2121939561, 2674375462, 2797002874, 2949264261},\n",
       " {2121939561, 2130643217, 2294602198, 2674375462, 2917289587},\n",
       " {2121939561, 2131539564, 2617049578},\n",
       " {2121939561,\n",
       "  2130905166,\n",
       "  2131539564,\n",
       "  2137919822,\n",
       "  2161397473,\n",
       "  2330030585,\n",
       "  2401891449,\n",
       "  2609781870,\n",
       "  2617049578,\n",
       "  2701013535,\n",
       "  2798013276},\n",
       " {157741918,\n",
       "  2106690481,\n",
       "  2118725505,\n",
       "  2121939561,\n",
       "  2130905166,\n",
       "  2150664895,\n",
       "  2461963590,\n",
       "  2617049578,\n",
       "  2625375043},\n",
       " {1950715462, 2121939561, 2138416850, 2139671778, 2168209810},\n",
       " {2118725505, 2121939561, 2129405715, 2508960786, 2518651166, 2617049578},\n",
       " {2121939561, 2130302844, 2131290459},\n",
       " {2096731881,\n",
       "  2116057004,\n",
       "  2116094297,\n",
       "  2121939561,\n",
       "  2148733542,\n",
       "  2491264568,\n",
       "  2674375462,\n",
       "  2797002874},\n",
       " {1789374118, 2116657824, 2121939561, 2128637305, 2337645843},\n",
       " {2098136913, 2121939561, 2281645832, 2295138444},\n",
       " {2121939561, 2140412951, 2628784956, 2693917331},\n",
       " {2095732305, 2106690481, 2118725505, 2121939561, 2129405715, 2223914299},\n",
       " {528588921,\n",
       "  1683457605,\n",
       "  2102121030,\n",
       "  2121939561,\n",
       "  2168000538,\n",
       "  2234909068,\n",
       "  2682826105},\n",
       " {2119398415,\n",
       "  2121939561,\n",
       "  2128637305,\n",
       "  2145115012,\n",
       "  2163879794,\n",
       "  2286208985,\n",
       "  2562065547,\n",
       "  2616288379},\n",
       " {2121939561, 2129405715, 2231529517, 2461963590},\n",
       " {2116657824, 2121939561, 2122007671, 2161400417, 2294602198, 2618514357},\n",
       " {250363551,\n",
       "  279746424,\n",
       "  2059850712,\n",
       "  2121939561,\n",
       "  2146335907,\n",
       "  2146873716,\n",
       "  2153139521,\n",
       "  2155983610,\n",
       "  2225689060},\n",
       " {2096731881,\n",
       "  2116094297,\n",
       "  2121939561,\n",
       "  2148733542,\n",
       "  2674375462,\n",
       "  2797002874,\n",
       "  2949264261},\n",
       " {2096731881, 2119398415, 2121939561, 2294194149, 2630097597, 2674375462},\n",
       " {2103858907, 2121939561, 2138764651, 2163879794, 2510995246, 2616288379},\n",
       " {2115305989, 2121939561, 2198983026},\n",
       " {2121939561, 2135817545, 2160715520, 2167348148},\n",
       " {2100860776, 2121939561, 2152766206},\n",
       " {2121939561, 2157880984, 2617049578, 2649033479, 2652944969, 2682826105},\n",
       " {2119398415, 2121939561, 2294194149, 2590269738},\n",
       " {2121939561, 2461963590, 2525871280, 2617049578, 2755548849, 2797002874},\n",
       " {2059910451, 2121939561, 2130957644, 2682329375},\n",
       " {2098136913, 2121939561, 2167348148},\n",
       " {2121939561, 2169163720, 2664163432},\n",
       " {2121939561, 2156124385, 2194586962, 2288323287, 2664163432},\n",
       " {2121939561, 2167348148, 2510858842},\n",
       " {2095732305,\n",
       "  2096731881,\n",
       "  2119398415,\n",
       "  2121939561,\n",
       "  2146335907,\n",
       "  2167348148,\n",
       "  2461963590},\n",
       " {2121939561, 2148043859},\n",
       " {2099747503,\n",
       "  2121939561,\n",
       "  2122007671,\n",
       "  2293946001,\n",
       "  2461963590,\n",
       "  2617049578,\n",
       "  2627585029},\n",
       " {697457595,\n",
       "  1970017610,\n",
       "  2119398415,\n",
       "  2121939561,\n",
       "  2131880941,\n",
       "  2143081449,\n",
       "  2160715520,\n",
       "  2167348148},\n",
       " {2059910451, 2121939561, 2149631809, 2163471192, 2165330392},\n",
       " {2095732305, 2096731881, 2121939561, 2461963590},\n",
       " {2046577858, 2112441069, 2121939561, 2129405715, 2146108112, 2461963590},\n",
       " {2099747503, 2121939561, 2293946001, 2627585029, 2635409596},\n",
       " {2121939561, 2129405715, 2231529517, 2617049578},\n",
       " {2106690481,\n",
       "  2118725505,\n",
       "  2119398415,\n",
       "  2121939561,\n",
       "  2123682575,\n",
       "  2129405715,\n",
       "  2130643217,\n",
       "  2141329079,\n",
       "  2149341496,\n",
       "  2165466752,\n",
       "  2343901239,\n",
       "  2344814099,\n",
       "  2468021437,\n",
       "  2617049578,\n",
       "  2639787131,\n",
       "  2692311389,\n",
       "  2695647148},\n",
       " {2099747503, 2121939561, 2122007671, 2293946001, 2966989119},\n",
       " {2099747503,\n",
       "  2121939561,\n",
       "  2131539564,\n",
       "  2134583074,\n",
       "  2293946001,\n",
       "  2627585029,\n",
       "  2654846876},\n",
       " {2118786480, 2121939561, 2223914299, 2620028873},\n",
       " {2044978172,\n",
       "  2106690481,\n",
       "  2118725505,\n",
       "  2121939561,\n",
       "  2224392042,\n",
       "  2508212283,\n",
       "  2617049578},\n",
       " {2118786480, 2121939561, 2223914299},\n",
       " {2096731881, 2121939561, 2674375462, 2797002874, 2949264261},\n",
       " {2121939561, 2122365371, 2125104194},\n",
       " {2121939561, 2140989322, 2148997595, 2164671343, 2223914299},\n",
       " {2077695977, 2121939561, 2129405715, 2508159517},\n",
       " {1970017610,\n",
       "  2118725505,\n",
       "  2121939561,\n",
       "  2129405715,\n",
       "  2508960786,\n",
       "  2518651166,\n",
       "  2550766808,\n",
       "  2617049578},\n",
       " {2115305989, 2118786480, 2121939561, 2223914299, 2614412071, 2919346995},\n",
       " {721232367,\n",
       "  2121939561,\n",
       "  2145115012,\n",
       "  2150664895,\n",
       "  2244867289,\n",
       "  2342729287,\n",
       "  2616288379},\n",
       " {2095732305, 2118786480, 2119398415, 2121939561, 2223914299, 2508960786},\n",
       " {2096153351, 2121939561, 2157708525, 2162061211, 2968142548},\n",
       " {2060056193, 2119501630, 2121939561, 2223914299, 2503538829},\n",
       " {2121939561, 2129405715, 2508212283, 2508960786, 2518651166, 2617049578},\n",
       " {2121939561},\n",
       " {2105391371,\n",
       "  2121939561,\n",
       "  2140412951,\n",
       "  2140989322,\n",
       "  2244160015,\n",
       "  2477662076,\n",
       "  2620028873,\n",
       "  2628784956},\n",
       " {121171588, 2121939561, 2152882053, 2315689540},\n",
       " {2121939561, 2140412951, 2168000538, 2687056350},\n",
       " {2109002238, 2121939561, 2122391114, 2694967201},\n",
       " {2121939561, 2134583074, 2660531040},\n",
       " {2106690481,\n",
       "  2118725505,\n",
       "  2119398415,\n",
       "  2121939561,\n",
       "  2128637305,\n",
       "  2130643217,\n",
       "  2579446391,\n",
       "  2706238493},\n",
       " {2105625159, 2121939561, 2163879794, 2723820743},\n",
       " {134296357, 2121939561, 2949995093, 2952313629},\n",
       " {2121939561},\n",
       " {2095732305, 2096153351, 2115305989, 2121939561, 2130643217, 2222819066},\n",
       " {2121939561, 2163879794, 2295915604, 2583697975, 2616288379, 2723820743},\n",
       " {1970017610, 2101490202, 2121939561, 2128900005, 2148733542, 2526540844},\n",
       " {1977834538, 2057816297, 2121939561, 2302515044, 2594698988, 2804539245},\n",
       " {2095732305, 2115305989, 2118725505, 2121939561, 2129405715, 2223914299},\n",
       " {2046577858, 2095732305, 2121939561, 2146108112, 2461963590},\n",
       " {2060104901,\n",
       "  2095732305,\n",
       "  2121939561,\n",
       "  2148733542,\n",
       "  2150631181,\n",
       "  2157880984,\n",
       "  2461963590},\n",
       " {2103858907,\n",
       "  2106690481,\n",
       "  2115305989,\n",
       "  2119398415,\n",
       "  2121939561,\n",
       "  2129405715,\n",
       "  2223914299},\n",
       " {2103858907,\n",
       "  2108342033,\n",
       "  2121939561,\n",
       "  2145115012,\n",
       "  2163879794,\n",
       "  2286208985,\n",
       "  2510995246,\n",
       "  2616288379},\n",
       " {2121939561, 2126330539, 2289816208},\n",
       " {2115305989, 2121939561, 2129405715, 2223914299},\n",
       " {2115305989, 2121939561, 2129405715, 2223914299},\n",
       " {2121939561, 2164604393, 2949995093},\n",
       " {2121939561, 2163879794, 2616288379},\n",
       " {2121939561, 2125104194, 2149169927, 2150664895, 2305185572, 2750831907},\n",
       " {2121939561},\n",
       " {2121939561, 2130957644, 2152766206, 2167180637, 2642048689, 2674375462},\n",
       " {2121939561},\n",
       " {2121939561, 2167348148},\n",
       " {2121939561},\n",
       " {2096153351, 2121939561, 2128637305, 2424237206, 2624327454},\n",
       " {1970017610,\n",
       "  2096731881,\n",
       "  2119398415,\n",
       "  2121939561,\n",
       "  2125144709,\n",
       "  2148733542,\n",
       "  2160100960,\n",
       "  2201582336,\n",
       "  2229046948,\n",
       "  2229430579,\n",
       "  2245637756,\n",
       "  2483465200,\n",
       "  2797002874},\n",
       " {2121939561, 2129405715, 2508960786},\n",
       " {2096153351,\n",
       "  2121939561,\n",
       "  2129405715,\n",
       "  2150664895,\n",
       "  2617049578,\n",
       "  2726840914,\n",
       "  2733011021},\n",
       " {2105625159, 2106302639, 2121939561, 2124214372, 2667078396},\n",
       " {2103858907,\n",
       "  2121939561,\n",
       "  2130643217,\n",
       "  2138764651,\n",
       "  2163879794,\n",
       "  2510995246,\n",
       "  2616288379},\n",
       " {676141300,\n",
       "  2030994809,\n",
       "  2064642656,\n",
       "  2115305989,\n",
       "  2116888582,\n",
       "  2121939561,\n",
       "  2129405715,\n",
       "  2130643217,\n",
       "  2508960786,\n",
       "  2550766808,\n",
       "  2726840914,\n",
       "  2741408041,\n",
       "  2742096562},\n",
       " {2095732305,\n",
       "  2096153351,\n",
       "  2115305989,\n",
       "  2119398415,\n",
       "  2121939561,\n",
       "  2130643217,\n",
       "  2222819066},\n",
       " {2121939561, 2163879794, 2524788031, 2616288379, 2744892781},\n",
       " {2103858907,\n",
       "  2121939561,\n",
       "  2128637305,\n",
       "  2163879794,\n",
       "  2616288379,\n",
       "  2733011021,\n",
       "  2776296929},\n",
       " {1819457079,\n",
       "  2030994809,\n",
       "  2064642656,\n",
       "  2103684945,\n",
       "  2121939561,\n",
       "  2131539564,\n",
       "  2148755609,\n",
       "  2208139599,\n",
       "  2315689540,\n",
       "  2599335078,\n",
       "  2619825733,\n",
       "  2743756719,\n",
       "  2743871353,\n",
       "  2745198101},\n",
       " {2096153351,\n",
       "  2118786480,\n",
       "  2121939561,\n",
       "  2129405715,\n",
       "  2223914299,\n",
       "  2567362423,\n",
       "  2733011021},\n",
       " {2119398415, 2121939561, 2128637305, 2130643217, 2461963590},\n",
       " {2121939561, 2129405715, 2223914299, 2508960786, 2625476853, 2627585029},\n",
       " {2121939561, 2150664895, 2212569155, 2760896857},\n",
       " {2121939561, 2129405715, 2550766808, 2567362423, 2765675880},\n",
       " {2099747503, 2121939561, 2131539564, 2293946001, 2627585029, 2635409596},\n",
       " {2121939561, 2150664895, 2616288379, 2767751256, 2767895292},\n",
       " {2121939561, 2163879794, 2223914299, 2307703274, 2583697975, 2616288379},\n",
       " {2103858907,\n",
       "  2121939561,\n",
       "  2163879794,\n",
       "  2510995246,\n",
       "  2616288379,\n",
       "  2767798788,\n",
       "  2898625888},\n",
       " {2121939561, 2129405715, 2508960786, 2767817958},\n",
       " {2121939561, 2524788031, 2733011021, 2778585531, 2898625888},\n",
       " {2121939561, 2129405715, 2223914299, 2550766808, 2742096562, 2776296929},\n",
       " {2121939561, 2508960786, 2625476853},\n",
       " {2096901250, 2121939561, 2168772039, 2424237206, 2524788031, 2784960647},\n",
       " {199442883,\n",
       "  2121939561,\n",
       "  2129405715,\n",
       "  2223914299,\n",
       "  2741408041,\n",
       "  2767817958,\n",
       "  2783691721,\n",
       "  2811250751},\n",
       " {2104934014, 2121939561, 2230127352, 2616288379, 2788289395},\n",
       " {2103858907, 2115305989, 2121939561, 2223914299, 2733011021, 2788724305},\n",
       " {2121939561, 2138764651, 2524788031, 2616288379, 2767798788, 2898625888},\n",
       " {2121939561},\n",
       " {157414336,\n",
       "  2121939561,\n",
       "  2123609839,\n",
       "  2223914299,\n",
       "  2238237585,\n",
       "  2687370976,\n",
       "  2742096562,\n",
       "  2787883788,\n",
       "  2963355582},\n",
       " {2096153351, 2102121030, 2121939561, 2726840914, 2733011021},\n",
       " {2096153351, 2119398415, 2121939561, 2424237206, 2726840914},\n",
       " {2119398415,\n",
       "  2121939561,\n",
       "  2128637305,\n",
       "  2163879794,\n",
       "  2286208985,\n",
       "  2616288379,\n",
       "  2776296929},\n",
       " {2121939561, 2129405715, 2742096562, 2798684433, 2798745907},\n",
       " {2121939561, 2129405715, 2223914299, 2231529517, 2726840914, 2767817958},\n",
       " {2116888582, 2121939561, 2223914299, 2614412071, 2742096562, 2798751966},\n",
       " {2118786480, 2121939561, 2129405715, 2223914299, 2733011021},\n",
       " {2096731881,\n",
       "  2103858907,\n",
       "  2115305989,\n",
       "  2121939561,\n",
       "  2508960786,\n",
       "  2797002874,\n",
       "  2912434761},\n",
       " {2106593583,\n",
       "  2121939561,\n",
       "  2129405715,\n",
       "  2241351945,\n",
       "  2550766808,\n",
       "  2616288379,\n",
       "  2742096562,\n",
       "  2776296929},\n",
       " {2121939561, 2424237206, 2616288379, 2726840914, 2809318793},\n",
       " {2121939561, 2166138787, 2524788031, 2780420065},\n",
       " {2099747503, 2121939561, 2293946001, 2627585029, 2635409596},\n",
       " {2106593583,\n",
       "  2115305989,\n",
       "  2121939561,\n",
       "  2130643217,\n",
       "  2241351945,\n",
       "  2742096562,\n",
       "  2888386796,\n",
       "  2951666444},\n",
       " {2121939561, 2741408041, 2767817958, 2797002874, 2888666757},\n",
       " {2121939561, 2616288379, 2742096562, 2889929441},\n",
       " {2121939561, 2129405715, 2223914299, 2733011021, 2798684433, 2891204365},\n",
       " {2121939561,\n",
       "  2129405715,\n",
       "  2303033232,\n",
       "  2508212283,\n",
       "  2518651166,\n",
       "  2583697975,\n",
       "  2616288379,\n",
       "  2617049578,\n",
       "  2941408285},\n",
       " {2121939561, 2524788031, 2603370895, 2898625888},\n",
       " {2524788031, 2898350758, 2898571989, 2954542006, 2955294734},\n",
       " {2106593583, 2121939561, 2129405715, 2241351945, 2742096562, 2900675376},\n",
       " {2121939561, 2424237206, 2524788031, 2798751966, 2903169086},\n",
       " {2121939561, 2742096562, 2889929441, 2923129024},\n",
       " {717547165, 1960273364, 1998938290, 2121939561, 2547071292, 2630077267},\n",
       " {2121939561, 2424237206, 2524788031, 2560157511, 2907185297},\n",
       " {2103858907,\n",
       "  2115305989,\n",
       "  2119398415,\n",
       "  2121939561,\n",
       "  2130643217,\n",
       "  2616288379,\n",
       "  2888386796},\n",
       " {2115173548, 2121939561, 2150664895, 2797002874, 2907070520, 2907694978},\n",
       " {1970017610,\n",
       "  2111003612,\n",
       "  2120026763,\n",
       "  2121939561,\n",
       "  2126979939,\n",
       "  2193725429,\n",
       "  2306247973,\n",
       "  2560862261,\n",
       "  2910294582,\n",
       "  2910504454},\n",
       " {2121939561, 2222819066, 2231529517, 2567649626, 2907415586},\n",
       " {2121939561, 2125104194, 2158012360, 2161065209},\n",
       " {2121939561, 2141500565, 2157503142},\n",
       " {2121939561},\n",
       " {2118786480, 2121939561, 2524788031, 2898625888, 2911787109, 2912434761},\n",
       " {2121939561, 2133227394, 2741408041, 2767817958, 2797002874, 2913379783},\n",
       " {2121939561, 2133227394, 2741408041, 2767817958, 2797002874},\n",
       " {1970017610,\n",
       "  2121939561,\n",
       "  2148733542,\n",
       "  2160100960,\n",
       "  2230127352,\n",
       "  2241874014,\n",
       "  2245637756,\n",
       "  2535364173,\n",
       "  2801925258,\n",
       "  2807846914,\n",
       "  2808001541,\n",
       "  2912487934,\n",
       "  2913020739},\n",
       " {292626543, 2121939561, 2524788031, 2945479900},\n",
       " {2121939561, 2923129024},\n",
       " {2121939561, 2765675880, 2776296929, 2943923071, 2951666444},\n",
       " {2103858907, 2121939561, 2128637305},\n",
       " {2121939561, 2508212283, 2617049578, 2946678555},\n",
       " {2121939561, 2257366035, 2275044101, 2907260166, 2948779996},\n",
       " {2037624971, 2037649753, 2121939561, 2164604393},\n",
       " {2116888582, 2121939561, 2223914299, 2614412071, 2742096562, 2798751966},\n",
       " {2121939561, 2129405715, 2508960786, 2767817958},\n",
       " {2118725505, 2121939561, 2231529517, 2461963590, 2654846876},\n",
       " {617941202, 1994112182, 2121939561, 2674375462},\n",
       " {2121939561, 2127379895, 2129405715, 2132538679},\n",
       " {2121939561, 2617049578, 2733011021, 2950667532, 2952196955},\n",
       " {2118725505, 2121939561, 2129405715, 2508960786, 2518651166, 2617049578},\n",
       " {2096731881,\n",
       "  2116094297,\n",
       "  2116340933,\n",
       "  2121939561,\n",
       "  2148733542,\n",
       "  2674375462,\n",
       "  2797002874,\n",
       "  2949264261},\n",
       " {1970017610,\n",
       "  2118725505,\n",
       "  2121939561,\n",
       "  2129405715,\n",
       "  2508960786,\n",
       "  2518651166,\n",
       "  2550766808,\n",
       "  2617049578},\n",
       " {2121939561, 2129405715, 2223914299, 2231529517, 2726840914, 2767817958},\n",
       " {2095732305, 2115305989, 2118725505, 2121939561, 2129405715, 2223914299},\n",
       " {2106593583,\n",
       "  2115305989,\n",
       "  2121939561,\n",
       "  2130643217,\n",
       "  2241351945,\n",
       "  2742096562,\n",
       "  2888386796,\n",
       "  2951666444},\n",
       " {721232367, 2121939561, 2145115012, 2150664895, 2244867289, 2616288379},\n",
       " {2121939561, 2131539564, 2146335907},\n",
       " {2121939561, 2129405715, 2508960786},\n",
       " {2121939561, 2129405715, 2223914299, 2733011021, 2798684433, 2891204365},\n",
       " {2103858907,\n",
       "  2106690481,\n",
       "  2115305989,\n",
       "  2119398415,\n",
       "  2121939561,\n",
       "  2129405715,\n",
       "  2223914299},\n",
       " {2121939561, 2424237206, 2524788031, 2798751966, 2903169086},\n",
       " {2096153351,\n",
       "  2118786480,\n",
       "  2121939561,\n",
       "  2129405715,\n",
       "  2223914299,\n",
       "  2567362423,\n",
       "  2733011021},\n",
       " {2121939561, 2129405715, 2223914299, 2508960786, 2625476853, 2627585029},\n",
       " {2121939561, 2150664895, 2212569155, 2760896857},\n",
       " {2096153351,\n",
       "  2121939561,\n",
       "  2129405715,\n",
       "  2150664895,\n",
       "  2617049578,\n",
       "  2726840914,\n",
       "  2733011021},\n",
       " {2121939561, 2122365371, 2125104194},\n",
       " {2121939561, 2129405715, 2742096562, 2798684433, 2798745907},\n",
       " {199442883,\n",
       "  2121939561,\n",
       "  2129405715,\n",
       "  2223914299,\n",
       "  2741408041,\n",
       "  2767817958,\n",
       "  2783691721,\n",
       "  2811250751},\n",
       " {2121939561, 2742096562, 2889929441, 2923129024},\n",
       " {2096153351, 2119398415, 2121939561, 2424237206, 2726840914},\n",
       " {2098136913, 2121939561, 2167348148},\n",
       " {2118786480, 2121939561, 2129405715, 2223914299, 2733011021, 2798684433},\n",
       " {2121939561, 2129405715, 2550766808, 2567362423, 2765675880},\n",
       " {2106593583, 2121939561, 2129405715, 2241351945, 2742096562, 2900675376},\n",
       " {2121939561, 2223914299, 2733011021, 2742096562},\n",
       " {2121939561,\n",
       "  2129405715,\n",
       "  2223914299,\n",
       "  2286208985,\n",
       "  2617049578,\n",
       "  2733011021,\n",
       "  2968146183,\n",
       "  2968977591},\n",
       " {2231529517, 2567362423, 2805827202, 2969609128},\n",
       " {2121939561, 2889929441, 2923129024, 2969338882, 2969868331, 2969895209},\n",
       " {2121939561, 2129405715, 2726840914, 2733011021, 2798745907},\n",
       " {2118725505, 2121939561, 2231529517, 2511744178, 2970883700, 2971221291},\n",
       " {2121939561, 2129405715, 2798745907, 2906312572},\n",
       " {2121939561, 2223914299, 2733011021},\n",
       " {2121939561, 2889929441, 2969338882, 2970018084},\n",
       " {2121939561, 2223914299, 2733011021, 2968977591, 2970386482, 2971193479},\n",
       " {2119398415,\n",
       "  2121939561,\n",
       "  2889929441,\n",
       "  2969338882,\n",
       "  2969895209,\n",
       "  2970021650,\n",
       "  2970386892},\n",
       " {2121939561,\n",
       "  2424237206,\n",
       "  2726840914,\n",
       "  2742096562,\n",
       "  2798751966,\n",
       "  2903169086,\n",
       "  2971372089,\n",
       "  2971557105,\n",
       "  2971568596,\n",
       "  2972012828},\n",
       " {2121939561, 2223914299, 2733011021, 2968977591, 2970386482, 2971193479}]"
      ]
     },
     "execution_count": 33,
     "metadata": {},
     "output_type": "execute_result"
    }
   ],
   "source": [
    "temp_coauthor_for_target_author"
   ]
  },
  {
   "cell_type": "code",
   "execution_count": 53,
   "metadata": {},
   "outputs": [
    {
     "data": {
      "text/plain": [
       "True"
      ]
     },
     "execution_count": 53,
     "metadata": {},
     "output_type": "execute_result"
    }
   ],
   "source": [
    "target_author_magfid in id2idx"
   ]
  },
  {
   "cell_type": "code",
   "execution_count": 12,
   "metadata": {},
   "outputs": [
    {
     "data": {
      "text/plain": [
       "'jiawei han'"
      ]
     },
     "execution_count": 12,
     "metadata": {},
     "output_type": "execute_result"
    }
   ],
   "source": [
    "target_author_name"
   ]
  },
  {
   "cell_type": "code",
   "execution_count": 15,
   "metadata": {},
   "outputs": [
    {
     "name": "stdout",
     "output_type": "stream",
     "text": [
      "[]\n",
      "[]\n"
     ]
    }
   ],
   "source": [
    "i = 1\n",
    "print([magfid2fname[fid] for fid in pid2magfids[target_author_pids[i]]])\n",
    "print(pid2magfids[target_author_pids[i]])"
   ]
  },
  {
   "cell_type": "code",
   "execution_count": 41,
   "metadata": {},
   "outputs": [
    {
     "data": {
      "text/plain": [
       "[]"
      ]
     },
     "execution_count": 41,
     "metadata": {},
     "output_type": "execute_result"
    }
   ],
   "source": [
    "pid2magfids[awfid2pids[target_author_id][18]]"
   ]
  },
  {
   "cell_type": "code",
   "execution_count": 42,
   "metadata": {},
   "outputs": [
    {
     "data": {
      "text/plain": [
       "66443818"
      ]
     },
     "execution_count": 42,
     "metadata": {},
     "output_type": "execute_result"
    }
   ],
   "source": [
    "awfid2pids[target_author_id][18]"
   ]
  },
  {
   "cell_type": "code",
   "execution_count": 40,
   "metadata": {},
   "outputs": [
    {
     "name": "stdout",
     "output_type": "stream",
     "text": [
      "xifeng yan\n",
      "philip s yu\n",
      "tianyi wu\n",
      "yizhou sun\n",
      "ji hyea han\n"
     ]
    }
   ],
   "source": [
    "for id in  {2116657824, 2125104194, 2131539564, 2164603845, 2953597871}:\n",
    "    print(magfid2fname[id])"
   ]
  },
  {
   "cell_type": "code",
   "execution_count": null,
   "metadata": {},
   "outputs": [],
   "source": []
  },
  {
   "cell_type": "code",
   "execution_count": null,
   "metadata": {},
   "outputs": [],
   "source": []
  },
  {
   "cell_type": "code",
   "execution_count": 9,
   "metadata": {},
   "outputs": [
    {
     "data": {
      "text/plain": [
       "0.9999624490737915"
      ]
     },
     "execution_count": 9,
     "metadata": {},
     "output_type": "execute_result"
    }
   ],
   "source": [
    "# sentence transformer score\n",
    "known_pids = awfid2pids[target_author_id]\n",
    "known_pubs = get_pub_info_from_mysql(known_pids, cursor)\n",
    "known_emb = sentence_transformer.encode(['%s[SEP]%s' % (str(info.get('title')), str(info.get('abstract'))) for pid, info in known_pubs.items()], convert_to_tensor=True).cuda()\n",
    "unknown_emb = sentence_transformer.encode(['%s[SEP]%s' % (test_pub['title'], test_pub['abstract'])], convert_to_tensor=True).cuda()\n",
    "search_hits = util.semantic_search(unknown_emb, known_emb, top_k=1)\n",
    "semantic_score = search_hits[0][0]['score']\n",
    "semantic_score"
   ]
  },
  {
   "cell_type": "code",
   "execution_count": 33,
   "metadata": {},
   "outputs": [
    {
     "data": {
      "text/plain": [
       "0.7369004090627035"
      ]
     },
     "execution_count": 33,
     "metadata": {},
     "output_type": "execute_result"
    }
   ],
   "source": [
    "# co author score\n",
    "from statistics import mean\n",
    "co_author_score = None\n",
    "coauthors = test_pub['co_author']\n",
    "if coauthors is not None:\n",
    "    target_author_name = awfid2fname[target_author_id]\n",
    "    if target_author_name in fname2magfids:\n",
    "        # Locate target author in MAG\n",
    "        target_author_pids = awfid2pids[target_author_id]\n",
    "        temp_coauthor_for_target_author = [set(pid2magfids[pid]) for pid in target_author_pids if pid in pid2magfids]\n",
    "        if temp_coauthor_for_target_author:\n",
    "            possible_ids = temp_coauthor_for_target_author[0]\n",
    "            for co in temp_coauthor_for_target_author:\n",
    "                possible_ids = possible_ids & co\n",
    "            if possible_ids:\n",
    "                possible_ids = [id for id in possible_ids if magfid2fname[id] == target_author_name]\n",
    "                if len(possible_ids) == 1:\n",
    "                    target_author_magfid = possible_ids[0]\n",
    "                    target_author_emb = embeddings[id2idx[target_author_magfid]]\n",
    "                    if sub_co_author_graph.has_node(target_author_magfid):\n",
    "                        # Filter out coauthors not in the graph\n",
    "                        recognized_coauthors = [fname2magfids[a] for a in coauthors if a in fname2magfids]\n",
    "                        trained_coauthors = [[id for id in coauthor_ids if sub_co_author_graph.has_node(id)] for coauthor_ids in recognized_coauthors]\n",
    "                        trained_coauthors = [coauthor_ids for coauthor_ids in trained_coauthors if coauthor_ids]\n",
    "                        if trained_coauthors:\n",
    "                            scores = []\n",
    "                            for trained_coauthor in trained_coauthors:\n",
    "                                coauthor_emb = torch.index_select(embeddings, 0, torch.tensor([id2idx[id] for id in trained_coauthor]))\n",
    "                                temp_score = torch.max(target_author_emb @ coauthor_emb.T).sigmoid().cpu().item()\n",
    "                                scores.append(temp_score)\n",
    "                            co_author_score = mean(scores)\n",
    "co_author_score"
   ]
  },
  {
   "cell_type": "code",
   "execution_count": 14,
   "metadata": {},
   "outputs": [
    {
     "name": "stdout",
     "output_type": "stream",
     "text": [
      "huggingface/tokenizers: The current process just got forked, after parallelism has already been used. Disabling parallelism to avoid deadlocks...\n",
      "To disable this warning, you can either:\n",
      "\t- Avoid using `tokenizers` before the fork if possible\n",
      "\t- Explicitly set the environment variable TOKENIZERS_PARALLELISM=(true | false)\n",
      "huggingface/tokenizers: The current process just got forked, after parallelism has already been used. Disabling parallelism to avoid deadlocks...\n",
      "To disable this warning, you can either:\n",
      "\t- Avoid using `tokenizers` before the fork if possible\n",
      "\t- Explicitly set the environment variable TOKENIZERS_PARALLELISM=(true | false)\n",
      "huggingface/tokenizers: The current process just got forked, after parallelism has already been used. Disabling parallelism to avoid deadlocks...\n",
      "To disable this warning, you can either:\n",
      "\t- Avoid using `tokenizers` before the fork if possible\n",
      "\t- Explicitly set the environment variable TOKENIZERS_PARALLELISM=(true | false)\n",
      "huggingface/tokenizers: The current process just got forked, after parallelism has already been used. Disabling parallelism to avoid deadlocks...\n",
      "To disable this warning, you can either:\n",
      "\t- Avoid using `tokenizers` before the fork if possible\n",
      "\t- Explicitly set the environment variable TOKENIZERS_PARALLELISM=(true | false)\n",
      "huggingface/tokenizers: The current process just got forked, after parallelism has already been used. Disabling parallelism to avoid deadlocks...\n",
      "To disable this warning, you can either:\n",
      "\t- Avoid using `tokenizers` before the fork if possible\n",
      "\t- Explicitly set the environment variable TOKENIZERS_PARALLELISM=(true | false)\n",
      "huggingface/tokenizers: The current process just got forked, after parallelism has already been used. Disabling parallelism to avoid deadlocks...\n",
      "To disable this warning, you can either:\n",
      "\t- Avoid using `tokenizers` before the fork if possible\n",
      "\t- Explicitly set the environment variable TOKENIZERS_PARALLELISM=(true | false)\n",
      "huggingface/tokenizers: The current process just got forked, after parallelism has already been used. Disabling parallelism to avoid deadlocks...\n",
      "To disable this warning, you can either:\n",
      "\t- Avoid using `tokenizers` before the fork if possible\n",
      "\t- Explicitly set the environment variable TOKENIZERS_PARALLELISM=(true | false)\n",
      "huggingface/tokenizers: The current process just got forked, after parallelism has already been used. Disabling parallelism to avoid deadlocks...\n",
      "To disable this warning, you can either:\n",
      "\t- Avoid using `tokenizers` before the fork if possible\n",
      "\t- Explicitly set the environment variable TOKENIZERS_PARALLELISM=(true | false)\n",
      "huggingface/tokenizers: The current process just got forked, after parallelism has already been used. Disabling parallelism to avoid deadlocks...\n",
      "To disable this warning, you can either:\n",
      "\t- Avoid using `tokenizers` before the fork if possible\n",
      "\t- Explicitly set the environment variable TOKENIZERS_PARALLELISM=(true | false)\n",
      "huggingface/tokenizers: The current process just got forked, after parallelism has already been used. Disabling parallelism to avoid deadlocks...\n",
      "To disable this warning, you can either:\n",
      "\t- Avoid using `tokenizers` before the fork if possible\n",
      "\t- Explicitly set the environment variable TOKENIZERS_PARALLELISM=(true | false)\n",
      "huggingface/tokenizers: The current process just got forked, after parallelism has already been used. Disabling parallelism to avoid deadlocks...\n",
      "To disable this warning, you can either:\n",
      "\t- Avoid using `tokenizers` before the fork if possible\n",
      "\t- Explicitly set the environment variable TOKENIZERS_PARALLELISM=(true | false)\n",
      "huggingface/tokenizers: The current process just got forked, after parallelism has already been used. Disabling parallelism to avoid deadlocks...\n",
      "To disable this warning, you can either:\n",
      "\t- Avoid using `tokenizers` before the fork if possible\n",
      "\t- Explicitly set the environment variable TOKENIZERS_PARALLELISM=(true | false)\n"
     ]
    }
   ],
   "source": [
    "from torch_geometric.utils import negative_sampling\n",
    "train_loader = NeighborLoader(data=graph, num_neighbors=[5, 7, 10], batch_size=128, \n",
    "                            shuffle=True, num_workers=12, directed = False)\n",
    "\n",
    "it = iter(train_loader)\n",
    "sampled_data = next(it)\n",
    "pos_edge_index = sampled_data.edge_index\n",
    "neg_edge_index = negative_sampling(edge_index=pos_edge_index,\n",
    "    num_nodes=sampled_data.num_nodes, num_neg_samples=pos_edge_index.size(1))\n",
    "\n",
    "z = nx_model.encode(sampled_data.x.float(), pos_edge_index)\n",
    "edge_index = torch.cat([pos_edge_index, neg_edge_index], dim=-1)\n",
    "link_logits = nx_model.decode(z, edge_index)\n",
    "\n",
    "def get_link_labels(pos_edge_index, neg_edge_index):\n",
    "    # returns a tensor:\n",
    "    # [1,1,1,1,...,0,0,0,0,0,..] with the number of ones is equel to the lenght of pos_edge_index\n",
    "    # and the number of zeros is equal to the length of neg_edge_index\n",
    "    E = pos_edge_index.size(1) + neg_edge_index.size(1)\n",
    "    link_labels = torch.zeros(E, dtype=torch.float).cuda()\n",
    "    link_labels[:pos_edge_index.size(1)] = 1.\n",
    "    return link_labels\n",
    "\n",
    "labels = get_link_labels(pos_edge_index, neg_edge_index)"
   ]
  },
  {
   "cell_type": "code",
   "execution_count": 18,
   "metadata": {},
   "outputs": [
    {
     "data": {
      "image/png": "[encoded data removed]",
      "text/plain": [
       "<Figure size 432x288 with 1 Axes>"
      ]
     },
     "metadata": {
      "needs_background": "light"
     },
     "output_type": "display_data"
    }
   ],
   "source": [
    "plt.hist(link_logits[labels.bool()].detach().sigmoid().cpu().numpy())\n",
    "plt.show()"
   ]
  },
  {
   "cell_type": "code",
   "execution_count": 19,
   "metadata": {},
   "outputs": [
    {
     "data": {
      "image/png": "[encoded data removed]",
      "text/plain": [
       "<Figure size 432x288 with 1 Axes>"
      ]
     },
     "metadata": {
      "needs_background": "light"
     },
     "output_type": "display_data"
    }
   ],
   "source": [
    "plt.hist(link_logits[~labels.bool()].detach().sigmoid().cpu().numpy())\n",
    "plt.show()"
   ]
  },
  {
   "cell_type": "code",
   "execution_count": 31,
   "metadata": {},
   "outputs": [
    {
     "data": {
      "text/plain": [
       "tensor(0.8451)"
      ]
     },
     "execution_count": 31,
     "metadata": {},
     "output_type": "execute_result"
    }
   ],
   "source": [
    "torch.eq(link_logits.sigmoid().detach().cpu() > 0.65, labels.bool().cpu()).float().mean()"
   ]
  },
  {
   "cell_type": "code",
   "execution_count": 18,
   "metadata": {},
   "outputs": [],
   "source": [
    "def generate_graphs_fast(core_author:str, candidate_ids:List[int], fid2pids:Dict[int, list], cursor:mysql.connector.cursor_cext.CMySQLCursor) -> List[nx.Graph]:\n",
    "    temp_candidate_pids = []\n",
    "    temp_candidate_split = []\n",
    "    for candidate_id in candidate_ids:\n",
    "        temp_pids = fid2pids[candidate_id]\n",
    "        temp_candidate_pids.extend(temp_pids)\n",
    "        temp_candidate_split.append(len(temp_pids))\n",
    "        \n",
    "    # Collect co_authors for this author\n",
    "    pid2coauthor = {pid : pid2magfids[pid] for pid in temp_candidate_pids}\n",
    "    authors = set()\n",
    "    for _, co_authors in pid2coauthor.items():\n",
    "        authors.update(co_authors)\n",
    "    \n",
    "    temp_magfid2pids = {fid : magfid2pids[fid] for fid in authors}\n",
    "    pids = set()\n",
    "    for _, pid in temp_magfid2pids.items():\n",
    "        pids.update(pid)\n",
    "    temp_pid2infos = {pid : pid2infos[pid] for pid in pids}\n",
    "    start_idx = 0\n",
    "    graphs = []\n",
    "    core_author_ids = []\n",
    "    for split in temp_candidate_split:\n",
    "        graph = nx.Graph()\n",
    "        core_author_id = None\n",
    "        node_attributes = defaultdict(dict)\n",
    "        for offset in range(split):\n",
    "            temp_pid = temp_candidate_pids[start_idx + offset]\n",
    "            co_authors = pid2coauthor[temp_pid]\n",
    "            for co_author in co_authors:\n",
    "                if co_author in node_attributes:\n",
    "                    continue\n",
    "                node_attributes[co_author]['pubs'] = [temp_pid2infos[pid] for pid in temp_magfid2pids[co_author]]\n",
    "                node_attributes[co_author]['id'] = co_author\n",
    "                if temp_magfid2pids[co_author] == core_author:\n",
    "                    core_author_id = co_author\n",
    "            graph.add_edges_from(combinations(co_authors, 2))\n",
    "        nx.set_node_attributes(graph, node_attributes)\n",
    "        graphs.append(graph)\n",
    "        core_author_ids.append(core_author_id)\n",
    "        start_idx += split\n",
    "    return graphs, core_author_ids"
   ]
  },
  {
   "cell_type": "code",
   "execution_count": null,
   "metadata": {},
   "outputs": [],
   "source": []
  },
  {
   "cell_type": "code",
   "execution_count": null,
   "metadata": {},
   "outputs": [],
   "source": []
  },
  {
   "cell_type": "code",
   "execution_count": 27,
   "metadata": {},
   "outputs": [],
   "source": [
    "with open('co_author_train.pickle', 'rb') as f_in:\n",
    "    sub_co_author_graph:nx.Graph = pickle.load(f_in)"
   ]
  },
  {
   "cell_type": "code",
   "execution_count": 42,
   "metadata": {},
   "outputs": [
    {
     "data": {
      "text/plain": [
       "1973420239"
      ]
     },
     "execution_count": 42,
     "metadata": {},
     "output_type": "execute_result"
    }
   ],
   "source": [
    "list(sub_co_author_graph.nodes)[114]"
   ]
  },
  {
   "cell_type": "code",
   "execution_count": 28,
   "metadata": {},
   "outputs": [],
   "source": [
    "for node in sub_co_author_graph.nodes:\n",
    "    sub_co_author_graph.nodes[node]['id'] = node"
   ]
  },
  {
   "cell_type": "code",
   "execution_count": 30,
   "metadata": {},
   "outputs": [],
   "source": [
    "g = from_networkx(sub_co_author_graph, group_node_attrs=['emb'])"
   ]
  },
  {
   "cell_type": "code",
   "execution_count": 38,
   "metadata": {},
   "outputs": [],
   "source": [
    "id2idx = {int(id) : idx for idx, id in enumerate(g.id)}"
   ]
  },
  {
   "cell_type": "code",
   "execution_count": 37,
   "metadata": {},
   "outputs": [
    {
     "data": {
      "text/plain": [
       "tensor(2811232256)"
      ]
     },
     "execution_count": 37,
     "metadata": {},
     "output_type": "execute_result"
    }
   ],
   "source": [
    "list(id2idx.keys())[0]"
   ]
  },
  {
   "cell_type": "code",
   "execution_count": 43,
   "metadata": {},
   "outputs": [
    {
     "data": {
      "text/plain": [
       "114"
      ]
     },
     "execution_count": 43,
     "metadata": {},
     "output_type": "execute_result"
    }
   ],
   "source": [
    "id2idx[1973420239]"
   ]
  },
  {
   "cell_type": "code",
   "execution_count": 23,
   "metadata": {},
   "outputs": [],
   "source": [
    "# co-author score\n",
    "co_author_score = 0\n",
    "fname = awfid2fname[target_author_id]\n",
    "co_authors = list(set(test_pub['co_author']) - set([fname]))\n",
    "\n",
    "mag_co_authors = {a : fname2magfids.get(a) for a in co_authors if a in fname2magfids}\n",
    "aw_co_authors = {a : fname2awfids.get(a) for a in co_authors if a in fname2awfids}\n",
    "\n",
    "if not mag_co_authors and not aw_co_authors:\n",
    "    co_author_score = None\n",
    "else:\n",
    "    for fname, co_author_ids in mag_co_authors.items():\n",
    "        graphs, core_author_ids = generate_graphs(fname, co_author_ids, magfid2pids, cursor)\n",
    "        for i, graph in enumerate(graphs):\n",
    "            nx.set_node_attributes(graph, {node : {'emb' : sentence_transformer.encode(['%s[SEP]%s' % (str(info.get('title')), str(info.get('abstract'))) for info in graph.nodes[node]['pubs'][:10]], convert_to_tensor=True).mean(axis=0).cpu().numpy()} for node in graph.nodes})\n",
    "            for node in graph.nodes:\n",
    "                del graph.nodes[node]['pubs']\n",
    "            graphs[i] = from_networkx(graph, group_node_attrs=['emb'])"
   ]
  },
  {
   "cell_type": "code",
   "execution_count": 26,
   "metadata": {},
   "outputs": [
    {
     "data": {
      "text/plain": [
       "Data(edge_index=[2, 50], id=[11], x=[11, 768])"
      ]
     },
     "execution_count": 26,
     "metadata": {},
     "output_type": "execute_result"
    }
   ],
   "source": [
    "graphs[0]"
   ]
  },
  {
   "cell_type": "code",
   "execution_count": 15,
   "metadata": {},
   "outputs": [
    {
     "data": {
      "text/plain": [
       "2641761469"
      ]
     },
     "execution_count": 15,
     "metadata": {},
     "output_type": "execute_result"
    }
   ],
   "source": [
    "list(graphs[0].nodes)[0]"
   ]
  },
  {
   "cell_type": "code",
   "execution_count": 16,
   "metadata": {},
   "outputs": [
    {
     "data": {
      "text/plain": [
       "{'pubs': [{'title': 'qoe prediction model for mobile video telephony',\n",
       "   'year': 2016,\n",
       "   'abstract': 'Interactive online video applications, such as video telephony, are known for their vulnerability to network condition. With the increasing usage of hand-held wireless mobile devices, which are capable of capturing and processing good quality videos, combined with the flexibility in an end-user movements have added new challenging factors for application providers and network operators. These factors affect the perceived video quality of mobile video telephony applications, unlike conventional video telephony over desktop computers. We investigate this impact on video quality of mobile video telephony in varying network conditions and end-users movement scenarios. Based on 312 live traces, we quantitatively derive the correlation between the perceived video quality and the network Quality of Service (QoS) and user mobility. With the results, we develop a Quality of Experience (QoE) prediction model for mobile video telephony using Support Vector Regression techniques. The prediction models display ? 0.8 pearson correlation with experimental data. Our methodology and findings can be used to guide the video telephony application providers and network operators to work towards satisfying end-user experience.',\n",
       "   'authors': [2641761469, 2132451723, 2136187899, 2142847184]}],\n",
       " 'id': 2641761469,\n",
       " 'emb': array([-5.26872873e-01,  1.01482773e+00,  7.78148770e-01, -4.86081541e-01,\n",
       "        -3.33651692e-01, -7.88034201e-01,  3.72766078e-01,  5.00877082e-01,\n",
       "         5.07080019e-01, -7.14400411e-01,  1.18365228e+00,  7.69173384e-01,\n",
       "         7.64737308e-01, -5.60715459e-02, -5.97988725e-01, -1.31986126e-01,\n",
       "        -8.59482229e-01,  1.20211816e+00, -2.30449840e-01, -2.23803774e-01,\n",
       "         4.17503029e-01, -5.37428916e-01,  5.28557956e-01,  6.73177540e-01,\n",
       "        -1.39580622e-01, -5.59573829e-01,  9.37771142e-01, -7.78777242e-01,\n",
       "         7.93846786e-01,  2.29370996e-01,  1.15406299e+00, -1.37286693e-01,\n",
       "        -4.33299184e-01, -4.22713995e-01, -3.40964347e-01, -1.93604991e-01,\n",
       "        -2.63295501e-01,  5.62128365e-01,  5.59976518e-01, -1.44089207e-01,\n",
       "         1.50425449e-01,  1.81617886e-01,  4.20385182e-01, -3.51505913e-02,\n",
       "         1.62150860e+00,  1.97865710e-01, -1.07900715e+00,  5.82845092e-01,\n",
       "        -1.22443938e+00, -9.49430168e-02, -6.13710582e-02,  4.10165131e-01,\n",
       "         8.36591005e-01, -5.44037998e-01, -2.18305096e-01,  4.23044235e-01,\n",
       "        -4.93378013e-01, -2.16630071e-01, -6.18303180e-01, -2.30233026e+00,\n",
       "         9.13590610e-01,  8.68201315e-01,  5.04950106e-01,  5.22836983e-01,\n",
       "         5.54686785e-01, -7.32159317e-02,  6.68721378e-01,  3.83103311e-01,\n",
       "        -2.99109161e-01,  3.68722945e-01, -9.28368926e-01, -1.23022699e+00,\n",
       "         1.05772555e-01,  1.95205957e-01,  4.47388113e-01,  6.27074897e-01,\n",
       "         6.13571703e-01,  8.59064400e-01, -1.98446676e-01,  1.18235266e+00,\n",
       "        -5.66443264e-01,  3.13604802e-01, -1.12557635e-01, -7.95883358e-01,\n",
       "        -3.25250030e-01, -3.33086610e-01,  3.70867163e-01, -5.75118899e-01,\n",
       "        -1.41126132e-02,  1.05928779e-01,  5.59423745e-01, -9.51422691e-01,\n",
       "         1.38142204e+00,  3.12245399e-01, -5.83552301e-01,  1.06623895e-01,\n",
       "         6.39905274e-01, -1.56528205e-01, -1.25792652e-01,  5.25819540e-01,\n",
       "         6.94345161e-02,  2.59724885e-01,  5.54970622e-01, -1.32824779e+00,\n",
       "         9.18201447e-01,  1.61164273e-02, -3.20288599e-01, -6.19369984e-01,\n",
       "        -2.22269129e-02,  4.89468932e-01, -5.15538871e-01,  3.19524854e-02,\n",
       "         1.95745900e-01,  9.46949959e-01,  4.79048073e-01, -3.12842518e-01,\n",
       "         6.36490956e-02,  2.88249880e-01, -5.20021379e-01,  1.64954085e-02,\n",
       "        -2.63978243e-01, -9.26207185e-01,  8.82686019e-01, -3.31421822e-01,\n",
       "         1.42520070e+00,  2.31363382e-02,  3.51952434e-01, -1.39395282e-01,\n",
       "        -2.17729986e-01, -8.54176581e-01,  4.32815552e-01,  5.40217578e-01,\n",
       "         4.14437622e-01, -8.21987152e-01,  2.72791457e+00, -3.38310212e-01,\n",
       "         1.15216923e+00, -1.01794101e-01, -7.41022527e-01,  2.61617422e-01,\n",
       "        -7.49238193e-01, -1.21676670e-02, -8.24453533e-01,  8.49006951e-01,\n",
       "        -1.17539549e+00, -5.47066927e-01,  7.96546757e-01,  2.03036398e-01,\n",
       "        -3.78397971e-01,  5.90077564e-02, -1.05014399e-01,  7.29260266e-01,\n",
       "        -1.83619604e-01, -1.27904367e+00, -3.77886295e-02,  1.92296505e-01,\n",
       "        -8.11713338e-01, -4.64469314e-01, -1.40337065e-01, -4.20147300e-01,\n",
       "        -4.05844711e-02,  1.98981076e-01,  2.78270245e-01,  6.05623782e-01,\n",
       "        -1.96136430e-01,  4.63454008e-01,  3.40449452e-01,  5.83558977e-01,\n",
       "        -1.70808300e-01, -2.98307806e-01,  4.48676407e-01,  1.51261732e-01,\n",
       "         6.70450270e-01, -1.79154694e-01, -3.17331195e-01,  6.55587092e-02,\n",
       "         2.59463280e-01,  3.19726229e-01,  7.49109566e-01, -1.69699118e-01,\n",
       "        -7.90463805e-01,  1.33003533e-01, -4.97495532e-01,  1.65022418e-01,\n",
       "         7.28749454e-01, -6.29045367e-01, -1.23823524e+00, -9.00969982e-01,\n",
       "         5.27879655e-01,  1.96557581e-01,  2.68006533e-01,  3.27778846e-01,\n",
       "         3.12121898e-01,  5.03508709e-02, -1.30396950e+00,  7.06138134e-01,\n",
       "        -5.40598929e-01, -9.03116941e-01, -8.61096323e-01,  7.07947135e-01,\n",
       "        -6.12798095e-01,  5.71512341e-01, -2.76189089e-01,  2.40522549e-01,\n",
       "         1.07867253e+00,  9.47924674e-01,  2.95715868e-01, -9.26880300e-01,\n",
       "         5.29538393e-01,  1.65643668e+00,  5.55752993e-01, -8.06497931e-01,\n",
       "        -1.18714797e+00, -1.68908715e-01, -1.25137240e-01, -3.24577481e-01,\n",
       "        -5.10057136e-02, -5.83778560e-01,  5.73356032e-01, -1.54658902e+00,\n",
       "         5.42602241e-01,  4.43051368e-01, -2.86969662e-01, -9.47633386e-01,\n",
       "         9.83587384e-01, -4.08538967e-01, -5.21450877e-01, -1.70406163e-01,\n",
       "        -9.45657313e-01,  3.74535978e-01,  2.06523299e-01, -4.39247519e-01,\n",
       "        -9.06406268e-02,  1.71565354e-01,  4.17343378e-01, -3.71080726e-01,\n",
       "         3.21167290e-01,  5.86515926e-02, -4.07764226e-01, -4.72479910e-01,\n",
       "         5.18485129e-01,  1.15928605e-01,  6.05889201e-01, -3.95371556e-01,\n",
       "         2.51568645e-01,  2.20664889e-01,  9.87518489e-01, -1.05428779e+00,\n",
       "        -6.56595945e-01,  2.93756604e-01,  6.59900367e-01,  9.37331140e-01,\n",
       "         3.73167813e-01,  3.01065236e-01, -8.22082818e-01,  4.95345116e-01,\n",
       "        -1.27268150e-01, -8.84457827e-01,  1.02638841e-01, -1.01515400e+00,\n",
       "         1.40579969e-01, -4.99796420e-01,  3.20940226e-01, -5.36376595e-01,\n",
       "         9.77321249e-03,  4.53492403e-01,  2.51429439e-01, -7.72211313e-01,\n",
       "        -6.42575860e-01,  1.88770384e-01, -1.22422040e+00,  7.05135763e-01,\n",
       "        -2.66084254e-01,  1.68307081e-01, -3.30540746e-01,  1.82746306e-01,\n",
       "        -2.68575400e-01,  5.09193242e-01,  5.34501970e-02, -1.20176405e-01,\n",
       "         2.16499060e-01, -1.09958589e+00, -2.41082311e-01,  2.94274420e-01,\n",
       "         3.32593501e-01, -9.29014146e-01, -7.21473753e-01, -8.72095600e-02,\n",
       "        -5.17191231e-01, -1.01976311e+00,  2.20614642e-01, -5.31409621e-01,\n",
       "        -1.11149393e-01, -4.19527739e-02, -2.03890622e-01,  2.38674685e-01,\n",
       "         1.11771381e+00,  5.09619415e-01, -1.54881090e-01, -3.03951502e-01,\n",
       "         1.14953709e+00,  7.09145129e-01, -9.53128636e-01,  3.81527215e-01,\n",
       "        -1.31447053e+00,  6.84316099e-01,  8.40680063e-01,  4.75523382e-01,\n",
       "         3.16894799e-01,  1.07054591e+00, -6.49098217e-01,  8.23734820e-01,\n",
       "        -1.38775155e-01, -2.11298060e+00,  5.71923494e-01,  1.05788636e+00,\n",
       "         7.61562169e-01,  7.95943215e-02, -4.65903103e-01, -4.08152461e-01,\n",
       "        -6.16079271e-01, -3.12157162e-02,  4.97931898e-01, -6.15031004e-01,\n",
       "         7.71131516e-01,  2.65495062e-01,  1.95781517e+00,  4.04291570e-01,\n",
       "        -8.39789033e-01, -2.72225767e-01,  8.14419448e-01,  1.71053395e-01,\n",
       "        -3.98464113e-01,  1.57049894e-01,  3.68114710e-02, -2.40298361e-01,\n",
       "        -3.46752137e-01,  6.65875852e-01,  4.07198489e-01,  2.26268433e-02,\n",
       "        -2.22415209e-01, -3.07523221e-01,  4.43703264e-01, -4.61822689e-01,\n",
       "         1.34489253e-01, -1.81690425e-01, -2.11927637e-01,  6.45607293e-01,\n",
       "         8.78105342e-01,  3.20527881e-01,  4.19351667e-01,  5.90424955e-01,\n",
       "        -9.69563603e-01,  1.18258089e-01, -1.07478607e+00, -6.91512227e-01,\n",
       "         4.29230154e-01,  1.25292361e+00,  1.63495266e+00, -1.88347653e-01,\n",
       "         1.91580012e-01, -2.22905546e-01,  4.56349611e-01,  2.29908660e-01,\n",
       "         2.40625963e-01,  4.39938664e-01,  1.20371401e-01,  3.50657582e-01,\n",
       "         2.70810217e-01,  3.26219678e-01,  2.39174604e-01,  2.42384493e-01,\n",
       "         1.69752911e-01,  4.98092026e-01,  3.99059765e-02,  2.90309668e-01,\n",
       "         4.03164513e-02,  1.52494550e+00,  1.45582283e+00,  1.62918210e+00,\n",
       "        -3.65884572e-01,  3.79007757e-01, -1.55470753e-02, -8.62110406e-02,\n",
       "         6.98251277e-02, -3.27235758e-02,  3.26521456e-01,  5.99188637e-03,\n",
       "         1.09094751e+00,  3.26466054e-01,  1.47910744e-01,  1.42217410e+00,\n",
       "        -1.05932748e+00, -9.30960953e-01, -1.08091868e-01, -8.48699093e-01,\n",
       "        -4.22396690e-01, -1.36111423e-01,  2.79770643e-01, -4.60345477e-01,\n",
       "         2.22230762e-01,  6.35167480e-01, -9.16737169e-02,  7.59312868e-01,\n",
       "         3.48645866e-01, -5.81986666e-01,  1.26126468e-01,  1.71241903e+00,\n",
       "        -9.50466156e-01,  8.60497281e-02,  4.68354151e-02, -5.39860845e-01,\n",
       "        -7.60371685e-01,  2.96989661e-02,  5.57429314e-01,  2.87164062e-01,\n",
       "        -9.92711306e-01,  7.68230498e-01, -1.18823802e+00,  5.45556426e-01,\n",
       "        -9.01773870e-01,  8.72675836e-01,  9.50505376e-01,  1.03141079e-02,\n",
       "         6.22979045e-01, -5.45881689e-01, -3.28971520e-02,  3.73680383e-01,\n",
       "        -1.13220811e+00,  2.36845389e-01,  1.92586988e-01, -1.22295119e-01,\n",
       "        -7.97993898e-01,  3.37540507e-01,  2.75567561e-01, -6.84166908e-01,\n",
       "         3.41151543e-02, -1.89492896e-01, -1.42960453e+00, -2.60450304e-01,\n",
       "        -4.85859543e-01,  3.21896434e-01,  1.24074101e+00, -2.88819373e-01,\n",
       "        -3.82711500e-01, -5.26422679e-01, -8.51721466e-01,  7.61861384e-01,\n",
       "         2.36457586e-01, -5.01752794e-01,  4.03470784e-01,  6.44651175e-01,\n",
       "         3.74199510e-01,  4.14991677e-01, -1.19372492e+01,  1.90004039e+00,\n",
       "        -1.28402519e+00,  5.13966501e-01, -7.87455976e-01, -4.16159034e-01,\n",
       "         2.60006160e-01,  4.33174849e-01,  1.11510229e+00, -8.22696924e-01,\n",
       "         6.62988126e-01,  6.81851685e-01, -3.09248060e-01, -2.63132215e-01,\n",
       "        -6.85893714e-01, -1.26570714e+00, -6.57087266e-01,  5.87351918e-01,\n",
       "         3.28427106e-01,  2.75454134e-01,  4.54597712e-01, -7.05477774e-01,\n",
       "        -4.01530296e-01,  3.32162857e-01, -6.19881749e-01, -5.40733516e-01,\n",
       "         1.40743405e-01, -4.56400424e-01,  2.37922609e-01, -2.22186565e-01,\n",
       "         1.47776806e+00, -5.72277308e-01, -1.02165267e-01,  1.58574998e-01,\n",
       "         4.36324745e-01, -1.11467861e-01, -6.62425041e-01, -1.08139241e+00,\n",
       "         7.19486028e-02,  5.66106915e-01,  1.95297837e-01,  5.85730970e-02,\n",
       "         4.58561242e-01, -1.89741814e+00,  6.30931854e-02, -2.70691574e-01,\n",
       "        -4.30394053e-01,  1.33108944e-01,  4.84578721e-02, -2.08816975e-02,\n",
       "        -4.74835932e-01, -1.88014239e-01, -6.03102505e-01, -3.58460881e-02,\n",
       "         4.64451522e-01,  8.97962570e-01, -2.47823024e+00, -5.54062247e-01,\n",
       "        -2.25416362e-01,  1.43288169e-02,  6.06159091e-01,  9.84168112e-01,\n",
       "        -2.19696477e-01,  1.39938986e+00, -7.24471584e-02,  2.91200817e-01,\n",
       "        -4.35610950e-01,  3.98646533e-01,  1.23301469e-01, -3.61345023e-01,\n",
       "        -3.73590529e-01,  7.96661973e-02,  5.26650429e-01,  7.36334562e-01,\n",
       "        -9.57139656e-02, -2.15942830e-01, -6.18105114e-01, -2.06027001e-01,\n",
       "         1.03802800e+00, -4.66899753e-01, -4.62707818e-01,  7.74497628e-01,\n",
       "        -8.23514760e-01, -9.71030816e-02, -2.24045083e-01,  4.14326429e-01,\n",
       "         1.18681610e-01, -4.53799278e-01,  1.59976554e+00,  1.34210265e+00,\n",
       "         5.60423017e-01,  4.33867693e-01, -9.87947226e-01,  4.86056268e-01,\n",
       "        -4.55290616e-01,  1.20871675e+00,  4.23721969e-01, -1.88695297e-01,\n",
       "        -8.86380553e-01,  1.12937227e-01, -1.81470707e-01, -3.75885010e-01,\n",
       "        -1.17584360e+00,  2.28193164e-01,  9.84518006e-02, -5.33837557e-01,\n",
       "        -1.44704804e-01,  3.65113795e-01,  5.44866681e-01,  8.99045050e-01,\n",
       "         5.66286564e-01, -8.15352261e-01,  1.79860860e-01,  1.13105476e+00,\n",
       "         1.83205873e-01,  1.34702072e-01,  8.52127135e-01, -5.29610276e-01,\n",
       "         4.22500260e-02,  1.02519894e+00,  3.62291485e-01,  1.31502241e-01,\n",
       "         5.00757694e-01,  4.03227031e-01,  4.38378811e-01,  1.10037684e+00,\n",
       "        -9.58455622e-01,  1.84339825e-02, -1.07083425e-01, -6.91751122e-01,\n",
       "         3.26605260e-01, -4.57402885e-01, -3.75926346e-01, -5.56593359e-01,\n",
       "         1.69467464e-01, -4.27333415e-01, -3.74438047e-01,  4.88326013e-01,\n",
       "        -2.41117537e-01, -5.49134240e-02, -1.09275150e+00, -1.39916956e+00,\n",
       "        -1.78167057e+00, -3.30392659e-01, -1.20734131e+00,  7.69389689e-01,\n",
       "        -1.30171075e-01,  4.42482755e-02, -1.29657853e+00,  2.32215673e-01,\n",
       "         6.25645399e-01, -1.21191137e-01,  1.05813169e+00, -9.27356422e-01,\n",
       "        -8.51039469e-01, -4.05153662e-01,  3.05132806e-01,  4.27344367e-02,\n",
       "         2.81840682e-01, -1.68486607e+00,  9.47445750e-01,  1.19081378e+00,\n",
       "        -9.31402564e-01,  6.13027453e-01,  5.01172960e-01,  1.40074635e+00,\n",
       "        -1.10566878e+00, -1.25882342e-01,  2.72123814e-01,  5.06021619e-01,\n",
       "         9.12015975e-01, -6.48663044e-01, -1.73439670e+00, -1.22928083e+00,\n",
       "         2.76956677e-01, -2.31301650e-01,  1.87687963e-01,  1.07670307e+00,\n",
       "        -9.56285238e-01, -5.24050415e-01,  7.39901245e-01,  4.51613694e-01,\n",
       "        -5.19249737e-01, -1.03134298e+00,  4.32442933e-01,  6.05260134e-01,\n",
       "         1.08529353e+00,  1.18064606e+00, -7.21774921e-02,  6.36856794e-01,\n",
       "        -1.12523222e+00, -1.82616782e+00, -5.56472480e-01,  2.40059912e-01,\n",
       "         2.22614363e-01, -9.17744115e-02,  2.66282380e-01, -1.96227998e-01,\n",
       "        -5.31289101e-01, -8.26888382e-01, -2.00408474e-02,  2.01987140e-02,\n",
       "        -2.65245616e-01, -6.84657991e-02,  8.88390303e-01, -7.53362000e-01,\n",
       "        -9.89210606e-02, -6.44060135e-01, -3.75840336e-01, -2.83411652e-01,\n",
       "        -7.18102992e-01,  5.52653819e-02, -9.86017361e-02, -4.72162604e-01,\n",
       "         3.63537282e-01, -7.19938099e-01, -4.48266119e-01,  6.45384789e-01,\n",
       "        -2.84065008e-02, -4.24493432e-01, -8.53593647e-01,  1.20625579e+00,\n",
       "        -8.31676066e-01,  1.08308482e+00, -3.77721608e-01,  3.67719442e-01,\n",
       "         3.75377946e-02,  3.72558951e-01,  7.68069386e-01, -3.91322374e-02,\n",
       "        -3.83830726e-01, -3.80061358e-01, -6.42629445e-01, -3.75838190e-01,\n",
       "        -1.18211508e+00, -4.44087952e-01, -2.89273709e-01,  5.80224752e-01,\n",
       "        -8.48770380e-01,  8.30214858e-01, -9.69810009e-01, -3.86359990e-02,\n",
       "         7.23455027e-02,  5.50834596e-01, -1.65476835e+00, -1.63014066e+00,\n",
       "        -4.37031567e-01,  1.81002572e-01,  3.20165843e-01,  3.37541938e-01,\n",
       "         1.12617362e+00, -1.02555826e-01,  3.40148121e-01,  1.89542025e-01,\n",
       "        -2.61052638e-01, -8.92797932e-02,  1.66870892e-01, -2.47520462e-01,\n",
       "        -5.43877445e-02,  1.71631229e+00,  1.61211526e+00, -8.41095507e-01,\n",
       "         1.01103413e+00,  7.56649196e-01, -6.29372895e-01,  9.20539200e-01,\n",
       "        -1.32092372e-01, -8.05659711e-01,  8.83060932e-01, -2.27986321e-01,\n",
       "        -9.88528073e-01, -8.86610091e-01, -3.02379876e-01, -2.48788491e-01,\n",
       "        -1.02530189e-01,  5.05539179e-01, -3.45384747e-01, -4.00871873e-01,\n",
       "         2.60820210e-01, -1.82294771e-01, -2.73750961e-01, -9.84050184e-02,\n",
       "        -1.04776204e+00,  2.35505655e-01,  4.34447110e-01,  2.80671299e-01,\n",
       "        -1.53294310e-01, -4.89365548e-01,  1.03932667e+00, -9.21345055e-01,\n",
       "         7.98566401e-01, -1.08940974e-01,  1.26772523e-01, -6.63343770e-03,\n",
       "         8.66860330e-01, -1.95305243e-01,  2.39898652e-01, -2.97665209e-01,\n",
       "        -1.68085456e+00,  7.16048241e-01,  8.93513381e-01, -1.15079558e+00,\n",
       "        -7.10768163e-01,  1.97605733e-02, -4.10142779e-01, -3.50730956e-01,\n",
       "         1.08323455e+00,  3.00232261e-01,  4.45490837e-01, -1.44102082e-01,\n",
       "        -8.21331441e-01,  4.98598814e-02, -1.57246172e-01,  1.16329253e+00],\n",
       "       dtype=float32)}"
      ]
     },
     "execution_count": 16,
     "metadata": {},
     "output_type": "execute_result"
    }
   ],
   "source": [
    "graphs[0].nodes[2641761469]"
   ]
  },
  {
   "cell_type": "code",
   "execution_count": 11,
   "metadata": {},
   "outputs": [
    {
     "data": {
      "text/plain": [
       "{'pubs': [{'title': 'comparison and analysis of outage probability signal power with interferences at differentfadding environment',\n",
       "   'abstract': 'In this paper a mathematical method is presented to express the outage probability for a desired radio signal received from a mobile transmitter in the presence of single or multiple interfering signals with rician and Rayleigh fading. In contrast to previously reported analysis, this paper compares the outage probability & signal power at different fading environment. This is useful in determining the spectrum efficiency and performance of (interferencelimited) radio networks for cellular telephony, two-way paging, and another mobile data networks. For this analysis the interference may be single or multiple. In this paper we focus on the different parameters for output value of the different signals.'},\n",
       "  {'title': 'modified power saving dsrprotocol for manet',\n",
       "   'abstract': 'Mobile ad hoc network (MANET) is one of the important requirements in modern world. It has significant advantages as compare to infrastructure based network. Due to large necessities, its performance is always taken into consideration while implementing it in real scenario. Lifetime of MANET is one of the important parameters which is responsiblefor the performance. Since, MANET is mainly operated on battery power so lifetime should be enhanced. Every nodes in MANET must take active participation. Dynamic Source Routing(DSR) protocol is largely utilized in MANET for routing purposes and it is beneficial in employing in MANET. In this paper, there are two enhancements proposed in DSR protocol to increase the lifetime of MANET. It is simulated in ns2 and the results are found useful. The algorithm of DSR protocol is modified on the basis of initial energies of nodes. Both enhancements are done in DSR to save the energy of nodes so that they can function efficiently in low power as well. There is remarkable improvement in the performance of DSR and ultimately the lifetime of MANET increases.'}],\n",
       " 'emb': array([-1.06018496e+00, -1.02177106e-01, -1.45105720e-01,  1.92863703e-01,\n",
       "         3.85331005e-01, -6.61113039e-02,  3.00530702e-01,  7.00842261e-01,\n",
       "         7.25463271e-01,  8.61668885e-01,  2.08207771e-01,  2.34071344e-01,\n",
       "         3.63884747e-01, -4.09973115e-01, -2.95467883e-01,  4.93781507e-01,\n",
       "        -2.57378042e-01,  7.57644176e-01,  8.42294767e-02, -7.96731830e-01,\n",
       "         4.76196110e-01, -1.12915945e+00, -5.18888712e-01,  3.19176078e-01,\n",
       "        -8.39061499e-01, -2.37757862e-01,  1.53796554e-01, -1.20142594e-01,\n",
       "        -1.51360091e-02,  9.76556540e-03,  7.47307539e-01,  8.80578399e-01,\n",
       "        -1.98536962e-01,  1.00615644e+00, -5.42733252e-01,  7.73391128e-02,\n",
       "        -3.07845503e-01,  5.77452302e-01,  9.71302539e-02,  3.96885425e-01,\n",
       "        -2.81337053e-01,  9.98324826e-02, -1.82014704e-03, -1.03162348e-01,\n",
       "         4.75143850e-01,  3.07179570e-01, -1.79407924e-01,  1.39648962e+00,\n",
       "        -6.98437989e-01,  1.02092814e+00,  1.20761260e-01,  3.16803247e-01,\n",
       "         6.71909571e-01,  1.11968136e+00, -8.77567351e-01, -3.73335242e-01,\n",
       "        -3.64736319e-01, -5.62471151e-01, -5.53259015e-01, -1.52450240e+00,\n",
       "        -3.54111671e-01,  8.40702653e-01, -3.59977722e-01,  1.79561853e-01,\n",
       "         4.85604584e-01, -8.47397149e-01,  1.99659750e-01,  1.36539161e-01,\n",
       "        -1.37661815e-01,  4.34928179e-01, -6.87905848e-01, -3.85896355e-01,\n",
       "         4.82260615e-01, -8.10160875e-01, -1.13691956e-01,  1.19682717e+00,\n",
       "        -3.79086137e-02,  8.51535648e-02, -8.23227130e-03,  1.96514308e-01,\n",
       "         2.71865755e-01,  1.45182163e-01,  3.27911973e-03, -1.06219673e+00,\n",
       "        -3.86165440e-01, -9.76777554e-01, -6.97759539e-02, -5.39733469e-01,\n",
       "         4.56605256e-02, -1.45091057e+00, -3.42421770e-01,  1.70181111e-01,\n",
       "         1.91145703e-01,  8.62478316e-02,  9.28652808e-02, -1.34394199e-01,\n",
       "        -2.59543121e-01, -1.89521551e-01, -9.02910948e-01, -5.62485397e-01,\n",
       "         8.18325654e-02, -9.25234079e-01,  4.23026949e-01, -1.08907819e+00,\n",
       "         2.28863224e-01,  7.11574078e-01, -9.84750032e-01,  9.21268463e-01,\n",
       "         1.63860798e-01, -6.27047569e-03, -7.24369168e-01,  1.71584561e-02,\n",
       "         1.05677284e-01,  7.99025178e-01,  1.64751634e-01, -4.17160273e-01,\n",
       "         4.76505995e-01, -1.85600147e-01, -3.44641507e-01, -1.34266824e-01,\n",
       "        -7.45961294e-02, -2.70547301e-01,  1.77570090e-01, -1.02118716e-01,\n",
       "         1.34528327e+00, -2.44292721e-01,  2.78055906e-01,  1.94479465e-01,\n",
       "         8.82517993e-02, -2.02877820e-03,  8.43541265e-01,  2.28546858e-02,\n",
       "        -9.50277448e-02, -2.14772671e-01,  2.54457498e+00, -1.33192623e+00,\n",
       "         6.02690816e-01,  1.30688286e+00, -6.26577616e-01,  5.93850136e-01,\n",
       "        -6.10296488e-01, -4.49394166e-01,  2.17981543e-02,  4.68668312e-01,\n",
       "        -1.11930668e+00,  7.96392933e-02,  8.93303692e-01, -6.52715266e-01,\n",
       "        -6.91850781e-01,  3.20951015e-01,  5.39433599e-01,  5.71467102e-01,\n",
       "        -3.17029595e-01, -5.93768597e-01, -1.25470608e-01,  6.85425103e-01,\n",
       "        -2.54176080e-01, -6.83489084e-01, -1.09317169e-01, -1.23215564e-01,\n",
       "         5.85716665e-01, -1.69182539e-01,  2.23234475e-01, -1.01115718e-01,\n",
       "        -5.65188289e-01,  2.52831131e-01,  9.69117284e-01,  1.81073278e-01,\n",
       "        -1.39307821e+00,  8.02493274e-01, -1.22935280e-01,  8.15866053e-01,\n",
       "         4.93526280e-01, -5.88546872e-01, -8.94603610e-01, -6.43121362e-01,\n",
       "        -3.59450042e-01, -1.01658136e-01,  2.37272322e-01, -3.20944965e-01,\n",
       "        -1.29775703e-01,  6.21450394e-02, -3.87187511e-01,  4.61255431e-01,\n",
       "        -2.95323223e-01, -2.42213845e-01, -1.22818685e+00,  6.66354150e-02,\n",
       "         9.54075217e-01,  7.52843022e-01,  3.78001332e-01, -3.91598403e-01,\n",
       "         6.14988565e-01, -1.10064149e-01, -2.47641429e-01,  2.20090449e-01,\n",
       "         1.53682545e-01, -1.15513086e+00, -5.62279522e-01,  4.10606205e-01,\n",
       "        -4.73487288e-01,  6.33641124e-01, -7.88350925e-02,  5.71468592e-01,\n",
       "         1.28071189e-01,  2.06043959e-01,  5.75230479e-01, -5.71112275e-01,\n",
       "         9.52752531e-01,  9.65133071e-01,  1.55087903e-01, -1.03052926e+00,\n",
       "        -7.00588107e-01, -7.30225563e-01, -5.20338535e-01, -1.11426640e+00,\n",
       "         5.54981589e-01, -1.19801068e+00,  2.89414883e-01, -8.11684728e-01,\n",
       "        -2.54110754e-01, -3.75413716e-01,  4.41809833e-01,  1.54470384e-01,\n",
       "         7.85861611e-01, -7.37507105e-01,  1.24647774e-01, -4.12886322e-01,\n",
       "        -1.40009195e-01,  3.25855255e-01,  1.02002430e+00,  1.01013437e-01,\n",
       "        -3.49581331e-01,  2.29267832e-02, -7.45671272e-01,  5.69054008e-01,\n",
       "        -3.65387380e-01, -4.59315360e-01, -1.23707938e+00, -2.25123689e-01,\n",
       "         7.86332846e-01,  1.95505834e+00,  6.48884714e-01,  7.45886743e-01,\n",
       "         3.40197146e-01, -1.28900230e-01,  2.60637701e-01, -3.09427470e-01,\n",
       "         1.28055304e-01, -9.28862691e-02,  2.85609126e-01,  5.50733089e-01,\n",
       "         6.24172986e-02,  2.26872042e-01,  1.36175692e-01,  7.22483099e-01,\n",
       "         3.38445812e-01, -7.78118849e-01, -1.52969122e+00,  6.24463201e-01,\n",
       "         1.61085039e-01,  3.80475074e-02, -3.65710318e-01, -4.43093181e-01,\n",
       "         2.61357337e-01,  5.36246777e-01, -5.75475097e-01, -6.72681689e-01,\n",
       "        -1.28618211e-01, -1.30788773e-01, -4.39167857e-01,  9.11956131e-01,\n",
       "         2.59248197e-01, -3.31020772e-01, -5.26048958e-01, -1.09334409e+00,\n",
       "        -5.26954353e-01, -1.96575984e-01, -4.66391057e-01,  8.01896691e-01,\n",
       "         4.61080700e-01, -1.70803189e+00,  6.09362066e-01, -3.91226262e-01,\n",
       "        -2.03261167e-01, -2.51421928e-01, -1.66046894e+00,  1.66756526e-01,\n",
       "        -5.43188095e-01,  5.32308102e-01,  1.30959773e+00, -1.91870362e-01,\n",
       "         7.08811700e-01,  3.56630534e-01, -1.44648850e-01,  6.31221771e-01,\n",
       "         1.11560071e+00,  4.17946398e-01,  2.43852243e-01, -4.69799101e-01,\n",
       "         1.29821563e+00, -9.30476934e-03,  1.28223002e-02,  6.00406349e-01,\n",
       "        -5.20924032e-01,  7.65016794e-01,  4.08039361e-01, -4.43717480e-01,\n",
       "         1.25415623e-03,  9.41486180e-01, -5.80345154e-01, -1.84756815e-01,\n",
       "         3.66795182e-01, -7.21085668e-01,  2.34039530e-01,  6.46951735e-01,\n",
       "         1.75750300e-01,  3.93942416e-01, -3.99240136e-01, -1.41929901e+00,\n",
       "        -4.70707983e-01,  1.27249420e-01,  3.70503753e-01, -1.63119152e-01,\n",
       "         1.17503738e+00,  1.76643983e-01,  6.69124246e-01, -3.86110127e-01,\n",
       "        -3.17548960e-03, -2.75295377e-01,  4.68828887e-01,  1.11133385e+00,\n",
       "        -1.26473272e+00,  5.52702606e-01, -5.05918860e-01,  1.15349814e-02,\n",
       "         9.86418188e-01,  5.20859063e-02,  4.74027514e-01, -6.84781313e-01,\n",
       "         1.76211789e-01,  7.89947033e-01,  8.87431502e-01, -4.68413085e-01,\n",
       "         1.52827874e-01,  2.34045312e-01,  1.27744615e-01,  1.18617046e+00,\n",
       "         2.46093810e-01,  2.14402020e-01,  3.70062321e-01,  7.35796094e-02,\n",
       "        -3.71853709e-01, -3.76376361e-02, -1.47521520e+00, -6.02181196e-01,\n",
       "         1.84126198e-03,  9.88184392e-01,  1.83856297e+00,  1.60521492e-01,\n",
       "         6.54026985e-01, -9.52335715e-01, -8.22617486e-02,  4.47614491e-01,\n",
       "         2.60896534e-01,  2.60105193e-01, -5.68440199e-01,  1.47405720e+00,\n",
       "         2.33916879e-01,  6.61862433e-01,  2.38491133e-01,  5.71780801e-02,\n",
       "        -9.68701124e-01,  3.07645410e-01,  3.11350763e-01,  1.70208842e-01,\n",
       "        -4.83492792e-01,  6.66777417e-02,  3.41523290e-01, -4.73679662e-01,\n",
       "        -2.42244840e-01, -1.34718955e-01,  4.42372799e-01,  3.21506202e-01,\n",
       "         9.12535191e-01, -5.10728955e-01,  5.39966345e-01, -7.97547102e-01,\n",
       "         1.51206005e+00,  4.94276226e-01,  5.36952555e-01,  6.54497266e-01,\n",
       "        -6.34481370e-01,  2.67431617e-01, -2.99160570e-01,  2.77327538e-01,\n",
       "        -7.18253791e-01,  2.59138942e-01,  7.98157632e-01, -1.26207340e+00,\n",
       "         1.78207606e-01,  1.42188758e-01,  9.29087996e-02,  1.94350973e-01,\n",
       "        -7.11386740e-01,  3.05664390e-02, -4.97580171e-01, -2.29084373e-01,\n",
       "        -1.14066660e+00,  1.52197540e-01,  4.61653739e-01, -1.41118959e-01,\n",
       "        -1.46393406e+00,  9.04035091e-01,  1.09724805e-01,  2.98769265e-01,\n",
       "        -1.64014566e+00,  2.50067174e-01, -1.05420220e+00, -3.00026566e-01,\n",
       "        -2.79221237e-01,  1.22857511e+00,  1.12937772e+00,  7.54788995e-01,\n",
       "        -3.41905624e-01, -6.45136416e-01,  6.90309584e-01,  3.71504188e-01,\n",
       "        -9.60242867e-01,  2.20339790e-01,  1.21756339e+00,  1.83381334e-01,\n",
       "         6.85044885e-01, -5.32987714e-02,  7.88510919e-01, -2.51085162e-01,\n",
       "        -4.73552763e-01, -2.97400534e-01, -6.79566085e-01,  6.07109547e-01,\n",
       "         1.95533559e-02,  6.67170525e-01,  1.35955167e+00,  4.42153841e-01,\n",
       "        -1.60071421e+00,  5.34324467e-01, -1.12069726e+00,  4.86131996e-01,\n",
       "        -1.48032576e-01, -1.29087496e+00,  1.08985710e+00, -1.00778818e-01,\n",
       "        -2.37040967e-02, -2.08483785e-02, -1.01176500e+01,  1.39905691e+00,\n",
       "        -8.07626069e-01,  1.22870243e+00, -5.91380239e-01,  1.16350496e+00,\n",
       "        -6.05608106e-01, -4.51026648e-01,  1.26894832e+00, -1.76847547e-01,\n",
       "        -1.88051224e-01,  1.82114744e+00,  3.37239146e-01, -2.28556290e-01,\n",
       "        -1.34782553e-01, -5.70585012e-01, -3.27990800e-01,  1.39304495e+00,\n",
       "        -5.15242338e-01,  6.39480114e-01, -9.22988415e-01, -1.63785315e+00,\n",
       "         6.05131313e-02,  5.90690434e-01, -5.65061010e-02, -1.25680995e+00,\n",
       "         1.78677782e-01, -2.82666683e-01, -8.65301549e-01, -2.69975007e-01,\n",
       "         3.83850873e-01, -4.67628539e-02, -3.76228988e-01, -2.71726549e-01,\n",
       "         6.81959391e-01,  7.37987459e-02, -1.88150182e-01, -4.25512671e-01,\n",
       "         4.25436884e-01,  6.63923264e-01, -1.24539673e-01, -5.53672053e-02,\n",
       "         8.47970843e-01, -1.92128348e+00, -4.05363768e-01, -5.31486928e-01,\n",
       "        -6.44385815e-01, -4.64583874e-01,  1.32310078e-01, -5.10708749e-01,\n",
       "        -6.87587261e-01,  6.36428535e-01, -1.17072868e+00,  1.88955292e-01,\n",
       "         7.11658955e-01,  2.26676241e-01, -1.37236500e+00, -4.17279005e-02,\n",
       "        -4.25158590e-02,  2.54310489e-01, -3.48017573e-01,  8.63919854e-02,\n",
       "        -1.73785463e-02,  7.06603885e-01, -4.95996475e-01,  2.21323147e-01,\n",
       "         1.48840562e-01,  9.64473307e-01,  4.83459413e-01, -5.45444191e-01,\n",
       "        -1.68834284e-01, -4.77921307e-01,  3.13264132e-01, -2.48152107e-01,\n",
       "        -5.12589693e-01, -1.05679297e+00, -7.32374966e-01,  1.81453198e-01,\n",
       "         2.65957057e-01, -2.71090180e-01, -2.95627624e-01,  3.04579467e-01,\n",
       "        -5.25598764e-01,  6.69433475e-01, -8.69005263e-01, -2.21428886e-01,\n",
       "        -4.73708272e-01, -8.74132395e-01,  8.15505624e-01, -1.91076547e-02,\n",
       "         1.02754927e+00,  5.15668094e-01, -6.62080109e-01,  2.61258096e-01,\n",
       "        -7.12147653e-01, -8.07213038e-02, -3.32728326e-01, -2.94111669e-01,\n",
       "        -1.55646324e+00,  2.17402756e-01,  8.04843783e-01,  9.70865339e-02,\n",
       "        -1.21862531e+00, -2.76327431e-02,  1.18056166e+00, -5.23478270e-01,\n",
       "        -7.25683570e-01,  6.97714239e-02,  1.01630974e+00,  3.32508415e-01,\n",
       "         4.83754963e-01, -5.68367600e-01,  2.76657343e-02,  3.12049925e-01,\n",
       "         3.23672891e-01, -2.35758752e-01,  1.27629423e+00,  1.13875493e-01,\n",
       "         4.06577677e-01,  1.10640907e+00,  4.19788003e-01,  5.39053902e-02,\n",
       "         6.39084697e-01,  6.69859529e-01,  5.44954836e-01,  1.74977279e+00,\n",
       "        -1.27102137e-01,  6.48824573e-01, -1.26281291e-01, -7.04242468e-01,\n",
       "         1.79128811e-01, -1.00519049e+00,  9.47869346e-02, -8.62766802e-01,\n",
       "         1.99508950e-01, -8.72837067e-01,  1.33743137e-01,  3.35314751e-01,\n",
       "        -7.80030608e-01,  6.24794513e-04, -4.37327862e-01, -1.21792912e+00,\n",
       "        -8.99371922e-01, -3.24095786e-01,  2.83192486e-01,  4.54237133e-01,\n",
       "        -2.02245697e-01,  9.46913481e-01, -3.16748857e-01, -4.22945499e-01,\n",
       "         8.82860422e-01,  3.45912606e-01,  3.71248513e-01,  2.91643828e-01,\n",
       "         2.87759840e-01,  7.50984430e-01, -5.97532570e-01,  2.41892740e-01,\n",
       "        -3.70002061e-01,  5.86418033e-01, -2.72752941e-02,  3.70051831e-01,\n",
       "         1.95296094e-01, -3.75217013e-02,  1.16193485e+00,  1.45631886e+00,\n",
       "        -2.81021744e-01, -5.83868384e-01,  2.38086239e-01,  9.87183332e-01,\n",
       "         3.96108150e-01, -1.11416245e+00, -7.15761662e-01, -4.05087799e-01,\n",
       "        -4.00232255e-01, -9.46356893e-01,  1.22214746e+00, -3.99796486e-01,\n",
       "        -1.03629065e+00, -8.92347470e-02,  1.00792795e-02, -1.50618792e-01,\n",
       "        -6.26344025e-01, -1.02750731e+00, -5.76697350e-01,  4.79646474e-01,\n",
       "         8.54773641e-01,  4.10325825e-01, -6.53507352e-01,  6.28841996e-01,\n",
       "        -1.11964786e+00, -9.26749587e-01, -2.55736142e-01,  9.69482362e-01,\n",
       "        -3.61781240e-01, -6.77703738e-01,  5.70933819e-02,  3.19735736e-01,\n",
       "        -5.32592982e-02,  2.24476829e-01, -5.79151452e-01, -3.80352408e-01,\n",
       "        -3.15756686e-02,  7.03248560e-01, -7.40181923e-01, -7.40231514e-01,\n",
       "        -3.00615162e-01, -1.68145311e+00,  2.23279595e-02, -3.51434164e-02,\n",
       "         7.45094299e-01, -2.81024843e-01,  2.40158081e-01, -9.94073033e-01,\n",
       "        -7.08316386e-01, -5.78996480e-01,  2.00719789e-01, -7.27370203e-01,\n",
       "        -6.41697943e-01,  4.09398496e-01,  1.38766006e-01,  3.11076641e-01,\n",
       "        -1.66953713e-01,  5.90650558e-01, -1.57819465e-01,  6.30670309e-01,\n",
       "        -5.75968027e-01,  4.83132780e-01,  8.37172031e-01,  4.06704426e-01,\n",
       "        -5.81017554e-01,  8.46244514e-01, -5.81551909e-01, -1.09700787e+00,\n",
       "        -5.63492358e-01, -1.77047983e-01,  4.60848927e-01,  3.28128785e-03,\n",
       "        -1.20696354e+00, -9.66252238e-02,  2.67840117e-01,  4.11173761e-01,\n",
       "         5.92717171e-01,  2.46854067e-01, -1.38080084e+00, -1.22786188e+00,\n",
       "         2.41860747e-02,  1.12425733e+00,  4.14926857e-01,  1.08374262e+00,\n",
       "         9.63383198e-01, -4.63882536e-01,  6.32245839e-01,  1.87825918e-01,\n",
       "         1.52755618e-01, -1.06305107e-01,  7.86713004e-01,  5.11049479e-03,\n",
       "         1.44801044e+00,  1.29816246e+00,  6.08018756e-01, -1.27371296e-01,\n",
       "        -5.41700661e-01,  1.28171492e+00, -3.38619262e-01,  1.25702247e-01,\n",
       "         9.75921869e-01, -5.11363089e-01,  6.95610881e-01, -2.76281238e-01,\n",
       "        -4.76438046e-01, -5.57057440e-01, -6.62151635e-01, -6.94179386e-02,\n",
       "         8.81350040e-02,  2.75824994e-01, -1.01759601e+00, -9.60085839e-02,\n",
       "        -1.66668788e-01, -1.38994768e-01,  1.34568185e-01, -8.12245160e-03,\n",
       "        -8.28877926e-01,  6.43334150e-01,  5.97250462e-01,  5.38406074e-01,\n",
       "         5.57364345e-01,  2.02661231e-01,  6.69774055e-01, -4.77312028e-01,\n",
       "         9.90426779e-01, -3.80376160e-01,  1.03832431e-01, -9.36747789e-01,\n",
       "         4.73236293e-03,  2.75725663e-01, -2.81263202e-01, -1.16839755e+00,\n",
       "        -1.36653161e+00,  7.31128931e-01,  3.19087356e-01,  2.81599760e-01,\n",
       "        -5.34773827e-01, -1.45973444e-01,  4.40006196e-01, -1.10078812e+00,\n",
       "         6.63768768e-01,  1.20857155e+00, -5.06149948e-01, -6.35289550e-02,\n",
       "        -2.74737682e-02, -2.34838426e-02, -3.25575382e-01,  5.58169961e-01],\n",
       "       dtype=float32)}"
      ]
     },
     "execution_count": 11,
     "metadata": {},
     "output_type": "execute_result"
    }
   ],
   "source": [
    "graphs[0].nodes[2505799736]"
   ]
  },
  {
   "cell_type": "code",
   "execution_count": 12,
   "metadata": {},
   "outputs": [
    {
     "ename": "RuntimeError",
     "evalue": "Could not infer dtype of dict",
     "output_type": "error",
     "traceback": [
      "\u001b[0;31m---------------------------------------------------------------------------\u001b[0m",
      "\u001b[0;31mRuntimeError\u001b[0m                              Traceback (most recent call last)",
      "\u001b[1;32m/srv/local/data/scratch/keruiz2/CS411/temp.ipynb Cell 43'\u001b[0m in \u001b[0;36m<cell line: 1>\u001b[0;34m()\u001b[0m\n\u001b[0;32m----> <a href='vscode-notebook-cell://ssh-remote%2Bosprey1.csl.illinois.edu/srv/local/data/scratch/keruiz2/CS411/temp.ipynb#ch0000084vscode-remote?line=0'>1</a>\u001b[0m g \u001b[39m=\u001b[39m from_networkx(graphs[\u001b[39m0\u001b[39;49m], group_node_attrs\u001b[39m=\u001b[39;49m[\u001b[39m'\u001b[39;49m\u001b[39memb\u001b[39;49m\u001b[39m'\u001b[39;49m])\n",
      "File \u001b[0;32m~/miniconda3/envs/test2/lib/python3.9/site-packages/torch_geometric/utils/convert.py:178\u001b[0m, in \u001b[0;36mfrom_networkx\u001b[0;34m(G, group_node_attrs, group_edge_attrs)\u001b[0m\n\u001b[1;32m    <a href='file:///home/keruiz2/miniconda3/envs/test2/lib/python3.9/site-packages/torch_geometric/utils/convert.py?line=175'>176</a>\u001b[0m \u001b[39mfor\u001b[39;00m key, value \u001b[39min\u001b[39;00m data\u001b[39m.\u001b[39mitems():\n\u001b[1;32m    <a href='file:///home/keruiz2/miniconda3/envs/test2/lib/python3.9/site-packages/torch_geometric/utils/convert.py?line=176'>177</a>\u001b[0m     \u001b[39mtry\u001b[39;00m:\n\u001b[0;32m--> <a href='file:///home/keruiz2/miniconda3/envs/test2/lib/python3.9/site-packages/torch_geometric/utils/convert.py?line=177'>178</a>\u001b[0m         data[key] \u001b[39m=\u001b[39m torch\u001b[39m.\u001b[39;49mtensor(value)\n\u001b[1;32m    <a href='file:///home/keruiz2/miniconda3/envs/test2/lib/python3.9/site-packages/torch_geometric/utils/convert.py?line=178'>179</a>\u001b[0m     \u001b[39mexcept\u001b[39;00m \u001b[39mValueError\u001b[39;00m:\n\u001b[1;32m    <a href='file:///home/keruiz2/miniconda3/envs/test2/lib/python3.9/site-packages/torch_geometric/utils/convert.py?line=179'>180</a>\u001b[0m         \u001b[39mpass\u001b[39;00m\n",
      "\u001b[0;31mRuntimeError\u001b[0m: Could not infer dtype of dict"
     ]
    }
   ],
   "source": [
    "g = from_networkx(graphs[0], group_node_attrs=['emb'])"
   ]
  },
  {
   "cell_type": "code",
   "execution_count": 12,
   "metadata": {},
   "outputs": [],
   "source": [
    "a = deepcopy(graphs[0])"
   ]
  },
  {
   "cell_type": "code",
   "execution_count": 13,
   "metadata": {},
   "outputs": [],
   "source": [
    "for node in a.nodes:\n",
    "    del a.nodes[node]['pubs']"
   ]
  },
  {
   "cell_type": "code",
   "execution_count": 14,
   "metadata": {},
   "outputs": [
    {
     "name": "stderr",
     "output_type": "stream",
     "text": [
      "/home/keruiz2/miniconda3/envs/test2/lib/python3.9/site-packages/torch_geometric/utils/convert.py:178: UserWarning: Creating a tensor from a list of numpy.ndarrays is extremely slow. Please consider converting the list to a single numpy.ndarray with numpy.array() before converting to a tensor. (Triggered internally at  /opt/conda/conda-bld/pytorch_1646756402876/work/torch/csrc/utils/tensor_new.cpp:210.)\n",
      "  data[key] = torch.tensor(value)\n"
     ]
    }
   ],
   "source": [
    "g = from_networkx(a, group_node_attrs=['emb'])"
   ]
  },
  {
   "cell_type": "code",
   "execution_count": 18,
   "metadata": {},
   "outputs": [],
   "source": [
    "net_model = Net()\n",
    "net_model.load_state_dict(torch.load(\"save_model/checkpoints.gcn\"))\n",
    "net_model.eval()\n",
    "temp = net_model.encode(g.x.float(), g.edge_index)"
   ]
  },
  {
   "cell_type": "code",
   "execution_count": 21,
   "metadata": {},
   "outputs": [
    {
     "data": {
      "text/plain": [
       "[{'edge_index': tensor([[0, 0, 1, 1, 2, 2],\n",
       "         [1, 2, 0, 2, 0, 1]]), 'x': tensor([[-1.0602, -0.1022, -0.1451,  ..., -0.0235, -0.3256,  0.5582],\n",
       "         [-0.8126, -0.1739,  0.2327,  ...,  0.1626, -0.0941,  0.3809],\n",
       "         [-0.8126, -0.1739,  0.2327,  ...,  0.1626, -0.0941,  0.3809]])}]"
      ]
     },
     "execution_count": 21,
     "metadata": {},
     "output_type": "execute_result"
    }
   ],
   "source": [
    "g.node_stores"
   ]
  },
  {
   "cell_type": "code",
   "execution_count": 20,
   "metadata": {},
   "outputs": [
    {
     "data": {
      "text/plain": [
       "torch.Size([3, 64])"
      ]
     },
     "execution_count": 20,
     "metadata": {},
     "output_type": "execute_result"
    }
   ],
   "source": [
    "temp.shape"
   ]
  },
  {
   "cell_type": "markdown",
   "metadata": {},
   "source": [
    "## REST API"
   ]
  },
  {
   "cell_type": "code",
   "execution_count": 4,
   "metadata": {},
   "outputs": [],
   "source": [
    "r = requests.get(url='http://128.174.136.27:5000', params={'target' : target_author_id, 'title' : test_pub['title'], 'abstract' : test_pub['abstract']})"
   ]
  },
  {
   "cell_type": "code",
   "execution_count": 5,
   "metadata": {},
   "outputs": [
    {
     "data": {
      "text/plain": [
       "b'{\"belongs\":true,\"score\":0.9999966621398926,\"semantic_score\":0.9999966621398926}\\n'"
      ]
     },
     "execution_count": 5,
     "metadata": {},
     "output_type": "execute_result"
    }
   ],
   "source": [
    "r.content"
   ]
  },
  {
   "cell_type": "markdown",
   "metadata": {},
   "source": [
    "## Co-author model"
   ]
  },
  {
   "cell_type": "code",
   "execution_count": 3,
   "metadata": {},
   "outputs": [],
   "source": [
    "co_author_graph = nx.read_gpickle('co_author.gpickle')"
   ]
  },
  {
   "cell_type": "code",
   "execution_count": 6,
   "metadata": {},
   "outputs": [
    {
     "name": "stdout",
     "output_type": "stream",
     "text": [
      "2481136225\n"
     ]
    }
   ],
   "source": [
    "for fid in fname2magfids['jiawei han']:\n",
    "    if len(magfid2pids[fid]) > 2:\n",
    "        print(fid)\n",
    "        break"
   ]
  },
  {
   "cell_type": "code",
   "execution_count": 7,
   "metadata": {},
   "outputs": [
    {
     "data": {
      "text/plain": [
       "[2588653406, 2588130785, 2606596562, 2594747861]"
      ]
     },
     "execution_count": 7,
     "metadata": {},
     "output_type": "execute_result"
    }
   ],
   "source": [
    "magfid2pids[2481136225]"
   ]
  },
  {
   "cell_type": "code",
   "execution_count": 12,
   "metadata": {},
   "outputs": [
    {
     "data": {
      "text/plain": [
       "[2421381473, 2596073846, 2634032582, 2682291320]"
      ]
     },
     "execution_count": 12,
     "metadata": {},
     "output_type": "execute_result"
    }
   ],
   "source": [
    "list(co_author_graph.neighbors(fid))"
   ]
  },
  {
   "cell_type": "code",
   "execution_count": 3,
   "metadata": {},
   "outputs": [],
   "source": [
    "with open(\"data/co_author_graph.pickle\", \"rb\") as f:\n",
    "    G = pickle.load(f)"
   ]
  },
  {
   "cell_type": "code",
   "execution_count": 2,
   "metadata": {},
   "outputs": [],
   "source": [
    "with open(\"co_author_train.pickle\", \"rb\") as f:\n",
    "    G_ = pickle.load(f)"
   ]
  },
  {
   "cell_type": "code",
   "execution_count": null,
   "metadata": {},
   "outputs": [],
   "source": []
  },
  {
   "cell_type": "code",
   "execution_count": 4,
   "metadata": {},
   "outputs": [
    {
     "data": {
      "text/plain": [
       "511122"
      ]
     },
     "execution_count": 4,
     "metadata": {},
     "output_type": "execute_result"
    }
   ],
   "source": [
    "G.number_of_nodes()"
   ]
  },
  {
   "cell_type": "code",
   "execution_count": 12,
   "metadata": {},
   "outputs": [],
   "source": [
    "a = [type(G_.nodes[node]['emb']) == torch.Tensor for node in G_.nodes]"
   ]
  },
  {
   "cell_type": "code",
   "execution_count": 14,
   "metadata": {},
   "outputs": [],
   "source": [
    "temp_g = deepcopy(G_)"
   ]
  },
  {
   "cell_type": "code",
   "execution_count": 15,
   "metadata": {},
   "outputs": [],
   "source": [
    "for node in temp_g.nodes:\n",
    "    temp_g.nodes[node]['emb'] = temp_g.nodes[node]['emb'].numpy()"
   ]
  },
  {
   "cell_type": "code",
   "execution_count": 18,
   "metadata": {},
   "outputs": [],
   "source": [
    "with open('co_author_train.pickle', 'wb') as f_out:\n",
    "    pickle.dump(temp_g, f_out)"
   ]
  },
  {
   "cell_type": "code",
   "execution_count": 17,
   "metadata": {},
   "outputs": [
    {
     "ename": "AttributeError",
     "evalue": "'list' object has no attribute 'dim'",
     "output_type": "error",
     "traceback": [
      "\u001b[0;31m---------------------------------------------------------------------------\u001b[0m",
      "\u001b[0;31mAttributeError\u001b[0m                            Traceback (most recent call last)",
      "\u001b[1;32m/srv/local/data/scratch/keruiz2/CS411/temp.ipynb Cell 52'\u001b[0m in \u001b[0;36m<cell line: 1>\u001b[0;34m()\u001b[0m\n\u001b[0;32m----> <a href='vscode-notebook-cell://ssh-remote%2Bosprey1.csl.illinois.edu/srv/local/data/scratch/keruiz2/CS411/temp.ipynb#ch0000070vscode-remote?line=0'>1</a>\u001b[0m g \u001b[39m=\u001b[39m from_networkx(G_, group_node_attrs\u001b[39m=\u001b[39;49m[\u001b[39m'\u001b[39;49m\u001b[39memb\u001b[39;49m\u001b[39m'\u001b[39;49m])\n",
      "File \u001b[0;32m~/miniconda3/envs/test2/lib/python3.9/site-packages/torch_geometric/utils/convert.py:191\u001b[0m, in \u001b[0;36mfrom_networkx\u001b[0;34m(G, group_node_attrs, group_edge_attrs)\u001b[0m\n\u001b[1;32m    <a href='file:///home/keruiz2/miniconda3/envs/test2/lib/python3.9/site-packages/torch_geometric/utils/convert.py?line=188'>189</a>\u001b[0m \u001b[39mfor\u001b[39;00m key \u001b[39min\u001b[39;00m group_node_attrs:\n\u001b[1;32m    <a href='file:///home/keruiz2/miniconda3/envs/test2/lib/python3.9/site-packages/torch_geometric/utils/convert.py?line=189'>190</a>\u001b[0m     x \u001b[39m=\u001b[39m data[key]\n\u001b[0;32m--> <a href='file:///home/keruiz2/miniconda3/envs/test2/lib/python3.9/site-packages/torch_geometric/utils/convert.py?line=190'>191</a>\u001b[0m     x \u001b[39m=\u001b[39m x\u001b[39m.\u001b[39mview(\u001b[39m-\u001b[39m\u001b[39m1\u001b[39m, \u001b[39m1\u001b[39m) \u001b[39mif\u001b[39;00m x\u001b[39m.\u001b[39;49mdim() \u001b[39m<\u001b[39m\u001b[39m=\u001b[39m \u001b[39m1\u001b[39m \u001b[39melse\u001b[39;00m x\n\u001b[1;32m    <a href='file:///home/keruiz2/miniconda3/envs/test2/lib/python3.9/site-packages/torch_geometric/utils/convert.py?line=191'>192</a>\u001b[0m     xs\u001b[39m.\u001b[39mappend(x)\n\u001b[1;32m    <a href='file:///home/keruiz2/miniconda3/envs/test2/lib/python3.9/site-packages/torch_geometric/utils/convert.py?line=192'>193</a>\u001b[0m     \u001b[39mdel\u001b[39;00m data[key]\n",
      "\u001b[0;31mAttributeError\u001b[0m: 'list' object has no attribute 'dim'"
     ]
    }
   ],
   "source": [
    "g = from_networkx(G_, group_node_attrs=['emb'])"
   ]
  },
  {
   "cell_type": "code",
   "execution_count": 8,
   "metadata": {},
   "outputs": [
    {
     "data": {
      "text/plain": [
       "array([-3.83406907e-01, -2.29716578e-02,  1.32044069e-01, -4.23265263e-01,\n",
       "        3.60059410e-01,  2.48803705e-01,  1.57187540e-01, -1.50067512e-01,\n",
       "        2.00297039e-01,  4.60864693e-01,  1.43152304e-01,  9.72815268e-02,\n",
       "        1.59987584e-01,  1.26034940e-01, -3.75966802e-02,  3.24566543e-01,\n",
       "       -6.42810403e-02,  4.95905057e-02, -1.34060048e-01,  1.98774252e-01,\n",
       "        4.40339126e-01,  3.51164028e-01,  1.19269423e-01, -1.76217936e-01,\n",
       "        7.02541173e-02, -1.59523960e-01,  2.75054470e-01,  6.00995012e-02,\n",
       "       -1.94816194e-01,  5.12140438e-01, -3.04766186e-02, -3.38034771e-01,\n",
       "       -9.19010583e-03,  2.59515187e-01, -4.85355556e-02, -3.79484594e-02,\n",
       "        5.36845908e-01, -2.29275670e-01, -1.73151212e-01, -2.68819928e-03,\n",
       "        1.08135362e-01, -2.73428857e-03,  1.03329023e-01,  8.09529163e-02,\n",
       "       -2.60711253e-01,  3.27954397e-01,  1.54172681e-01, -3.49188834e-01,\n",
       "       -8.37259516e-02,  2.42574299e-01, -2.60069199e-01,  4.16072726e-01,\n",
       "       -1.48320301e-01,  1.10375978e-01,  2.75909722e-01, -4.46513370e-01,\n",
       "       -1.41843893e-01,  1.84924569e-01,  2.41233859e-01,  2.86826104e-01,\n",
       "       -3.64228562e-02,  2.71098165e-01, -1.01457797e-01, -9.01147325e-02,\n",
       "        3.38238891e-01,  1.17316308e-01, -2.94358976e-01, -5.46482373e-02,\n",
       "        7.57392105e-02,  2.33692087e-01, -1.30626000e-01,  6.69279620e-02,\n",
       "        1.25421315e-01,  2.25663535e-01, -2.56005108e-01, -1.86925452e-01,\n",
       "       -6.82895213e-01, -1.82883987e-01, -7.25584999e-02,  2.33527035e-01,\n",
       "       -3.66068788e-01,  9.24045965e-02,  1.17883506e-01, -4.88192394e-01,\n",
       "       -1.54747963e-02, -2.46803053e-01, -1.48151077e-01,  3.20503265e-02,\n",
       "        3.44914354e-01, -1.15641028e-01,  1.04879364e-02, -1.00192021e-01,\n",
       "        3.03251483e-01, -1.14937266e-01,  7.44498037e-02, -5.01489118e-01,\n",
       "       -5.33990394e-02, -9.94676724e-02, -1.70961281e-01, -2.98288763e-01,\n",
       "        1.27485108e-01,  2.79391693e-01, -2.47937500e-01, -9.21689421e-02,\n",
       "        1.22800512e-01, -2.23688440e-01, -5.36339186e-01,  1.05064385e-01,\n",
       "       -4.92588773e-01, -6.34287186e-02, -2.64102213e-01, -5.66030946e-02,\n",
       "        2.05550790e-02, -7.52121937e-02,  2.05294941e-01, -1.60760820e-01,\n",
       "       -1.55935462e-01,  1.09600365e-01, -5.07948905e-01,  5.77950120e-01,\n",
       "        2.24779596e-01, -7.39793703e-02, -2.81097218e-01,  4.34837133e-01,\n",
       "       -1.88541211e-01, -1.77305209e-01, -1.52491891e-01, -2.07592469e-01,\n",
       "       -2.28878897e-01, -5.66290817e-02, -1.15102693e-01, -3.20373291e-01,\n",
       "       -1.37494430e-01, -8.73566847e-02, -5.33554247e-02,  1.18851334e-01,\n",
       "       -2.83313988e-01, -2.65244186e-01,  2.84346752e-02,  1.40559841e-01,\n",
       "        7.54822008e-02,  3.72095093e-01,  2.84334277e-02,  1.27107624e-01,\n",
       "       -1.14151884e-01,  4.78446357e-01,  3.77331525e-02, -2.19140455e-01,\n",
       "        1.24320460e-01,  5.67910075e-03, -6.02056906e-02,  3.52042094e-02,\n",
       "        1.52133197e-01,  1.72000712e-01,  1.69051612e-01,  6.49416698e-02,\n",
       "        8.69012624e-02,  3.59243184e-01, -1.12537825e-02, -7.06976503e-02,\n",
       "        3.28305196e-02,  2.21420497e-01,  1.84587210e-01, -2.84325976e-01,\n",
       "       -3.61302085e-01, -3.88664603e-01,  7.40527511e-02, -6.63144663e-02,\n",
       "       -7.66852889e-02, -1.44780334e-01, -8.19747536e-02,  1.85946502e-01,\n",
       "       -1.86405372e-01, -1.25940396e-01,  9.50824732e-02,  3.49180028e-01,\n",
       "       -4.84179538e-02,  8.86515249e-02,  6.15115073e-02,  1.86957174e-01,\n",
       "       -4.58191261e-02, -1.21885329e-01, -9.34128463e-03,  1.39661882e-01,\n",
       "        3.14229205e-01,  8.17304291e-02,  5.37526309e-01, -1.16105705e-01,\n",
       "        1.13483078e-01, -6.69924710e-02, -1.88931564e-01,  1.11417197e-01,\n",
       "        1.37893811e-01, -3.78599457e-01, -3.81078169e-01, -2.73601644e-01,\n",
       "        1.56525373e-02, -4.80219170e-01, -2.31225003e-01,  3.05668190e-02,\n",
       "       -8.99296198e-02, -5.39005190e-01, -2.46397603e-01, -8.74450924e-02,\n",
       "        5.29618304e-01,  1.68967947e-01, -2.31025741e-01,  1.29814439e-01,\n",
       "        1.77155428e-01,  3.09323221e-01, -8.78755450e-02, -2.54232675e-01,\n",
       "        8.87637418e-02,  1.28485253e-01,  5.68534434e-02, -2.83663675e-01,\n",
       "        3.50991543e-02, -4.33935896e-02, -1.03136942e-01,  3.48398313e-02,\n",
       "        2.58204080e-01, -4.31521654e-01,  3.72201204e-01, -6.01518452e-01,\n",
       "        1.19350916e-01, -9.26367380e-02,  5.18195504e-01, -1.88661724e-01,\n",
       "        8.02932307e-02,  3.87525693e-01,  2.21911177e-01,  6.71459883e-02,\n",
       "       -1.90742489e-01, -2.65185989e-01, -5.47772348e-02,  3.20516080e-01,\n",
       "        3.05138033e-01,  1.69323526e-01, -8.42684861e-02,  2.18295306e-02,\n",
       "        3.11245255e-01,  7.27221705e-02,  4.20772970e-01,  3.04124266e-01,\n",
       "        7.96921328e-02, -3.28360915e-01,  2.12799508e-01,  5.45168877e-01,\n",
       "        1.62283782e-01,  3.40050027e-01,  6.46929257e-03, -5.97651452e-02,\n",
       "       -2.74462894e-01, -1.52660888e-01, -2.39543613e-01, -1.23243954e-01,\n",
       "       -2.43773513e-02,  3.26136202e-02,  3.55667047e-01,  3.92958984e-01,\n",
       "        1.83039835e-01,  1.38527241e-01,  3.45466055e-01,  2.71387696e-01,\n",
       "       -1.28523611e-01, -4.20321226e-02,  8.45790468e-03,  1.75647553e-01,\n",
       "       -5.72646365e-01, -2.59872220e-01,  1.06388983e-01, -1.30117745e-01,\n",
       "        1.64972432e-02, -1.07084684e-01, -5.68809453e-02, -3.58004589e-02,\n",
       "        3.24141249e-01, -1.48503371e-01,  2.34551579e-01,  2.64580339e-01,\n",
       "       -3.56110305e-01, -2.36076355e-01,  2.55603492e-01, -8.18370534e-02,\n",
       "        3.36655080e-01, -2.50525251e-02,  5.90328336e-01,  8.40039961e-02,\n",
       "       -1.90307304e-01,  1.18186243e-01, -2.03682035e-02, -1.12235658e-01,\n",
       "        2.87882909e-02, -5.88535696e-01, -2.57726107e-01, -7.18745142e-02,\n",
       "       -3.26006502e-01,  1.68436932e-01,  1.32321738e-01,  2.90406309e-01,\n",
       "       -3.09192841e-02,  3.88598135e-02, -1.76514737e-01,  3.67104486e-02,\n",
       "        9.88835797e-02, -3.59412609e-02,  3.03809477e-01,  3.02616559e-01,\n",
       "        1.42733753e-02,  1.52996305e-01, -2.31630647e-01, -8.29270817e-02,\n",
       "       -5.44962729e-03, -1.83518022e-01, -2.82027142e-02,  4.11657199e-01,\n",
       "        1.60888234e-01, -1.16416065e-01, -1.15161035e-01,  1.01144841e-01,\n",
       "        2.32666783e-01,  1.96623743e-01,  1.30725566e-01,  2.62830235e-01,\n",
       "       -6.33898228e-01,  4.55069542e-01,  2.51362193e-01, -1.00991552e-01,\n",
       "       -3.59166592e-01,  1.27615701e-01, -7.63891106e-02,  4.05633599e-01,\n",
       "       -3.00147086e-02,  1.84114501e-01, -1.16565987e-01, -1.14142533e-01,\n",
       "       -3.28485183e-02, -2.50098498e-02, -2.86718182e-01,  2.48730108e-01,\n",
       "       -2.30940968e-01,  1.69243529e-01,  4.81120214e-01, -2.89713785e-01,\n",
       "        1.93771543e-01, -1.63643122e-01,  2.40837313e-01,  6.44618459e-02,\n",
       "        1.92572661e-01, -5.70937455e-01,  3.40565369e-01, -4.31380272e-01,\n",
       "       -2.25061774e-01, -5.08566946e-02,  3.94920021e-01, -1.80578167e-01,\n",
       "       -1.54018691e-02, -3.18591610e-01, -1.03605991e-01,  7.33472407e-02,\n",
       "       -1.18299428e-01,  6.45684339e-02,  5.33175245e-02, -5.02727866e-01,\n",
       "       -1.33306002e-01,  1.47714020e-01, -4.64558601e-03,  1.50843933e-02,\n",
       "       -2.37742923e-01, -1.54089630e-01,  5.67657709e-01, -4.71239343e-01,\n",
       "        1.48615863e-01, -5.03446624e-01, -2.50913747e-01,  6.86434042e-02,\n",
       "       -6.38927286e-02,  2.16452181e-01,  2.06026955e-01, -4.26073968e-01,\n",
       "       -5.56075573e-03, -8.22928920e-03,  6.76833689e-02,  3.22863571e-01,\n",
       "        1.10952169e-01, -4.39567789e-01,  6.79659724e-01, -5.02886134e-02,\n",
       "        1.84033930e-01,  1.25702695e-01, -1.54643387e-01,  1.90554652e-02,\n",
       "        1.94644906e-01, -3.40596240e-01, -1.28989734e-01,  1.43736834e-03,\n",
       "       -1.48251658e-01,  1.75641759e-01, -4.77021560e-03, -7.86381103e-02,\n",
       "       -7.94758815e-02,  2.47551730e-01, -6.94304705e-03, -1.83715522e-02,\n",
       "        3.00733756e-01,  1.45661257e-01, -2.40505125e-01,  2.77827740e-01,\n",
       "       -1.45819378e-01,  9.22848368e-02,  8.92904662e-02, -1.02403112e-01,\n",
       "       -4.33014348e-01, -6.99672522e-02,  1.08720943e-01, -3.71229053e-02,\n",
       "        4.04985398e-01, -3.61314863e-01,  4.28677186e-01, -6.52742386e-03,\n",
       "        5.54892659e-02, -5.41377254e-03, -2.27344282e-02, -3.75955224e-01,\n",
       "       -2.77517289e-01,  3.24501555e-01,  1.88199412e-02,  2.62476288e-01,\n",
       "       -9.64782014e-02, -4.43105325e-02, -1.05081700e-01,  2.17281945e-01,\n",
       "        1.81215286e-01,  2.43947217e-01,  1.93078863e-01, -3.42708044e-02,\n",
       "        1.14458041e-02,  2.18158931e-01, -1.08728202e-01, -2.37596493e-01,\n",
       "       -2.11071812e-01, -5.47584146e-02,  3.62541564e-01, -1.51369322e-01,\n",
       "        1.06882825e-02,  6.81341272e-02,  4.11340505e-01,  1.17315492e-01,\n",
       "       -4.05780077e-01,  6.95945509e-02, -1.83271637e-01, -2.36111514e-01,\n",
       "       -3.29419188e-02,  3.82080926e-02,  2.86505288e-02, -2.51922429e-01,\n",
       "        9.89153758e-02, -4.18042503e-02, -8.01886544e-02,  9.52633768e-02,\n",
       "        3.69352058e-01, -7.41463415e-02, -1.79472955e-01, -1.37523871e-01,\n",
       "       -2.56339833e-01, -3.30256172e-01, -1.01289816e-01,  1.18640706e-01,\n",
       "        2.72569329e-01,  2.23656006e-01,  1.81184325e-01,  5.07642552e-02,\n",
       "        3.84822100e-01, -1.07248463e-01, -5.34000248e-02,  1.69615272e-01,\n",
       "        3.24549407e-01,  1.63353268e-01,  8.40815753e-02,  8.58824085e-02,\n",
       "        2.73864150e-01,  1.38776222e-01,  4.10663690e-02,  4.39515978e-01,\n",
       "        1.12595320e-01,  3.87581468e-01, -6.88638017e-02, -2.63794579e-01,\n",
       "        1.35059208e-02, -3.99340712e-01,  3.11213035e-01,  1.33538015e-01,\n",
       "        6.05650949e-02,  1.06789321e-02,  9.59463120e-02,  1.89560913e-02,\n",
       "       -1.43232289e-01,  3.00580636e-01, -2.39122905e-01, -1.18542096e-01,\n",
       "        5.42651415e-02, -1.37830134e-01, -3.16902086e-01,  3.10463880e-01,\n",
       "       -9.26305391e-02, -2.28035435e-01,  7.73126967e-02,  3.63021266e-01,\n",
       "       -2.40365878e-01, -4.64033112e-01,  2.39208270e-01,  2.87069687e-01,\n",
       "       -2.37440299e-01,  2.69911729e-02, -2.47872047e-01,  3.52169122e-02,\n",
       "        1.74620602e-01, -3.04116674e-01, -8.01947815e-02,  1.00388303e-01,\n",
       "        2.63936751e-01, -2.56652012e-04,  2.74098795e-02, -1.39731306e-01,\n",
       "       -1.72132328e-01, -4.55184430e-02, -2.24390596e-01, -5.05832404e-01,\n",
       "        2.41497919e-01, -2.19673976e-01,  8.46843407e-02,  6.26984197e-02,\n",
       "        2.29847264e-01, -8.14176574e-02, -4.84662160e-01,  1.61857858e-01,\n",
       "       -9.22726542e-02,  1.84538215e-02,  2.59270478e-01,  5.59144467e-03,\n",
       "        1.55427825e-01, -1.68348052e-01, -2.04963658e-01,  1.13399873e-01,\n",
       "        3.41365367e-01, -3.59361984e-01,  9.37143154e-02, -1.68052763e-01,\n",
       "       -2.01416947e-01,  3.44835520e-01,  2.47497045e-01,  1.69520801e-01,\n",
       "       -3.39684077e-01,  7.80568570e-02,  1.47870561e-01, -1.26633812e-01,\n",
       "        3.88852462e-01, -3.25615562e-01,  6.45243861e-02,  4.21599120e-01,\n",
       "       -3.21769882e-02, -7.29742870e-02,  5.41534975e-01, -4.17192038e-02,\n",
       "        2.57828608e-01, -3.55959330e-02,  6.29639290e-02, -6.67328686e-02,\n",
       "        1.99047327e-02,  1.45081751e-01,  8.22354797e-02,  1.16223122e-01,\n",
       "        3.17089953e-01,  2.21152529e-02, -3.08582678e-01,  4.32296291e-01,\n",
       "       -9.05101635e-02,  2.23464780e-02, -5.20446569e-01, -5.37883759e-01,\n",
       "       -1.93787120e-01, -7.33223651e-03,  7.61462450e-02, -3.59356795e-02,\n",
       "       -1.74679574e-01, -1.28092270e-01,  1.09266065e-01,  3.36313188e-01,\n",
       "        1.06266391e-01,  1.86912723e-01,  7.75532983e-03,  3.91017325e-01,\n",
       "       -1.89097535e-01, -1.94624342e-01, -9.42512304e-02,  3.84608135e-02,\n",
       "       -8.00251048e-02,  2.02024505e-02, -1.11844515e-01,  3.00807566e-02])"
      ]
     },
     "execution_count": 8,
     "metadata": {},
     "output_type": "execute_result"
    }
   ],
   "source": [
    "G.nodes[list(G.nodes)[0]]['embedding']"
   ]
  },
  {
   "cell_type": "code",
   "execution_count": 41,
   "metadata": {},
   "outputs": [
    {
     "data": {
      "text/plain": [
       "602770"
      ]
     },
     "execution_count": 41,
     "metadata": {},
     "output_type": "execute_result"
    }
   ],
   "source": [
    "G.number_of_edges()"
   ]
  },
  {
   "cell_type": "code",
   "execution_count": 19,
   "metadata": {},
   "outputs": [],
   "source": [
    "g = from_networkx(G, group_node_attrs=['embedding'])"
   ]
  },
  {
   "cell_type": "code",
   "execution_count": 20,
   "metadata": {},
   "outputs": [],
   "source": [
    "train_loader = NeighborLoader(data=g, num_neighbors=[5, 5, 5], batch_size=128, \n",
    "                               shuffle=True, num_workers=12, directed = False)"
   ]
  },
  {
   "cell_type": "code",
   "execution_count": 21,
   "metadata": {},
   "outputs": [
    {
     "data": {
      "text/plain": [
       "3994"
      ]
     },
     "execution_count": 21,
     "metadata": {},
     "output_type": "execute_result"
    }
   ],
   "source": [
    "len(train_loader)"
   ]
  },
  {
   "cell_type": "code",
   "execution_count": 59,
   "metadata": {},
   "outputs": [],
   "source": [
    "for sample in train_loader:\n",
    "    break"
   ]
  },
  {
   "cell_type": "code",
   "execution_count": 60,
   "metadata": {},
   "outputs": [
    {
     "data": {
      "text/plain": [
       "<bound method BaseData.size of Data(edge_index=[2, 50150], c=[14510261], num_nodes=7933, batch_size=128)>"
      ]
     },
     "execution_count": 60,
     "metadata": {},
     "output_type": "execute_result"
    }
   ],
   "source": [
    "sample.size"
   ]
  },
  {
   "cell_type": "code",
   "execution_count": null,
   "metadata": {},
   "outputs": [],
   "source": [
    "co_author = 'Jiawei Han'\n",
    "aw_candidate_ids = fname2awfids.get(co_author.lower())\n",
    "if aw_candidate_ids is not None:\n",
    "    aw_graphs = generate_graphs(aw_candidate_ids, awfid2pids, pid2awfids)\n",
    "\n",
    "mag_candidate_ids = fname2magfids.get(co_author.lower())\n",
    "if mag_candidate_ids is not None:\n",
    "    mag_graphs = generate_graphs(mag_candidate_ids, magfid2pids, pid2magfids)"
   ]
  },
  {
   "cell_type": "code",
   "execution_count": null,
   "metadata": {},
   "outputs": [],
   "source": [
    "max([len(list(mag_graphs[i].nodes)) for i in range(len(mag_graphs))])"
   ]
  },
  {
   "cell_type": "code",
   "execution_count": null,
   "metadata": {},
   "outputs": [],
   "source": [
    "mag_graphs[0].nodes[2721444824]['pids']"
   ]
  },
  {
   "cell_type": "code",
   "execution_count": null,
   "metadata": {},
   "outputs": [],
   "source": [
    "cursor.execute('show databases;')"
   ]
  },
  {
   "cell_type": "code",
   "execution_count": null,
   "metadata": {},
   "outputs": [],
   "source": [
    "cursor.execute('use mag_2020_09_14;')"
   ]
  },
  {
   "cell_type": "code",
   "execution_count": 24,
   "metadata": {},
   "outputs": [],
   "source": [
    "cursor.execute('show tables;')"
   ]
  },
  {
   "cell_type": "code",
   "execution_count": 10,
   "metadata": {},
   "outputs": [],
   "source": [
    "cursor.execute('describe authors;')"
   ]
  },
  {
   "cell_type": "code",
   "execution_count": 26,
   "metadata": {},
   "outputs": [],
   "source": [
    "cursor.execute('describe paperauthoraffiliations;')"
   ]
  },
  {
   "cell_type": "code",
   "execution_count": 27,
   "metadata": {},
   "outputs": [
    {
     "name": "stdout",
     "output_type": "stream",
     "text": [
      "('PaperId', b'bigint', 'NO', 'MUL', None, '')\n",
      "('AuthorId', b'bigint', 'NO', 'MUL', None, '')\n",
      "('AffiliationId', b'bigint', 'YES', 'MUL', None, '')\n",
      "('AuthorSequenceNumber', b'int', 'YES', '', None, '')\n"
     ]
    }
   ],
   "source": [
    "myresult = cursor.fetchall()\n",
    "for x in myresult:\n",
    "    print(x)"
   ]
  },
  {
   "cell_type": "code",
   "execution_count": null,
   "metadata": {},
   "outputs": [],
   "source": [
    "cursor.execute('select Abstract from paperabstracts where PaperId in (%s)' % ','.join([str(pid) for pid in mag_graphs[0].nodes[2721444824]['pids']]))"
   ]
  },
  {
   "cell_type": "code",
   "execution_count": 13,
   "metadata": {},
   "outputs": [],
   "source": [
    "cursor.execute('select PaperId, PaperTitle from papers where PaperId in (%s)' % ','.join([str(pid) for pid in known_pubs]))"
   ]
  },
  {
   "cell_type": "code",
   "execution_count": null,
   "metadata": {},
   "outputs": [],
   "source": [
    "cursor.execute('select * from authors where DisplayName=\"Jiawei Han\" limit 5')"
   ]
  },
  {
   "cell_type": "code",
   "execution_count": null,
   "metadata": {},
   "outputs": [],
   "source": [
    "cursor.execute('select * from paperauthoraffiliations where PaperId=21366')"
   ]
  }
 ],
 "metadata": {
  "interpreter": {
   "hash": "a9c7e6a376f2381ce584cd33259e87a1795226bafbf9464c983b7a0ecc23664a"
  },
  "kernelspec": {
   "display_name": "Python 3.9.12 ('test2')",
   "language": "python",
   "name": "python3"
  },
  "language_info": {
   "codemirror_mode": {
    "name": "ipython",
    "version": 3
   },
   "file_extension": ".py",
   "mimetype": "text/x-python",
   "name": "python",
   "nbconvert_exporter": "python",
   "pygments_lexer": "ipython3",
   "version": "3.9.12"
  },
  "orig_nbformat": 4
 },
 "nbformat": 4,
 "nbformat_minor": 2
}
