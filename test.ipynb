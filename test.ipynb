{
 "cells": [
  {
   "cell_type": "code",
   "execution_count": 1,
   "metadata": {},
   "outputs": [
    {
     "name": "stdout",
     "output_type": "stream",
     "text": [
      "[63650, [63650, 386221, 392035, 497249], [63638, 63639, 63640, 63643, 63644, 63645, 63646, 63647, 63648, 63649, 63651, 63652]]\n"
     ]
    }
   ],
   "source": [
    "import pickle\n",
    "from tqdm import tqdm\n",
    "import matplotlib.pyplot as plt\n",
    "\n",
    "\n",
    "\n",
    "with open(\"data/train_list.pickle\", \"rb\") as f:\n",
    "    test_pairs = pickle.load(f)\n",
    "\n",
    "print(test_pairs[0])"
   ]
  },
  {
   "cell_type": "code",
   "execution_count": 2,
   "metadata": {},
   "outputs": [
    {
     "name": "stderr",
     "output_type": "stream",
     "text": [
      "100%|██████████| 12935/12935 [00:00<00:00, 1394794.51it/s]\n"
     ]
    },
    {
     "name": "stdout",
     "output_type": "stream",
     "text": [
      "17.76420564360263\n"
     ]
    },
    {
     "data": {
      "image/png": "[encoded data removed]",
      "text/plain": [
       "<Figure size 432x288 with 1 Axes>"
      ]
     },
     "metadata": {
      "needs_background": "light"
     },
     "output_type": "display_data"
    }
   ],
   "source": [
    "\n",
    "# same name author (>= 4 for each name)\n",
    "sum_author_num = 0\n",
    "author_count = {}\n",
    "for j in tqdm(test_pairs, total=len(test_pairs)):\n",
    "    sum_author_num = sum_author_num + len(j[1])\n",
    "    if len(j[1]) not in author_count:\n",
    "        author_count[len(j[1])] = 0\n",
    "    author_count[len(j[1])] += 1\n",
    "\n",
    "print(sum_author_num / len(test_pairs))\n",
    "\n",
    "plt.bar(author_count.keys(), author_count.values())\n",
    "plt.show()"
   ]
  },
  {
   "cell_type": "code",
   "execution_count": 3,
   "metadata": {},
   "outputs": [
    {
     "name": "stderr",
     "output_type": "stream",
     "text": [
      "100%|██████████| 12935/12935 [00:00<00:00, 1414504.56it/s]"
     ]
    },
    {
     "name": "stdout",
     "output_type": "stream",
     "text": [
      "4.077000386548125\n"
     ]
    },
    {
     "name": "stderr",
     "output_type": "stream",
     "text": [
      "\n"
     ]
    },
    {
     "data": {
      "image/png": "[encoded data removed]",
      "text/plain": [
       "<Figure size 432x288 with 1 Axes>"
      ]
     },
     "metadata": {
      "needs_background": "light"
     },
     "output_type": "display_data"
    }
   ],
   "source": [
    "# co-author\n",
    "sum_author_num = 0\n",
    "author_count = {}\n",
    "for j in tqdm(test_pairs, total=len(test_pairs)):\n",
    "    sum_author_num = sum_author_num + len(j[2])\n",
    "    if len(j[2]) not in author_count:\n",
    "        author_count[len(j[2])] = 0\n",
    "    author_count[len(j[2])] += 1\n",
    "\n",
    "print(sum_author_num / len(test_pairs))\n",
    "\n",
    "plt.bar(author_count.keys(), author_count.values())\n",
    "plt.show()"
   ]
  }
 ],
 "metadata": {
  "interpreter": {
   "hash": "74db9ac259881274924d815048c69936e17fff157c60807de1849f3ba305deca"
  },
  "kernelspec": {
   "display_name": "Python 3.9.12 ('nlp')",
   "language": "python",
   "name": "python3"
  },
  "language_info": {
   "codemirror_mode": {
    "name": "ipython",
    "version": 3
   },
   "file_extension": ".py",
   "mimetype": "text/x-python",
   "name": "python",
   "nbconvert_exporter": "python",
   "pygments_lexer": "ipython3",
   "version": "3.9.12"
  },
  "orig_nbformat": 4
 },
 "nbformat": 4,
 "nbformat_minor": 2
}
